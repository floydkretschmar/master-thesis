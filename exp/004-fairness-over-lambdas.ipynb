{
 "cells": [
  {
   "cell_type": "markdown",
   "execution_count": null,
   "metadata": {},
   "outputs": [],
   "source": [
    "# Implementation of different versions of the benefit difference fairness function"
   ]
  },
  {
   "cell_type": "code",
   "execution_count": null,
   "metadata": {},
   "outputs": [],
   "source": [
    "import os\n",
    "import sys\n",
    "module_path = os.path.abspath(os.path.join('..'))\n",
    "if module_path not in sys.path:\n",
    "    sys.path.append(module_path)\n",
    "\n",
    "import numpy as np\n",
    "import multiprocessing as mp\n",
    "from src.feature_map import IdentityFeatureMap\n",
    "from src.functions import cost_utility, demographic_parity\n",
    "from src.plotting import plot_results_over_lambdas\n",
    "from src.training import train_multiple"
   ]
  },
  {
   "cell_type": "markdown",
   "execution_count": null,
   "metadata": {},
   "outputs": [],
   "source": [
    "## The parameters used by the the original authors  "
   ]
  },
  {
   "cell_type": "code",
   "execution_count": null,
   "metadata": {},
   "outputs": [],
   "source": [
    "dim_x = 1\n",
    "training_parameters = {\n",
    "    'keep_collected_data': False,\n",
    "    'use_sensitve_attributes': False,\n",
    "    'time_steps':200,\n",
    "    'batch_size':512,\n",
    "    'num_iterations': 32,\n",
    "    'learning_parameters': {\n",
    "        'learning_rate': 0.5,\n",
    "        'decay_rate': 0.8,\n",
    "        'decay_step': 30\n",
    "    },\n",
    "    #'fairness_rate':1000,\n",
    "    'fraction_protected':0.5,\n",
    "    'num_test_samples': 2000,\n",
    "    'bias': True,\n",
    "    'benefit_value_function': demographic_parity\n",
    "}\n",
    "def util_func(**util_params):\n",
    "    util = cost_utility(cost_factor=0.55, **util_params)\n",
    "    return util\n",
    "\n",
    "dim_theta = dim_x + 1 if training_parameters['bias'] else dim_x\n",
    "training_parameters['theta'] = [-3.5, 0.6]\n",
    "training_parameters['feature_map'] = IdentityFeatureMap(dim_theta)\n",
    "training_parameters['num_decisions'] = training_parameters['num_iterations'] * training_parameters['batch_size']\n",
    "training_parameters['utility_value_function'] = util_func\n"
   ]
  },
  {
   "cell_type": "markdown",
   "execution_count": null,
   "metadata": {},
   "outputs": [],
   "source": [
    "## Correct Benefit Difference"
   ]
  },
  {
   "cell_type": "code",
   "execution_count": null,
   "metadata": {},
   "outputs": [],
   "source": [
    "def fairness_function(**fairness_kwargs):\n",
    "    policy = fairness_kwargs[\"policy\"]\n",
    "    x = fairness_kwargs[\"x\"]\n",
    "    s = fairness_kwargs[\"s\"]\n",
    "    y = fairness_kwargs[\"y\"]\n",
    "    decisions = fairness_kwargs[\"decisions\"]\n",
    "    ips_weights = fairness_kwargs[\"ips_weights\"]\n",
    "\n",
    "    benefit = policy.benefit_function(decisions=decisions, y=y)\n",
    "    phi = policy.feature_map(policy._extract_features(x, s))\n",
    "    denominator = np.expand_dims((1.0 + np.exp(np.matmul(phi, policy.theta))), axis=1)\n",
    "\n",
    "    benefit_grad = benefit * phi/denominator\n",
    "\n",
    "    if ips_weights is not None:\n",
    "        benefit *= ips_weights\n",
    "        benefit_grad *= ips_weights\n",
    "        \n",
    "    # benefit-difference * grad-benefit-difference\n",
    "    return policy._mean_difference(benefit, s) * policy._mean_difference(benefit_grad, s)\n",
    "\n",
    "training_parameters['fairness_function'] = fairness_function\n",
    "lambdas = np.logspace(-1, 5, base=10, endpoint=True, num=10)\n",
    "lambdas = np.insert(arr=lambdas, obj=0, values=[0.0])\n",
    "\n",
    "results = train_multiple(training_parameters, iterations=5, lambdas=lambdas, verbose=True)\n",
    "plot_results_over_lambdas(\n",
    "    training_parameters[\"utility_stats\"][\"mean\"], \n",
    "    training_parameters[\"utility_stats\"][\"max\"], \n",
    "    training_parameters[\"utility_stats\"][\"min\"], \n",
    "    training_parameters[\"benefit_delta_stats\"][\"mean\"], \n",
    "    training_parameters[\"benefit_delta_stats\"][\"max\"], \n",
    "    training_parameters[\"benefit_delta_stats\"][\"min\"], \n",
    "    lambdas, \n",
    "    file_path=\"results.png\")"
   ]
  },
  {
   "cell_type": "code",
   "execution_count": null,
   "metadata": {},
   "outputs": [],
   "source": []
  }
 ],
 "metadata": {
  "file_extension": ".py",
  "kernelspec": {
   "display_name": "Python 3.7.4 64-bit ('miniconda3': virtualenv)",
   "language": "python",
   "name": "python37464bitminiconda3virtualenv5e66bc8af94a4b3dad75094b6163158a"
  },
  "language_info": {
   "codemirror_mode": {
    "name": "ipython",
    "version": 3
   },
   "file_extension": ".py",
   "mimetype": "text/x-python",
   "name": "python",
   "nbconvert_exporter": "python",
   "pygments_lexer": "ipython3",
   "version": "3.7.4-final"
  },
  "mimetype": "text/x-python",
  "name": "python",
  "npconvert_exporter": "python",
  "pygments_lexer": "ipython3",
  "version": 3
 },
 "nbformat": 4,
 "nbformat_minor": 2
}