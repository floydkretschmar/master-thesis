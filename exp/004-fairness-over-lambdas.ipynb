{
 "cells": [
  {
   "cell_type": "markdown",
   "execution_count": null,
   "metadata": {},
   "outputs": [],
   "source": [
    "# Implementation of different versions of the benefit difference fairness function"
   ]
  },
  {
   "cell_type": "code",
   "execution_count": null,
   "metadata": {},
   "outputs": [],
   "source": [
    "import os\n",
    "import sys\n",
    "module_path = os.path.abspath(os.path.join('..'))\n",
    "if module_path not in sys.path:\n",
    "    sys.path.append(module_path)\n",
    "\n",
    "import numpy as np\n",
    "import multiprocessing as mp\n",
    "from src.util import sigmoid\n",
    "from src.feature_map import IdentityFeatureMap\n",
    "from src.functions import cost_utility, demographic_parity\n",
    "from src.plotting import plot_results_over_lambdas\n",
    "from src.training import train_multiple"
   ]
  },
  {
   "cell_type": "markdown",
   "execution_count": null,
   "metadata": {},
   "outputs": [],
   "source": [
    "## The parameters used by the the original authors  "
   ]
  },
  {
   "cell_type": "code",
   "execution_count": null,
   "metadata": {},
   "outputs": [],
   "source": [
    "bias = True\n",
    "dim_x = 1\n",
    "dim_theta = dim_x + 1 if bias else dim_x\n",
    "\n",
    "lambdas = np.logspace(1, 5, base=10, endpoint=True, num=5)\n",
    "#lambdas = np.insert(arr=lambdas, obj=0, values=[0.0])\n",
    "\n",
    "def util_func(**util_params):\n",
    "    util = cost_utility(cost_factor=0.55, **util_params)\n",
    "    return util\n",
    "\n",
    "training_parameters = {    \n",
    "    'model':{\n",
    "        'theta': [-3.5, 0.6],\n",
    "        'benefit_value_function': demographic_parity,\n",
    "        'utility_value_function': util_func,\n",
    "        'feature_map': IdentityFeatureMap(dim_theta),\n",
    "        'keep_collected_data': False,\n",
    "        'use_sensitve_attributes': False,\n",
    "        'bias': bias\n",
    "    },\n",
    "    'optimization': {\n",
    "        'time_steps':200,\n",
    "        'epochs': 32,\n",
    "        'batch_size':512,\n",
    "        'learning_rate': 0.5,\n",
    "        'decay_rate': 0.8,\n",
    "        'decay_step': 30,\n",
    "        'fairness_rates': lambdas\n",
    "    },\n",
    "    'data': {\n",
    "        'fraction_protected':0.5,\n",
    "        'num_test_samples': 2000,\n",
    "        'num_decisions': 32 * 512\n",
    "    }\n",
    "}\n",
    ""
   ]
  },
  {
   "cell_type": "markdown",
   "execution_count": null,
   "metadata": {},
   "outputs": [],
   "source": [
    "## Correct Benefit Difference"
   ]
  },
  {
   "cell_type": "code",
   "execution_count": null,
   "metadata": {},
   "outputs": [],
   "source": [
    "def fairness_function(**fairness_kwargs):\n",
    "    policy = fairness_kwargs[\"policy\"]\n",
    "    x = fairness_kwargs[\"x\"]\n",
    "    s = fairness_kwargs[\"s\"]\n",
    "    y = fairness_kwargs[\"y\"]\n",
    "    decisions = fairness_kwargs[\"decisions\"]\n",
    "    ips_weights = fairness_kwargs[\"ips_weights\"]\n",
    "\n",
    "    benefit = policy.benefit_function(decisions=decisions, y=y)\n",
    "    log_gradient = policy._log_gradient(x, s)\n",
    "    benefit_grad = benefit * log_gradient\n",
    "\n",
    "    if ips_weights is not None:\n",
    "        benefit *= ips_weights\n",
    "        benefit_grad *= ips_weights\n",
    "        \n",
    "    # benefit-difference * grad-benefit-difference\n",
    "    return policy._mean_difference(benefit, s) * policy._mean_difference(benefit_grad, s)\n",
    "\n",
    "training_parameters[\"model\"]['fairness_function'] = fairness_function\n",
    "\n",
    "results = train_multiple(training_parameters, iterations=20, verbose=True, asynchronous=False)\n",
    "plot_results_over_lambdas(\n",
    "    results[\"utility_stats\"][\"mean\"], \n",
    "    results[\"utility_stats\"][\"stddev\"], \n",
    "    results[\"benefit_delta_stats\"][\"mean\"], \n",
    "    results[\"benefit_delta_stats\"][\"stddev\"], \n",
    "    lambdas, \n",
    "    file_path=\"results.png\")"
   ]
  },
  {
   "cell_type": "code",
   "execution_count": null,
   "metadata": {},
   "outputs": [],
   "source": []
  }
 ],
 "metadata": {
  "file_extension": ".py",
  "kernelspec": {
   "display_name": "Python 3.7.4 64-bit ('miniconda3': virtualenv)",
   "language": "python",
   "name": "python37464bitminiconda3virtualenv5e66bc8af94a4b3dad75094b6163158a"
  },
  "language_info": {
   "codemirror_mode": {
    "name": "ipython",
    "version": 3
   },
   "file_extension": ".py",
   "mimetype": "text/x-python",
   "name": "python",
   "nbconvert_exporter": "python",
   "pygments_lexer": "ipython3",
   "version": "3.7.4-final"
  },
  "mimetype": "text/x-python",
  "name": "python",
  "npconvert_exporter": "python",
  "pygments_lexer": "ipython3",
  "version": 3
 },
 "nbformat": 4,
 "nbformat_minor": 2
}