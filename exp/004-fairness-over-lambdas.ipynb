{
 "cells": [
  {
   "cell_type": "markdown",
   "execution_count": null,
   "metadata": {},
   "outputs": [],
   "source": [
    "# Implementation of different versions of the benefit difference fairness function"
   ]
  },
  {
   "cell_type": "code",
   "execution_count": 1,
   "metadata": {},
   "outputs": [],
   "source": [
    "import os\n",
    "import sys\n",
    "module_path = os.path.abspath(os.path.join('..'))\n",
    "if module_path not in sys.path:\n",
    "    sys.path.append(module_path)\n",
    "\n",
    "import numpy as np\n",
    "import multiprocessing as mp\n",
    "from src.consequential_learning import train\n",
    "from src.feature_map import IdentityFeatureMap\n",
    "from src.functions import cost_utility, demographic_parity\n",
    "from src.plotting import plot_results_over_lambdas"
   ]
  },
  {
   "cell_type": "markdown",
   "execution_count": null,
   "metadata": {},
   "outputs": [],
   "source": [
    "## The parameters used by the the original authors  "
   ]
  },
  {
   "cell_type": "code",
   "execution_count": 2,
   "metadata": {},
   "outputs": [],
   "source": [
    "dim_x = 1\n",
    "training_parameters = {\n",
    "    'keep_collected_data': False,\n",
    "    'use_sensitve_attributes': False,\n",
    "    'time_steps':200,\n",
    "    'batch_size':512,\n",
    "    'num_iterations': 32,\n",
    "    'learning_parameters': {\n",
    "        'learning_rate': 0.5,\n",
    "        'decay_rate': 0.8,\n",
    "        'decay_step': 30\n",
    "    },\n",
    "    #'fairness_rate':1000,\n",
    "    'fraction_protected':0.5,\n",
    "    'num_test_samples': 2000,\n",
    "    'bias': True,\n",
    "    'benefit_value_function': demographic_parity\n",
    "}\n",
    "def util_func(**util_params):\n",
    "    util = cost_utility(cost_factor=0.55, **util_params)\n",
    "    return util\n",
    "\n",
    "dim_theta = dim_x + 1 if training_parameters['bias'] else dim_x\n",
    "training_parameters['theta'] = [-3.5, 0.6]\n",
    "training_parameters['feature_map'] = IdentityFeatureMap(dim_theta)\n",
    "training_parameters['num_decisions'] = training_parameters['num_iterations'] * training_parameters['batch_size']\n",
    "training_parameters['utility_value_function'] = util_func\n"
   ]
  },
  {
   "cell_type": "markdown",
   "execution_count": null,
   "metadata": {},
   "outputs": [],
   "source": [
    "## Training loop"
   ]
  },
  {
   "cell_type": "code",
   "execution_count": 3,
   "metadata": {},
   "outputs": [],
   "source": [
    "result_list = []\n",
    "def log_result(result):\n",
    "    result_list.append(result)\n",
    "\n",
    "def train_single(training_parameters, lamb):\n",
    "    training_parameters[\"fairness_rate\"] = lamb\n",
    "\n",
    "    for utility, benefit_delta in train(**training_parameters):\n",
    "        pass\n",
    "\n",
    "    return utility, benefit_delta\n",
    "\n",
    "def train_multiple(training_parameters, iterations_per_lambda, number_of_lambdas=50):\n",
    "    mean_utilities = []\n",
    "    max_utilities = []\n",
    "    min_utilities = []\n",
    "    mean_benefit_differences = []\n",
    "    max_benefit_differences = []\n",
    "    min_benefit_differences = []\n",
    "    lambdas = []\n",
    "\n",
    "    for i, lamb in enumerate(np.logspace(-1, 5, base=10, endpoint=True, num=number_of_lambdas)):\n",
    "        global result_list\n",
    "        lambdas.append(lamb)\n",
    "        benefit_deltas = []\n",
    "        utilities = []\n",
    "        print(\"Current Lambda: {}\".format(lamb))\n",
    "        \n",
    "        # multithreaded runs of training\n",
    "        pool = mp.Pool(mp.cpu_count())\n",
    "        for j in range(1, iterations_per_lambda+1):\n",
    "            pool.apply_async(train_single, args=(training_parameters, lamb), callback = log_result) \n",
    "        pool.close()\n",
    "        pool.join()\n",
    "        \n",
    "        results = np.array(result_list)\n",
    "        result_list = []\n",
    "        benefit_deltas = results[:,0]\n",
    "        utilities = results[:,1]\n",
    "\n",
    "        mean_utilities.append(utilities.mean())\n",
    "        max_utilities.append(utilities.max())\n",
    "        min_utilities.append(utilities.min())\n",
    "        mean_benefit_differences.append(benefit_deltas.mean())\n",
    "        max_benefit_differences.append(benefit_deltas.max())\n",
    "        min_benefit_differences.append(benefit_deltas.min())\n",
    "\n",
    "        # plot_results_over_lambdas(mean_utilities, max_utilities, min_utilities, mean_benefit_differences, max_benefit_differences, min_benefit_differences, lambdas, \"results_iter_{}.png\".format(i))\n",
    "    \n",
    "    plot_results_over_lambdas(mean_utilities, max_utilities, min_utilities, mean_benefit_differences, max_benefit_differences, min_benefit_differences, lambdas, \"results_final.png\")"
   ]
  },
  {
   "cell_type": "markdown",
   "execution_count": null,
   "metadata": {},
   "outputs": [],
   "source": [
    "## Correct Benefit Difference"
   ]
  },
  {
   "cell_type": "code",
   "execution_count": 5,
   "metadata": {},
   "outputs": [
    {
     "name": "stdout",
     "output_type": "stream",
     "text": "Current Lambda: 0.1\nCurrent Lambda: 0.46415888336127786\nCurrent Lambda: 2.1544346900318834\nCurrent Lambda: 10.0\nCurrent Lambda: 46.41588833612777\nCurrent Lambda: 215.44346900318823\nCurrent Lambda: 1000.0\nCurrent Lambda: 4641.588833612773\nCurrent Lambda: 21544.346900318822\n/home/fkretschmar/Documents/master-thesis/src/policy.py:301: RuntimeWarning: overflow encountered in exp\n  denominator = np.expand_dims(1.0 + np.exp(np.matmul(phi, self.theta)), axis=1)\n/home/fkretschmar/Documents/master-thesis/src/policy.py:301: RuntimeWarning: overflow encountered in exp\n  denominator = np.expand_dims(1.0 + np.exp(np.matmul(phi, self.theta)), axis=1)\n/home/fkretschmar/miniconda3/lib/python3.7/site-packages/ipykernel_launcher.py:11: RuntimeWarning: overflow encountered in exp\n  # This is added back by InteractiveShellApp.init_path()\n/home/fkretschmar/miniconda3/lib/python3.7/site-packages/ipykernel_launcher.py:11: RuntimeWarning: overflow encountered in exp\n  # This is added back by InteractiveShellApp.init_path()\n/home/fkretschmar/Documents/master-thesis/src/policy.py:301: RuntimeWarning: overflow encountered in exp\n  denominator = np.expand_dims(1.0 + np.exp(np.matmul(phi, self.theta)), axis=1)\n/home/fkretschmar/Documents/master-thesis/src/policy.py:301: RuntimeWarning: overflow encountered in exp\n  denominator = np.expand_dims(1.0 + np.exp(np.matmul(phi, self.theta)), axis=1)\n/home/fkretschmar/miniconda3/lib/python3.7/site-packages/ipykernel_launcher.py:11: RuntimeWarning: overflow encountered in exp\n  # This is added back by InteractiveShellApp.init_path()\n/home/fkretschmar/miniconda3/lib/python3.7/site-packages/ipykernel_launcher.py:11: RuntimeWarning: overflow encountered in exp\n  # This is added back by InteractiveShellApp.init_path()\n/home/fkretschmar/Documents/master-thesis/src/policy.py:301: RuntimeWarning: overflow encountered in exp\n  denominator = np.expand_dims(1.0 + np.exp(np.matmul(phi, self.theta)), axis=1)\n/home/fkretschmar/Documents/master-thesis/src/policy.py:301: RuntimeWarning: overflow encountered in exp\n  denominator = np.expand_dims(1.0 + np.exp(np.matmul(phi, self.theta)), axis=1)\n/home/fkretschmar/Documents/master-thesis/src/policy.py:301: RuntimeWarning: overflow encountered in exp\n  denominator = np.expand_dims(1.0 + np.exp(np.matmul(phi, self.theta)), axis=1)\n/home/fkretschmar/miniconda3/lib/python3.7/site-packages/ipykernel_launcher.py:11: RuntimeWarning: overflow encountered in exp\n  # This is added back by InteractiveShellApp.init_path()\n/home/fkretschmar/miniconda3/lib/python3.7/site-packages/ipykernel_launcher.py:11: RuntimeWarning: overflow encountered in exp\n  # This is added back by InteractiveShellApp.init_path()\n/home/fkretschmar/Documents/master-thesis/src/policy.py:301: RuntimeWarning: overflow encountered in exp\n  denominator = np.expand_dims(1.0 + np.exp(np.matmul(phi, self.theta)), axis=1)\n/home/fkretschmar/Documents/master-thesis/src/policy.py:301: RuntimeWarning: overflow encountered in exp\n  denominator = np.expand_dims(1.0 + np.exp(np.matmul(phi, self.theta)), axis=1)\n/home/fkretschmar/Documents/master-thesis/src/policy.py:301: RuntimeWarning: overflow encountered in exp\n  denominator = np.expand_dims(1.0 + np.exp(np.matmul(phi, self.theta)), axis=1)\n/home/fkretschmar/miniconda3/lib/python3.7/site-packages/ipykernel_launcher.py:11: RuntimeWarning: overflow encountered in exp\n  # This is added back by InteractiveShellApp.init_path()\n/home/fkretschmar/miniconda3/lib/python3.7/site-packages/ipykernel_launcher.py:11: RuntimeWarning: overflow encountered in exp\n  # This is added back by InteractiveShellApp.init_path()\n/home/fkretschmar/miniconda3/lib/python3.7/site-packages/ipykernel_launcher.py:11: RuntimeWarning: overflow encountered in exp\n  # This is added back by InteractiveShellApp.init_path()\n/home/fkretschmar/miniconda3/lib/python3.7/site-packages/ipykernel_launcher.py:11: RuntimeWarning: overflow encountered in exp\n  # This is added back by InteractiveShellApp.init_path()\nCurrent Lambda: 100000.0\n/home/fkretschmar/Documents/master-thesis/src/policy.py:301: RuntimeWarning: overflow encountered in exp\n  denominator = np.expand_dims(1.0 + np.exp(np.matmul(phi, self.theta)), axis=1)\n/home/fkretschmar/Documents/master-thesis/src/policy.py:301: RuntimeWarning: overflow encountered in exp\n  denominator = np.expand_dims(1.0 + np.exp(np.matmul(phi, self.theta)), axis=1)\n/home/fkretschmar/Documents/master-thesis/src/policy.py:301: RuntimeWarning: overflow encountered in exp\n  denominator = np.expand_dims(1.0 + np.exp(np.matmul(phi, self.theta)), axis=1)\n/home/fkretschmar/Documents/master-thesis/src/policy.py:301: RuntimeWarning: overflow encountered in exp\n  denominator = np.expand_dims(1.0 + np.exp(np.matmul(phi, self.theta)), axis=1)\n/home/fkretschmar/miniconda3/lib/python3.7/site-packages/ipykernel_launcher.py:11: RuntimeWarning: overflow encountered in exp\n  # This is added back by InteractiveShellApp.init_path()\n/home/fkretschmar/Documents/master-thesis/src/policy.py:301: RuntimeWarning: overflow encountered in exp\n  denominator = np.expand_dims(1.0 + np.exp(np.matmul(phi, self.theta)), axis=1)\n/home/fkretschmar/Documents/master-thesis/src/policy.py:301: RuntimeWarning: overflow encountered in exp\n  denominator = np.expand_dims(1.0 + np.exp(np.matmul(phi, self.theta)), axis=1)\n/home/fkretschmar/miniconda3/lib/python3.7/site-packages/ipykernel_launcher.py:11: RuntimeWarning: overflow encountered in exp\n  # This is added back by InteractiveShellApp.init_path()\n/home/fkretschmar/Documents/master-thesis/src/policy.py:301: RuntimeWarning: overflow encountered in exp\n  denominator = np.expand_dims(1.0 + np.exp(np.matmul(phi, self.theta)), axis=1)\n/home/fkretschmar/Documents/master-thesis/src/policy.py:301: RuntimeWarning: overflow encountered in exp\n  denominator = np.expand_dims(1.0 + np.exp(np.matmul(phi, self.theta)), axis=1)\n/home/fkretschmar/Documents/master-thesis/src/policy.py:301: RuntimeWarning: overflow encountered in exp\n  denominator = np.expand_dims(1.0 + np.exp(np.matmul(phi, self.theta)), axis=1)\n/home/fkretschmar/miniconda3/lib/python3.7/site-packages/ipykernel_launcher.py:11: RuntimeWarning: overflow encountered in exp\n  # This is added back by InteractiveShellApp.init_path()\n/home/fkretschmar/miniconda3/lib/python3.7/site-packages/ipykernel_launcher.py:11: RuntimeWarning: overflow encountered in exp\n  # This is added back by InteractiveShellApp.init_path()\n/home/fkretschmar/miniconda3/lib/python3.7/site-packages/ipykernel_launcher.py:11: RuntimeWarning: overflow encountered in exp\n  # This is added back by InteractiveShellApp.init_path()\n/home/fkretschmar/miniconda3/lib/python3.7/site-packages/ipykernel_launcher.py:11: RuntimeWarning: overflow encountered in exp\n  # This is added back by InteractiveShellApp.init_path()\n/home/fkretschmar/miniconda3/lib/python3.7/site-packages/ipykernel_launcher.py:11: RuntimeWarning: overflow encountered in exp\n  # This is added back by InteractiveShellApp.init_path()\n/home/fkretschmar/miniconda3/lib/python3.7/site-packages/ipykernel_launcher.py:11: RuntimeWarning: overflow encountered in exp\n  # This is added back by InteractiveShellApp.init_path()\n/home/fkretschmar/Documents/master-thesis/src/policy.py:301: RuntimeWarning: overflow encountered in exp\n  denominator = np.expand_dims(1.0 + np.exp(np.matmul(phi, self.theta)), axis=1)\n/home/fkretschmar/miniconda3/lib/python3.7/site-packages/ipykernel_launcher.py:11: RuntimeWarning: overflow encountered in exp\n  # This is added back by InteractiveShellApp.init_path()\n/home/fkretschmar/miniconda3/lib/python3.7/site-packages/ipykernel_launcher.py:11: RuntimeWarning: overflow encountered in exp\n  # This is added back by InteractiveShellApp.init_path()\nProcess ForkPoolWorker-192:\nProcess ForkPoolWorker-186:\nProcess ForkPoolWorker-187:\nProcess ForkPoolWorker-190:\nProcess ForkPoolWorker-191:\nProcess ForkPoolWorker-181:\nTraceback (most recent call last):\nProcess ForkPoolWorker-189:\nProcess ForkPoolWorker-177:\n  File \"/home/fkretschmar/miniconda3/lib/python3.7/multiprocessing/process.py\", line 297, in _bootstrap\n    self.run()\nProcess ForkPoolWorker-188:\nProcess ForkPoolWorker-185:\nTraceback (most recent call last):\nTraceback (most recent call last):\nProcess ForkPoolWorker-184:\nTraceback (most recent call last):\nTraceback (most recent call last):\n"
    },
    {
     "ename": "KeyboardInterrupt",
     "evalue": "",
     "output_type": "error",
     "traceback": [
      "\u001b[0;31m---------------------------------------------------------------------------\u001b[0m",
      "\u001b[0;31mKeyboardInterrupt\u001b[0m                         Traceback (most recent call last)",
      "\u001b[0;32m<ipython-input-5-6a7926b111df>\u001b[0m in \u001b[0;36m<module>\u001b[0;34m\u001b[0m\n\u001b[1;32m     22\u001b[0m \u001b[0mtraining_parameters\u001b[0m\u001b[0;34m[\u001b[0m\u001b[0;34m'fairness_function'\u001b[0m\u001b[0;34m]\u001b[0m \u001b[0;34m=\u001b[0m \u001b[0mfairness_function\u001b[0m\u001b[0;34m\u001b[0m\u001b[0;34m\u001b[0m\u001b[0m\n\u001b[1;32m     23\u001b[0m \u001b[0;34m\u001b[0m\u001b[0m\n\u001b[0;32m---> 24\u001b[0;31m \u001b[0mtrain_multiple\u001b[0m\u001b[0;34m(\u001b[0m\u001b[0mtraining_parameters\u001b[0m\u001b[0;34m,\u001b[0m \u001b[0miterations_per_lambda\u001b[0m\u001b[0;34m=\u001b[0m\u001b[0;36m10\u001b[0m\u001b[0;34m,\u001b[0m \u001b[0mnumber_of_lambdas\u001b[0m\u001b[0;34m=\u001b[0m\u001b[0;36m10\u001b[0m\u001b[0;34m)\u001b[0m\u001b[0;34m\u001b[0m\u001b[0;34m\u001b[0m\u001b[0m\n\u001b[0m",
      "\u001b[0;32m<ipython-input-3-55a94ab07d5a>\u001b[0m in \u001b[0;36mtrain_multiple\u001b[0;34m(training_parameters, iterations_per_lambda, number_of_lambdas)\u001b[0m\n\u001b[1;32m     32\u001b[0m             \u001b[0mpool\u001b[0m\u001b[0;34m.\u001b[0m\u001b[0mapply_async\u001b[0m\u001b[0;34m(\u001b[0m\u001b[0mtrain_single\u001b[0m\u001b[0;34m,\u001b[0m \u001b[0margs\u001b[0m\u001b[0;34m=\u001b[0m\u001b[0;34m(\u001b[0m\u001b[0mtraining_parameters\u001b[0m\u001b[0;34m,\u001b[0m \u001b[0mlamb\u001b[0m\u001b[0;34m)\u001b[0m\u001b[0;34m,\u001b[0m \u001b[0mcallback\u001b[0m \u001b[0;34m=\u001b[0m \u001b[0mlog_result\u001b[0m\u001b[0;34m)\u001b[0m\u001b[0;34m\u001b[0m\u001b[0;34m\u001b[0m\u001b[0m\n\u001b[1;32m     33\u001b[0m         \u001b[0mpool\u001b[0m\u001b[0;34m.\u001b[0m\u001b[0mclose\u001b[0m\u001b[0;34m(\u001b[0m\u001b[0;34m)\u001b[0m\u001b[0;34m\u001b[0m\u001b[0;34m\u001b[0m\u001b[0m\n\u001b[0;32m---> 34\u001b[0;31m         \u001b[0mpool\u001b[0m\u001b[0;34m.\u001b[0m\u001b[0mjoin\u001b[0m\u001b[0;34m(\u001b[0m\u001b[0;34m)\u001b[0m\u001b[0;34m\u001b[0m\u001b[0;34m\u001b[0m\u001b[0m\n\u001b[0m\u001b[1;32m     35\u001b[0m \u001b[0;34m\u001b[0m\u001b[0m\n\u001b[1;32m     36\u001b[0m         \u001b[0mresults\u001b[0m \u001b[0;34m=\u001b[0m \u001b[0mnp\u001b[0m\u001b[0;34m.\u001b[0m\u001b[0marray\u001b[0m\u001b[0;34m(\u001b[0m\u001b[0mresult_list\u001b[0m\u001b[0;34m)\u001b[0m\u001b[0;34m\u001b[0m\u001b[0;34m\u001b[0m\u001b[0m\n",
      "\u001b[0;32m~/miniconda3/lib/python3.7/multiprocessing/pool.py\u001b[0m in \u001b[0;36mjoin\u001b[0;34m(self)\u001b[0m\n\u001b[1;32m    554\u001b[0m         \u001b[0;32melif\u001b[0m \u001b[0mself\u001b[0m\u001b[0;34m.\u001b[0m\u001b[0m_state\u001b[0m \u001b[0;32mnot\u001b[0m \u001b[0;32min\u001b[0m \u001b[0;34m(\u001b[0m\u001b[0mCLOSE\u001b[0m\u001b[0;34m,\u001b[0m \u001b[0mTERMINATE\u001b[0m\u001b[0;34m)\u001b[0m\u001b[0;34m:\u001b[0m\u001b[0;34m\u001b[0m\u001b[0;34m\u001b[0m\u001b[0m\n\u001b[1;32m    555\u001b[0m             \u001b[0;32mraise\u001b[0m \u001b[0mValueError\u001b[0m\u001b[0;34m(\u001b[0m\u001b[0;34m\"In unknown state\"\u001b[0m\u001b[0;34m)\u001b[0m\u001b[0;34m\u001b[0m\u001b[0;34m\u001b[0m\u001b[0m\n\u001b[0;32m--> 556\u001b[0;31m         \u001b[0mself\u001b[0m\u001b[0;34m.\u001b[0m\u001b[0m_worker_handler\u001b[0m\u001b[0;34m.\u001b[0m\u001b[0mjoin\u001b[0m\u001b[0;34m(\u001b[0m\u001b[0;34m)\u001b[0m\u001b[0;34m\u001b[0m\u001b[0;34m\u001b[0m\u001b[0m\n\u001b[0m\u001b[1;32m    557\u001b[0m         \u001b[0mself\u001b[0m\u001b[0;34m.\u001b[0m\u001b[0m_task_handler\u001b[0m\u001b[0;34m.\u001b[0m\u001b[0mjoin\u001b[0m\u001b[0;34m(\u001b[0m\u001b[0;34m)\u001b[0m\u001b[0;34m\u001b[0m\u001b[0;34m\u001b[0m\u001b[0m\n\u001b[1;32m    558\u001b[0m         \u001b[0mself\u001b[0m\u001b[0;34m.\u001b[0m\u001b[0m_result_handler\u001b[0m\u001b[0;34m.\u001b[0m\u001b[0mjoin\u001b[0m\u001b[0;34m(\u001b[0m\u001b[0;34m)\u001b[0m\u001b[0;34m\u001b[0m\u001b[0;34m\u001b[0m\u001b[0m\n",
      "\u001b[0;32m~/miniconda3/lib/python3.7/threading.py\u001b[0m in \u001b[0;36mjoin\u001b[0;34m(self, timeout)\u001b[0m\n\u001b[1;32m   1042\u001b[0m \u001b[0;34m\u001b[0m\u001b[0m\n\u001b[1;32m   1043\u001b[0m         \u001b[0;32mif\u001b[0m \u001b[0mtimeout\u001b[0m \u001b[0;32mis\u001b[0m \u001b[0;32mNone\u001b[0m\u001b[0;34m:\u001b[0m\u001b[0;34m\u001b[0m\u001b[0;34m\u001b[0m\u001b[0m\n\u001b[0;32m-> 1044\u001b[0;31m             \u001b[0mself\u001b[0m\u001b[0;34m.\u001b[0m\u001b[0m_wait_for_tstate_lock\u001b[0m\u001b[0;34m(\u001b[0m\u001b[0;34m)\u001b[0m\u001b[0;34m\u001b[0m\u001b[0;34m\u001b[0m\u001b[0m\n\u001b[0m\u001b[1;32m   1045\u001b[0m         \u001b[0;32melse\u001b[0m\u001b[0;34m:\u001b[0m\u001b[0;34m\u001b[0m\u001b[0;34m\u001b[0m\u001b[0m\n\u001b[1;32m   1046\u001b[0m             \u001b[0;31m# the behavior of a negative timeout isn't documented, but\u001b[0m\u001b[0;34m\u001b[0m\u001b[0;34m\u001b[0m\u001b[0;34m\u001b[0m\u001b[0m\n",
      "\u001b[0;32m~/miniconda3/lib/python3.7/threading.py\u001b[0m in \u001b[0;36m_wait_for_tstate_lock\u001b[0;34m(self, block, timeout)\u001b[0m\n\u001b[1;32m   1058\u001b[0m         \u001b[0;32mif\u001b[0m \u001b[0mlock\u001b[0m \u001b[0;32mis\u001b[0m \u001b[0;32mNone\u001b[0m\u001b[0;34m:\u001b[0m  \u001b[0;31m# already determined that the C code is done\u001b[0m\u001b[0;34m\u001b[0m\u001b[0;34m\u001b[0m\u001b[0m\n\u001b[1;32m   1059\u001b[0m             \u001b[0;32massert\u001b[0m \u001b[0mself\u001b[0m\u001b[0;34m.\u001b[0m\u001b[0m_is_stopped\u001b[0m\u001b[0;34m\u001b[0m\u001b[0;34m\u001b[0m\u001b[0m\n\u001b[0;32m-> 1060\u001b[0;31m         \u001b[0;32melif\u001b[0m \u001b[0mlock\u001b[0m\u001b[0;34m.\u001b[0m\u001b[0macquire\u001b[0m\u001b[0;34m(\u001b[0m\u001b[0mblock\u001b[0m\u001b[0;34m,\u001b[0m \u001b[0mtimeout\u001b[0m\u001b[0;34m)\u001b[0m\u001b[0;34m:\u001b[0m\u001b[0;34m\u001b[0m\u001b[0;34m\u001b[0m\u001b[0m\n\u001b[0m\u001b[1;32m   1061\u001b[0m             \u001b[0mlock\u001b[0m\u001b[0;34m.\u001b[0m\u001b[0mrelease\u001b[0m\u001b[0;34m(\u001b[0m\u001b[0;34m)\u001b[0m\u001b[0;34m\u001b[0m\u001b[0;34m\u001b[0m\u001b[0m\n\u001b[1;32m   1062\u001b[0m             \u001b[0mself\u001b[0m\u001b[0;34m.\u001b[0m\u001b[0m_stop\u001b[0m\u001b[0;34m(\u001b[0m\u001b[0;34m)\u001b[0m\u001b[0;34m\u001b[0m\u001b[0;34m\u001b[0m\u001b[0m\n",
      "\u001b[0;31mKeyboardInterrupt\u001b[0m: "
     ]
    }
   ],
   "source": [
    "def fairness_function(**fairness_kwargs):\n",
    "    policy = fairness_kwargs[\"policy\"]\n",
    "    x = fairness_kwargs[\"x\"]\n",
    "    s = fairness_kwargs[\"s\"]\n",
    "    y = fairness_kwargs[\"y\"]\n",
    "    decisions = fairness_kwargs[\"decisions\"]\n",
    "    ips_weights = fairness_kwargs[\"ips_weights\"]\n",
    "\n",
    "    benefit = policy.benefit_function(decisions=decisions, y=y)\n",
    "    phi = policy.feature_map(policy._extract_features(x, s))\n",
    "    denominator = np.expand_dims((1.0 + np.exp(np.matmul(phi, policy.theta))), axis=1)\n",
    "\n",
    "    benefit_grad = benefit * phi/denominator\n",
    "\n",
    "    if ips_weights is not None:\n",
    "        benefit *= ips_weights\n",
    "        benefit_grad *= ips_weights\n",
    "        \n",
    "    # benefit-difference * grad-benefit-difference\n",
    "    return policy._mean_difference(benefit, s) * policy._mean_difference(benefit_grad, s)\n",
    "\n",
    "training_parameters['fairness_function'] = fairness_function\n",
    "\n",
    "train_multiple(training_parameters, iterations_per_lambda=10, number_of_lambdas=10)"
   ]
  },
  {
   "cell_type": "code",
   "execution_count": null,
   "metadata": {},
   "outputs": [],
   "source": []
  }
 ],
 "metadata": {
  "file_extension": ".py",
  "kernelspec": {
   "display_name": "Python 3.7.4 64-bit ('miniconda3': virtualenv)",
   "language": "python",
   "name": "python37464bitminiconda3virtualenv5e66bc8af94a4b3dad75094b6163158a"
  },
  "language_info": {
   "codemirror_mode": {
    "name": "ipython",
    "version": 3
   },
   "file_extension": ".py",
   "mimetype": "text/x-python",
   "name": "python",
   "nbconvert_exporter": "python",
   "pygments_lexer": "ipython3",
   "version": "3.7.4-final"
  },
  "mimetype": "text/x-python",
  "name": "python",
  "npconvert_exporter": "python",
  "pygments_lexer": "ipython3",
  "version": 3
 },
 "nbformat": 4,
 "nbformat_minor": 2
}