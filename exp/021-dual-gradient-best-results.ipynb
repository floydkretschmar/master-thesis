{
 "cells": [
  {
   "cell_type": "markdown",
   "execution_count": null,
   "metadata": {},
   "outputs": [],
   "source": [
    "## Implementation the dual gradient method for COMPAS and Adult Credit"
   ]
  },
  {
   "cell_type": "code",
   "execution_count": 1,
   "metadata": {},
   "outputs": [
    {
     "name": "stderr",
     "output_type": "stream",
     "text": [
      "unable to import 'smart_open.gcs', disabling that module\n"
     ]
    }
   ],
   "source": [
    "import os\n",
    "import sys\n",
    "import numpy as np\n",
    "module_path = os.path.abspath(os.path.join('..'))\n",
    "\n",
    "if module_path not in sys.path:\n",
    "    sys.path.append(module_path)\n",
    "\n",
    "from src.util import mean_difference\n",
    "from src.feature_map import IdentityFeatureMap\n",
    "from src.functions import cost_utility\n",
    "from src.plotting import plot_mean, plot_median\n",
    "from src.training import train\n",
    "from src.policy import LogisticPolicy\n",
    "from src.training_evaluation import Statistics\n",
    "from src.distribution import AdultCreditDistribution, COMPASDistribution, FICODistribution\n",
    "from src.optimization import PenaltyOptimizationTarget, LagrangianOptimizationTarget"
   ]
  },
  {
   "cell_type": "markdown",
   "execution_count": null,
   "metadata": {},
   "outputs": [],
   "source": [
    "## Fairness Functions"
   ]
  },
  {
   "cell_type": "code",
   "execution_count": 2,
   "metadata": {},
   "outputs": [],
   "source": [
    "def calc_benefit(decisions, ips_weights):\n",
    "    if ips_weights is not None:\n",
    "        decisions *= ips_weights\n",
    "\n",
    "    return decisions\n",
    "\n",
    "\n",
    "def calc_covariance(s, decisions, ips_weights):\n",
    "    new_s = 1 - (2 * s)\n",
    "\n",
    "    if ips_weights is not None:\n",
    "        mu_s = np.mean(new_s * ips_weights, axis=0)\n",
    "        d = decisions * ips_weights\n",
    "    else:\n",
    "        mu_s = np.mean(new_s, axis=0)\n",
    "        d = decisions\n",
    "\n",
    "    covariance = (new_s - mu_s) * d\n",
    "    return covariance\n",
    "\n",
    "\n",
    "def fairness_function_gradient(type, **fairness_kwargs):\n",
    "    policy = fairness_kwargs[\"policy\"]\n",
    "    x = fairness_kwargs[\"x\"]\n",
    "    s = fairness_kwargs[\"s\"]\n",
    "    y = fairness_kwargs[\"y\"]\n",
    "    decisions = fairness_kwargs[\"decisions\"]\n",
    "    ips_weights = fairness_kwargs[\"ips_weights\"]\n",
    "\n",
    "    if type == \"BD_DP\" or type == \"BD_EOP\":\n",
    "        result = calc_benefit(decisions, ips_weights)\n",
    "    elif type == \"COV_DP\":\n",
    "        result = calc_covariance(s, decisions, ips_weights)\n",
    "    elif type == \"COV_DP_DIST\":\n",
    "        phi = policy.feature_map(policy._extract_features(x, s))\n",
    "        distance = np.matmul(phi, policy.theta).reshape(-1, 1)\n",
    "        result = calc_covariance(s, distance, ips_weights)\n",
    "\n",
    "    log_gradient = policy.log_policy_gradient(x, s)\n",
    "    grad = log_gradient * result\n",
    "\n",
    "    if type == \"BD_DP\":\n",
    "        return mean_difference(grad, s)\n",
    "    elif type == \"COV_DP\":\n",
    "        return np.mean(grad, axis=0)\n",
    "    elif type == \"COV_DP_DIST\":\n",
    "        return np.mean(grad, axis=0)\n",
    "    elif type == \"BD_EOP\":\n",
    "        y1_indices = np.where(y == 1)\n",
    "        return mean_difference(grad[y1_indices], s[y1_indices])\n",
    "\n",
    "\n",
    "def fairness_function(type, **fairness_kwargs):\n",
    "    x = fairness_kwargs[\"x\"]\n",
    "    s = fairness_kwargs[\"s\"]\n",
    "    y = fairness_kwargs[\"y\"]\n",
    "    decisions = fairness_kwargs[\"decisions\"]\n",
    "    ips_weights = fairness_kwargs[\"ips_weights\"]\n",
    "    policy = fairness_kwargs[\"policy\"]\n",
    "\n",
    "    if type == \"BD_DP\":\n",
    "        benefit = calc_benefit(decisions, ips_weights)\n",
    "        return mean_difference(benefit, s)\n",
    "    elif type == \"COV_DP\":\n",
    "        covariance = calc_covariance(s, decisions, ips_weights)\n",
    "        return np.mean(covariance, axis=0)\n",
    "    elif type == \"COV_DP_DIST\":\n",
    "        phi = policy.feature_map(policy._extract_features(x, s))\n",
    "        distance = np.matmul(phi, policy.theta).reshape(-1, 1)\n",
    "        covariance = calc_covariance(s, distance, ips_weights)\n",
    "        return np.mean(covariance, axis=0)\n",
    "    elif type == \"BD_EOP\":\n",
    "        benefit = calc_benefit(decisions, ips_weights)\n",
    "        y1_indices = np.where(y == 1)\n",
    "        return mean_difference(benefit[y1_indices], s[y1_indices])"
   ]
  },
  {
   "cell_type": "markdown",
   "source": [
    "# COMPAS"
   ],
   "metadata": {
    "collapsed": false
   }
  },
  {
   "cell_type": "code",
   "execution_count": 3,
   "outputs": [],
   "source": [
    "bias = True\n",
    "distribution = COMPASDistribution(bias=bias, test_percentage=0.2)\n",
    "dim_theta = distribution.feature_dim\n",
    "\n",
    "def util_func(**util_params):\n",
    "    util = cost_utility(cost_factor=0.5, **util_params)\n",
    "    return util\n",
    "\n",
    "training_parameters = {\n",
    "    'model':{\n",
    "        'constructor': LogisticPolicy,\n",
    "        'parameters': {\n",
    "            \"theta\": np.zeros((dim_theta)),\n",
    "            \"feature_map\": IdentityFeatureMap(dim_theta),\n",
    "            \"use_sensitive_attributes\": False\n",
    "        }\n",
    "    },\n",
    "    'distribution': distribution,\n",
    "    'optimization_target': {\n",
    "        'constructor': LagrangianOptimizationTarget,\n",
    "        'parameters': {\n",
    "            'utility_function': util_func\n",
    "        }\n",
    "    },\n",
    "    'parameter_optimization': {\n",
    "        'batch_size':128,\n",
    "        'epochs': 60,\n",
    "        'fix_seeds': True,\n",
    "        'learning_rate': 0.01,\n",
    "        'learn_on_entire_history': False,\n",
    "        'num_batches': 32,\n",
    "        'time_steps':200\n",
    "    },\n",
    "    'lagrangian_optimization': {\n",
    "        'batch_size':128,\n",
    "        'epochs': 10,\n",
    "        'learning_rate': 0.1,\n",
    "        'num_batches': 32\n",
    "    },\n",
    "    'test': {\n",
    "        'num_samples': 10000\n",
    "    }\n",
    "}"
   ],
   "metadata": {
    "collapsed": false,
    "pycharm": {
     "name": "#%%\n"
    }
   }
  },
  {
   "cell_type": "markdown",
   "metadata": {
    "pycharm": {
     "name": "#%% md\n"
    }
   },
   "source": [
    "### Benefit Difference: DP"
   ]
  },
  {
   "cell_type": "code",
   "execution_count": 4,
   "outputs": [
    {
     "name": "stdout",
     "output_type": "stream",
     "text": [
      "## STARTED // LR = 0.01 // TS = 200 // E = 60 // BS = 128 // NB = 32 // FR = 0.0 ##\n",
      "## ENDED // LR = 0.01 // TS = 200 // E = 60 // BS = 128 // NB = 32 // FR = 0.0 ##\n"
     ]
    },
    {
     "name": "stderr",
     "output_type": "stream",
     "text": [
      "Process ForkPoolWorker-6:\n",
      "Process ForkPoolWorker-9:\n",
      "Process ForkPoolWorker-1:\n",
      "Process ForkPoolWorker-8:\n",
      "Process ForkPoolWorker-5:\n",
      "Process ForkPoolWorker-14:\n",
      "Process ForkPoolWorker-2:\n",
      "Process ForkPoolWorker-16:\n",
      "Process ForkPoolWorker-3:\n",
      "Process ForkPoolWorker-7:\n",
      "Process ForkPoolWorker-15:\n",
      "Process ForkPoolWorker-4:\n",
      "Traceback (most recent call last):\n",
      "Traceback (most recent call last):\n",
      "Traceback (most recent call last):\n",
      "Traceback (most recent call last):\n",
      "Traceback (most recent call last):\n",
      "Traceback (most recent call last):\n",
      "Traceback (most recent call last):\n",
      "Traceback (most recent call last):\n",
      "Traceback (most recent call last):\n",
      "  File \"/home/fkretschmar/miniconda3/envs/masters-thesis/lib/python3.7/site-packages/multiprocess/process.py\", line 297, in _bootstrap\n",
      "    self.run()\n",
      "  File \"/home/fkretschmar/miniconda3/envs/masters-thesis/lib/python3.7/site-packages/multiprocess/process.py\", line 297, in _bootstrap\n",
      "    self.run()\n",
      "  File \"/home/fkretschmar/miniconda3/envs/masters-thesis/lib/python3.7/site-packages/multiprocess/process.py\", line 297, in _bootstrap\n",
      "    self.run()\n",
      "  File \"/home/fkretschmar/miniconda3/envs/masters-thesis/lib/python3.7/site-packages/multiprocess/process.py\", line 297, in _bootstrap\n",
      "    self.run()\n",
      "  File \"/home/fkretschmar/miniconda3/envs/masters-thesis/lib/python3.7/site-packages/multiprocess/process.py\", line 297, in _bootstrap\n",
      "    self.run()\n",
      "  File \"/home/fkretschmar/miniconda3/envs/masters-thesis/lib/python3.7/site-packages/multiprocess/process.py\", line 297, in _bootstrap\n",
      "    self.run()\n",
      "  File \"/home/fkretschmar/miniconda3/envs/masters-thesis/lib/python3.7/site-packages/multiprocess/process.py\", line 297, in _bootstrap\n",
      "    self.run()\n",
      "  File \"/home/fkretschmar/miniconda3/envs/masters-thesis/lib/python3.7/site-packages/multiprocess/process.py\", line 99, in run\n",
      "    self._target(*self._args, **self._kwargs)\n",
      "  File \"/home/fkretschmar/miniconda3/envs/masters-thesis/lib/python3.7/site-packages/multiprocess/process.py\", line 297, in _bootstrap\n",
      "    self.run()\n",
      "  File \"/home/fkretschmar/miniconda3/envs/masters-thesis/lib/python3.7/site-packages/multiprocess/process.py\", line 99, in run\n",
      "    self._target(*self._args, **self._kwargs)\n",
      "  File \"/home/fkretschmar/miniconda3/envs/masters-thesis/lib/python3.7/site-packages/multiprocess/process.py\", line 99, in run\n",
      "    self._target(*self._args, **self._kwargs)\n",
      "  File \"/home/fkretschmar/miniconda3/envs/masters-thesis/lib/python3.7/site-packages/multiprocess/process.py\", line 99, in run\n",
      "    self._target(*self._args, **self._kwargs)\n",
      "  File \"/home/fkretschmar/miniconda3/envs/masters-thesis/lib/python3.7/site-packages/multiprocess/process.py\", line 99, in run\n",
      "    self._target(*self._args, **self._kwargs)\n",
      "Traceback (most recent call last):\n",
      "  File \"/home/fkretschmar/miniconda3/envs/masters-thesis/lib/python3.7/site-packages/multiprocess/process.py\", line 99, in run\n",
      "    self._target(*self._args, **self._kwargs)\n",
      "  File \"/home/fkretschmar/miniconda3/envs/masters-thesis/lib/python3.7/site-packages/multiprocess/process.py\", line 297, in _bootstrap\n",
      "    self.run()\n",
      "Traceback (most recent call last):\n",
      "  File \"/home/fkretschmar/miniconda3/envs/masters-thesis/lib/python3.7/site-packages/multiprocess/process.py\", line 99, in run\n",
      "    self._target(*self._args, **self._kwargs)\n",
      "  File \"/home/fkretschmar/miniconda3/envs/masters-thesis/lib/python3.7/site-packages/multiprocess/pool.py\", line 110, in worker\n",
      "    task = get()\n",
      "  File \"/home/fkretschmar/miniconda3/envs/masters-thesis/lib/python3.7/site-packages/multiprocess/pool.py\", line 110, in worker\n",
      "    task = get()\n",
      "  File \"/home/fkretschmar/miniconda3/envs/masters-thesis/lib/python3.7/site-packages/multiprocess/pool.py\", line 110, in worker\n",
      "    task = get()\n",
      "  File \"/home/fkretschmar/miniconda3/envs/masters-thesis/lib/python3.7/site-packages/multiprocess/process.py\", line 99, in run\n",
      "    self._target(*self._args, **self._kwargs)\n",
      "  File \"/home/fkretschmar/miniconda3/envs/masters-thesis/lib/python3.7/site-packages/multiprocess/pool.py\", line 110, in worker\n",
      "    task = get()\n",
      "  File \"/home/fkretschmar/miniconda3/envs/masters-thesis/lib/python3.7/site-packages/multiprocess/process.py\", line 297, in _bootstrap\n",
      "    self.run()\n",
      "  File \"/home/fkretschmar/miniconda3/envs/masters-thesis/lib/python3.7/site-packages/multiprocess/pool.py\", line 110, in worker\n",
      "    task = get()\n",
      "  File \"/home/fkretschmar/miniconda3/envs/masters-thesis/lib/python3.7/site-packages/multiprocess/pool.py\", line 110, in worker\n",
      "    task = get()\n",
      "  File \"/home/fkretschmar/miniconda3/envs/masters-thesis/lib/python3.7/site-packages/multiprocess/process.py\", line 297, in _bootstrap\n",
      "    self.run()\n",
      "  File \"/home/fkretschmar/miniconda3/envs/masters-thesis/lib/python3.7/site-packages/multiprocess/queues.py\", line 354, in get\n",
      "    with self._rlock:\n",
      "  File \"/home/fkretschmar/miniconda3/envs/masters-thesis/lib/python3.7/site-packages/multiprocess/queues.py\", line 354, in get\n",
      "    with self._rlock:\n",
      "  File \"/home/fkretschmar/miniconda3/envs/masters-thesis/lib/python3.7/site-packages/multiprocess/queues.py\", line 355, in get\n",
      "    res = self._reader.recv_bytes()\n",
      "  File \"/home/fkretschmar/miniconda3/envs/masters-thesis/lib/python3.7/site-packages/multiprocess/pool.py\", line 110, in worker\n",
      "    task = get()\n",
      "  File \"/home/fkretschmar/miniconda3/envs/masters-thesis/lib/python3.7/site-packages/multiprocess/queues.py\", line 354, in get\n",
      "    with self._rlock:\n",
      "  File \"/home/fkretschmar/miniconda3/envs/masters-thesis/lib/python3.7/site-packages/multiprocess/queues.py\", line 354, in get\n",
      "    with self._rlock:\n",
      "  File \"/home/fkretschmar/miniconda3/envs/masters-thesis/lib/python3.7/site-packages/multiprocess/synchronize.py\", line 102, in __enter__\n",
      "    return self._semlock.__enter__()\n",
      "  File \"/home/fkretschmar/miniconda3/envs/masters-thesis/lib/python3.7/site-packages/multiprocess/connection.py\", line 219, in recv_bytes\n",
      "    buf = self._recv_bytes(maxlength)\n",
      "  File \"/home/fkretschmar/miniconda3/envs/masters-thesis/lib/python3.7/site-packages/multiprocess/process.py\", line 99, in run\n",
      "    self._target(*self._args, **self._kwargs)\n",
      "  File \"/home/fkretschmar/miniconda3/envs/masters-thesis/lib/python3.7/site-packages/multiprocess/process.py\", line 99, in run\n",
      "    self._target(*self._args, **self._kwargs)\n",
      "  File \"/home/fkretschmar/miniconda3/envs/masters-thesis/lib/python3.7/site-packages/multiprocess/queues.py\", line 354, in get\n",
      "    with self._rlock:\n",
      "  File \"/home/fkretschmar/miniconda3/envs/masters-thesis/lib/python3.7/site-packages/multiprocess/synchronize.py\", line 102, in __enter__\n",
      "    return self._semlock.__enter__()\n",
      "  File \"/home/fkretschmar/miniconda3/envs/masters-thesis/lib/python3.7/site-packages/multiprocess/synchronize.py\", line 102, in __enter__\n",
      "    return self._semlock.__enter__()\n",
      "  File \"/home/fkretschmar/miniconda3/envs/masters-thesis/lib/python3.7/site-packages/multiprocess/pool.py\", line 110, in worker\n",
      "    task = get()\n",
      "  File \"/home/fkretschmar/miniconda3/envs/masters-thesis/lib/python3.7/site-packages/multiprocess/connection.py\", line 410, in _recv_bytes\n",
      "    buf = self._recv(4)\n",
      "  File \"/home/fkretschmar/miniconda3/envs/masters-thesis/lib/python3.7/site-packages/multiprocess/synchronize.py\", line 102, in __enter__\n",
      "    return self._semlock.__enter__()\n",
      "  File \"/home/fkretschmar/miniconda3/envs/masters-thesis/lib/python3.7/site-packages/multiprocess/queues.py\", line 354, in get\n",
      "    with self._rlock:\n",
      "  File \"/home/fkretschmar/miniconda3/envs/masters-thesis/lib/python3.7/site-packages/multiprocess/pool.py\", line 121, in worker\n",
      "    result = (True, func(*args, **kwds))\n",
      "KeyboardInterrupt\n",
      "  File \"/home/fkretschmar/miniconda3/envs/masters-thesis/lib/python3.7/site-packages/multiprocess/pool.py\", line 110, in worker\n",
      "    task = get()\n",
      "  File \"/home/fkretschmar/miniconda3/envs/masters-thesis/lib/python3.7/site-packages/multiprocess/queues.py\", line 354, in get\n",
      "    with self._rlock:\n",
      "  File \"/home/fkretschmar/miniconda3/envs/masters-thesis/lib/python3.7/site-packages/multiprocess/connection.py\", line 382, in _recv\n",
      "    chunk = read(handle, remaining)\n",
      "KeyboardInterrupt\n",
      "  File \"/home/fkretschmar/Documents/master-thesis/src/training.py\", line 196, in _training_iteration\n",
      "    results, model_parameters = training_method(training_parameters)\n",
      "  File \"/home/fkretschmar/miniconda3/envs/masters-thesis/lib/python3.7/site-packages/multiprocess/queues.py\", line 354, in get\n",
      "    with self._rlock:\n",
      "  File \"/home/fkretschmar/miniconda3/envs/masters-thesis/lib/python3.7/site-packages/multiprocess/synchronize.py\", line 102, in __enter__\n",
      "    return self._semlock.__enter__()\n",
      "  File \"/home/fkretschmar/miniconda3/envs/masters-thesis/lib/python3.7/site-packages/multiprocess/synchronize.py\", line 102, in __enter__\n",
      "    return self._semlock.__enter__()\n",
      "  File \"/home/fkretschmar/Documents/master-thesis/src/consequential_learning.py\", line 196, in train\n",
      "    optimizer.update_model_parameters(x, s, y, theta_learning_rate, ips_weights_batch)\n",
      "KeyboardInterrupt\n",
      "  File \"/home/fkretschmar/miniconda3/envs/masters-thesis/lib/python3.7/site-packages/multiprocess/process.py\", line 99, in run\n",
      "    self._target(*self._args, **self._kwargs)\n",
      "  File \"/home/fkretschmar/miniconda3/envs/masters-thesis/lib/python3.7/site-packages/multiprocess/synchronize.py\", line 102, in __enter__\n",
      "    return self._semlock.__enter__()\n",
      "  File \"/home/fkretschmar/Documents/master-thesis/src/optimization.py\", line 65, in update_model_parameters\n",
      "    decisions, decision_probability = self.policy(x, s)\n",
      "KeyboardInterrupt\n",
      "KeyboardInterrupt\n",
      "  File \"/home/fkretschmar/miniconda3/envs/masters-thesis/lib/python3.7/site-packages/multiprocess/pool.py\", line 121, in worker\n",
      "    result = (True, func(*args, **kwds))\n",
      "KeyboardInterrupt\n",
      "KeyboardInterrupt\n",
      "  File \"/home/fkretschmar/Documents/master-thesis/src/training.py\", line 196, in _training_iteration\n",
      "    results, model_parameters = training_method(training_parameters)\n",
      "  File \"/home/fkretschmar/Documents/master-thesis/src/consequential_learning.py\", line 196, in train\n",
      "    optimizer.update_model_parameters(x, s, y, theta_learning_rate, ips_weights_batch)\n",
      "Traceback (most recent call last):\n",
      "  File \"/home/fkretschmar/miniconda3/envs/masters-thesis/lib/python3.7/site-packages/multiprocess/synchronize.py\", line 102, in __enter__\n",
      "    return self._semlock.__enter__()\n",
      "KeyboardInterrupt\n",
      "  File \"/home/fkretschmar/Documents/master-thesis/src/optimization.py\", line 69, in update_model_parameters\n",
      "    decision_probability, ips_weights)\n",
      "  File \"/home/fkretschmar/miniconda3/envs/masters-thesis/lib/python3.7/site-packages/multiprocess/process.py\", line 297, in _bootstrap\n",
      "    self.run()\n",
      "KeyboardInterrupt\n",
      "  File \"/home/fkretschmar/Documents/master-thesis/src/optimization.py\", line 301, in model_parameter_gradient\n",
      "    fairness_gradient = self.fairness_function.gradient(**parameters)\n",
      "  File \"/home/fkretschmar/Documents/master-thesis/src/policy.py\", line 46, in __call__\n",
      "    return np.expand_dims(get_random().binomial(1, probability).astype(float), axis=1), np.expand_dims(probability,\n",
      "  File \"/home/fkretschmar/miniconda3/envs/masters-thesis/lib/python3.7/site-packages/multiprocess/process.py\", line 99, in run\n",
      "    self._target(*self._args, **self._kwargs)\n",
      "  File \"/home/fkretschmar/Documents/master-thesis/src/optimization.py\", line 154, in gradient\n",
      "    ips_weights=gradient_args[\"ips_weights\"] if \"ips_weights\" in gradient_args else None)\n",
      "  File \"/home/fkretschmar/miniconda3/envs/masters-thesis/lib/python3.7/site-packages/multiprocess/pool.py\", line 110, in worker\n",
      "    task = get()\n",
      "  File \"mtrand.pyx\", line 3351, in numpy.random.mtrand.RandomState.binomial\n",
      "  File \"<ipython-input-5-45c46572b98c>\", line 2, in <lambda>\n",
      "  File \"/home/fkretschmar/miniconda3/envs/masters-thesis/lib/python3.7/site-packages/multiprocess/queues.py\", line 354, in get\n",
      "    with self._rlock:\n",
      "  File \"_common.pyx\", line 322, in numpy.random._common.check_array_constraint\n",
      "  File \"/home/fkretschmar/miniconda3/envs/masters-thesis/lib/python3.7/site-packages/multiprocess/synchronize.py\", line 102, in __enter__\n",
      "    return self._semlock.__enter__()\n",
      "KeyboardInterrupt\n",
      "  File \"<__array_function__ internals>\", line 6, in all\n",
      "  File \"/home/fkretschmar/miniconda3/envs/masters-thesis/lib/python3.7/site-packages/numpy/core/fromnumeric.py\", line 2398, in all\n",
      "    return _wrapreduction(a, np.logical_and, 'all', axis, None, out, keepdims=keepdims)\n",
      "  File \"/home/fkretschmar/miniconda3/envs/masters-thesis/lib/python3.7/site-packages/numpy/core/fromnumeric.py\", line 77, in _wrapreduction\n",
      "    if type(obj) is not mu.ndarray:\n",
      "KeyboardInterrupt\n",
      "KeyboardInterrupt\n",
      "Process ForkPoolWorker-12:\n",
      "Process ForkPoolWorker-13:\n",
      "Traceback (most recent call last):\n",
      "Traceback (most recent call last):\n",
      "Process ForkPoolWorker-10:\n",
      "  File \"/home/fkretschmar/miniconda3/envs/masters-thesis/lib/python3.7/site-packages/multiprocess/process.py\", line 297, in _bootstrap\n",
      "    self.run()\n",
      "  File \"/home/fkretschmar/miniconda3/envs/masters-thesis/lib/python3.7/site-packages/multiprocess/process.py\", line 297, in _bootstrap\n",
      "    self.run()\n",
      "  File \"/home/fkretschmar/miniconda3/envs/masters-thesis/lib/python3.7/site-packages/multiprocess/process.py\", line 99, in run\n",
      "    self._target(*self._args, **self._kwargs)\n",
      "  File \"/home/fkretschmar/miniconda3/envs/masters-thesis/lib/python3.7/site-packages/multiprocess/process.py\", line 99, in run\n",
      "    self._target(*self._args, **self._kwargs)\n",
      "  File \"/home/fkretschmar/miniconda3/envs/masters-thesis/lib/python3.7/site-packages/multiprocess/pool.py\", line 110, in worker\n",
      "    task = get()\n",
      "Traceback (most recent call last):\n",
      "  File \"/home/fkretschmar/miniconda3/envs/masters-thesis/lib/python3.7/site-packages/multiprocess/pool.py\", line 110, in worker\n",
      "    task = get()\n",
      "  File \"/home/fkretschmar/miniconda3/envs/masters-thesis/lib/python3.7/site-packages/multiprocess/process.py\", line 297, in _bootstrap\n",
      "    self.run()\n",
      "  File \"/home/fkretschmar/miniconda3/envs/masters-thesis/lib/python3.7/site-packages/multiprocess/queues.py\", line 354, in get\n",
      "    with self._rlock:\n",
      "  File \"/home/fkretschmar/miniconda3/envs/masters-thesis/lib/python3.7/site-packages/multiprocess/process.py\", line 99, in run\n",
      "    self._target(*self._args, **self._kwargs)\n",
      "  File \"/home/fkretschmar/miniconda3/envs/masters-thesis/lib/python3.7/site-packages/multiprocess/queues.py\", line 354, in get\n",
      "    with self._rlock:\n",
      "  File \"/home/fkretschmar/miniconda3/envs/masters-thesis/lib/python3.7/site-packages/multiprocess/synchronize.py\", line 102, in __enter__\n",
      "    return self._semlock.__enter__()\n",
      "KeyboardInterrupt\n",
      "  File \"/home/fkretschmar/miniconda3/envs/masters-thesis/lib/python3.7/site-packages/multiprocess/synchronize.py\", line 102, in __enter__\n",
      "    return self._semlock.__enter__()\n",
      "  File \"/home/fkretschmar/miniconda3/envs/masters-thesis/lib/python3.7/site-packages/multiprocess/pool.py\", line 110, in worker\n",
      "    task = get()\n",
      "  File \"/home/fkretschmar/miniconda3/envs/masters-thesis/lib/python3.7/site-packages/multiprocess/queues.py\", line 354, in get\n",
      "    with self._rlock:\n",
      "Process ForkPoolWorker-11:\n",
      "  File \"/home/fkretschmar/miniconda3/envs/masters-thesis/lib/python3.7/site-packages/multiprocess/synchronize.py\", line 102, in __enter__\n",
      "    return self._semlock.__enter__()\n",
      "KeyboardInterrupt\n",
      "Traceback (most recent call last):\n",
      "KeyboardInterrupt\n",
      "  File \"/home/fkretschmar/miniconda3/envs/masters-thesis/lib/python3.7/site-packages/multiprocess/process.py\", line 297, in _bootstrap\n",
      "    self.run()\n",
      "  File \"/home/fkretschmar/miniconda3/envs/masters-thesis/lib/python3.7/site-packages/multiprocess/process.py\", line 99, in run\n",
      "    self._target(*self._args, **self._kwargs)\n",
      "  File \"/home/fkretschmar/miniconda3/envs/masters-thesis/lib/python3.7/site-packages/multiprocess/pool.py\", line 110, in worker\n",
      "    task = get()\n",
      "  File \"/home/fkretschmar/miniconda3/envs/masters-thesis/lib/python3.7/site-packages/multiprocess/queues.py\", line 354, in get\n",
      "    with self._rlock:\n",
      "  File \"/home/fkretschmar/miniconda3/envs/masters-thesis/lib/python3.7/site-packages/multiprocess/synchronize.py\", line 102, in __enter__\n",
      "    return self._semlock.__enter__()\n",
      "KeyboardInterrupt\n"
     ]
    }
   ],
   "source": [
    "training_parameters['optimization_target']['parameters']['fairness_function'] \\\n",
    "    = lambda **fp : fairness_function(\"BD_DP\", **fp)\n",
    "training_parameters['optimization_target']['parameters']['fairness_gradient_function'] \\\n",
    "    = lambda **fp : fairness_function_gradient(\"BD_DP\", **fp)\n",
    "\n",
    "training_parameters[\"save_path\"] = \"../res/local_experiments/DUAL_GRADIENT/COMPAS/BD_DP\"\n",
    "statistics, model_parameters, run_path = train(\n",
    "    training_parameters,\n",
    "    iterations=10,\n",
    "    asynchronous=True)\n",
    "\n",
    "plot_mean(statistics,\n",
    "          \"{}/results_mean_time.png\".format(run_path),\n",
    "          model_parameters=model_parameters)\n",
    "plot_median(statistics,\n",
    "            \"{}/results_median_time.png\".format(run_path),\n",
    "            model_parameters=model_parameters)\n"
   ],
   "metadata": {
    "collapsed": false,
    "pycharm": {
     "name": "#%%\n"
    }
   }
  },
  {
   "cell_type": "markdown",
   "metadata": {
    "pycharm": {
     "name": "#%% md\n"
    }
   },
   "source": [
    "### Benefit Difference: EOP"
   ]
  },
  {
   "cell_type": "code",
   "execution_count": null,
   "outputs": [],
   "source": [
    "training_parameters['optimization_target']['parameters']['fairness_function'] = lambda **fp : fairness_function(\"BD_EOP\", **fp)\n",
    "training_parameters['optimization_target']['parameters']['fairness_gradient_function'] = lambda **fp : fairness_function_gradient(\"BD_EOP\", **fp)\n",
    "\n",
    "training_parameters[\"save_path\"] = \"../res/local_experiments/DUAL_GRADIENT/COMPAS/BD_EOP\"\n",
    "statistics, model_parameters, run_path = train(\n",
    "    training_parameters,\n",
    "    iterations=30,\n",
    "    asynchronous=True)\n",
    "\n",
    "plot_mean(statistics, \"{}/results_mean_time.png\".format(run_path), model_parameters=model_parameters)\n",
    "plot_median(statistics, \"{}/results_median_time.png\".format(run_path), model_parameters=model_parameters)"
   ],
   "metadata": {
    "collapsed": false,
    "pycharm": {
     "name": "#%%\n"
    }
   }
  },
  {
   "cell_type": "markdown",
   "source": [
    "### Covariance of decision: DP"
   ],
   "metadata": {
    "collapsed": false
   }
  },
  {
   "cell_type": "code",
   "execution_count": null,
   "outputs": [],
   "source": [
    "training_parameters['optimization_target']['parameters']['fairness_function'] = lambda **fp : fairness_function(\"COV_DP\", **fp)\n",
    "training_parameters['optimization_target']['parameters']['fairness_gradient_function'] = lambda **fp : fairness_function_gradient(\"COV_DP\", **fp)\n",
    "\n",
    "training_parameters[\"save_path\"] = \"../res/local_experiments/DUAL_GRADIENT/COMPAS/COV_DP\"\n",
    "statistics, model_parameters, run_path = train(\n",
    "    training_parameters,\n",
    "    iterations=30,\n",
    "    asynchronous=True)\n",
    "\n",
    "plot_mean(statistics, \"{}/results_mean_time.png\".format(run_path), model_parameters=model_parameters)\n",
    "plot_median(statistics, \"{}/results_median_time.png\".format(run_path), model_parameters=model_parameters)"
   ],
   "metadata": {
    "collapsed": false,
    "pycharm": {
     "name": "#%%\n"
    }
   }
  },
  {
   "cell_type": "markdown",
   "metadata": {
    "pycharm": {
     "is_executing": false,
     "name": "#%% md\n"
    }
   },
   "source": [
    "### Covariance of distance: DP"
   ]
  },
  {
   "cell_type": "code",
   "execution_count": 5,
   "outputs": [
    {
     "name": "stdout",
     "output_type": "stream",
     "text": [
      "## STARTED // LR = 0.01 // TS = 200 // E = 60 // BS = 128 // NB = 32 // FR = 0.0 ##\n"
     ]
    },
    {
     "ename": "ValueError",
     "evalue": "p < 0, p > 1 or p contains NaNs",
     "output_type": "error",
     "traceback": [
      "\u001B[0;31m---------------------------------------------------------------------------\u001B[0m",
      "\u001B[0;31mRemoteTraceback\u001B[0m                           Traceback (most recent call last)",
      "\u001B[0;31mRemoteTraceback\u001B[0m: \n\"\"\"\nTraceback (most recent call last):\n  File \"/home/fkretschmar/miniconda3/envs/masters-thesis/lib/python3.7/site-packages/multiprocess/pool.py\", line 121, in worker\n    result = (True, func(*args, **kwds))\n  File \"/home/fkretschmar/Documents/master-thesis/src/training.py\", line 196, in _training_iteration\n    results, model_parameters = training_method(training_parameters)\n  File \"/home/fkretschmar/Documents/master-thesis/src/consequential_learning.py\", line 196, in train\n    optimizer.update_model_parameters(x, s, y, theta_learning_rate, ips_weights_batch)\n  File \"/home/fkretschmar/Documents/master-thesis/src/optimization.py\", line 65, in update_model_parameters\n    decisions, decision_probability = self.policy(x, s)\n  File \"/home/fkretschmar/Documents/master-thesis/src/policy.py\", line 46, in __call__\n    return np.expand_dims(get_random().binomial(1, probability).astype(float), axis=1), np.expand_dims(probability,\n  File \"mtrand.pyx\", line 3351, in numpy.random.mtrand.RandomState.binomial\n  File \"_common.pyx\", line 324, in numpy.random._common.check_array_constraint\nValueError: p < 0, p > 1 or p contains NaNs\n\"\"\"",
      "\nThe above exception was the direct cause of the following exception:\n",
      "\u001B[0;31mValueError\u001B[0m                                Traceback (most recent call last)",
      "\u001B[0;32m<ipython-input-5-45c46572b98c>\u001B[0m in \u001B[0;36m<module>\u001B[0;34m\u001B[0m\n\u001B[1;32m      6\u001B[0m     \u001B[0mtraining_parameters\u001B[0m\u001B[0;34m,\u001B[0m\u001B[0;34m\u001B[0m\u001B[0;34m\u001B[0m\u001B[0m\n\u001B[1;32m      7\u001B[0m     \u001B[0miterations\u001B[0m\u001B[0;34m=\u001B[0m\u001B[0;36m30\u001B[0m\u001B[0;34m,\u001B[0m\u001B[0;34m\u001B[0m\u001B[0;34m\u001B[0m\u001B[0m\n\u001B[0;32m----> 8\u001B[0;31m     asynchronous=True)\n\u001B[0m\u001B[1;32m      9\u001B[0m \u001B[0;34m\u001B[0m\u001B[0m\n\u001B[1;32m     10\u001B[0m \u001B[0mplot_mean\u001B[0m\u001B[0;34m(\u001B[0m\u001B[0mstatistics\u001B[0m\u001B[0;34m,\u001B[0m \u001B[0;34m\"{}/results_mean_time.png\"\u001B[0m\u001B[0;34m.\u001B[0m\u001B[0mformat\u001B[0m\u001B[0;34m(\u001B[0m\u001B[0mrun_path\u001B[0m\u001B[0;34m)\u001B[0m\u001B[0;34m,\u001B[0m \u001B[0mmodel_parameters\u001B[0m\u001B[0;34m=\u001B[0m\u001B[0mmodel_parameters\u001B[0m\u001B[0;34m)\u001B[0m\u001B[0;34m\u001B[0m\u001B[0;34m\u001B[0m\u001B[0m\n",
      "\u001B[0;32m~/Documents/master-thesis/src/training.py\u001B[0m in \u001B[0;36mtrain\u001B[0;34m(training_parameters, iterations, fairness_rates, asynchronous)\u001B[0m\n\u001B[1;32m    267\u001B[0m                                                                      \u001B[0mtraining_algorithm\u001B[0m\u001B[0;34m.\u001B[0m\u001B[0mtrain\u001B[0m\u001B[0;34m,\u001B[0m\u001B[0;34m\u001B[0m\u001B[0;34m\u001B[0m\u001B[0m\n\u001B[1;32m    268\u001B[0m                                                                      \u001B[0miterations\u001B[0m\u001B[0;34m,\u001B[0m\u001B[0;34m\u001B[0m\u001B[0;34m\u001B[0m\u001B[0m\n\u001B[0;32m--> 269\u001B[0;31m                                                                      asynchronous)\n\u001B[0m\u001B[1;32m    270\u001B[0m         \u001B[0;32mif\u001B[0m \u001B[0mmultiple_lambdas\u001B[0m\u001B[0;34m:\u001B[0m\u001B[0;34m\u001B[0m\u001B[0;34m\u001B[0m\u001B[0m\n\u001B[1;32m    271\u001B[0m             \u001B[0moverall_statistics\u001B[0m\u001B[0;34m.\u001B[0m\u001B[0mlog_run\u001B[0m\u001B[0;34m(\u001B[0m\u001B[0mstatistics\u001B[0m\u001B[0;34m)\u001B[0m\u001B[0;34m\u001B[0m\u001B[0;34m\u001B[0m\u001B[0m\n",
      "\u001B[0;32m~/Documents/master-thesis/src/training.py\u001B[0m in \u001B[0;36mtrain_over_iterations\u001B[0;34m(self, training_parameters, training_method, iterations, asynchronous)\u001B[0m\n\u001B[1;32m    216\u001B[0m \u001B[0;34m\u001B[0m\u001B[0m\n\u001B[1;32m    217\u001B[0m             \u001B[0;32mfor\u001B[0m \u001B[0mresult\u001B[0m \u001B[0;32min\u001B[0m \u001B[0mapply_results\u001B[0m\u001B[0;34m:\u001B[0m\u001B[0;34m\u001B[0m\u001B[0;34m\u001B[0m\u001B[0m\n\u001B[0;32m--> 218\u001B[0;31m                 \u001B[0mresults_per_iterations\u001B[0m\u001B[0;34m.\u001B[0m\u001B[0mappend\u001B[0m\u001B[0;34m(\u001B[0m\u001B[0mresult\u001B[0m\u001B[0;34m.\u001B[0m\u001B[0mget\u001B[0m\u001B[0;34m(\u001B[0m\u001B[0;34m)\u001B[0m\u001B[0;34m)\u001B[0m\u001B[0;34m\u001B[0m\u001B[0;34m\u001B[0m\u001B[0m\n\u001B[0m\u001B[1;32m    219\u001B[0m         \u001B[0;32melse\u001B[0m\u001B[0;34m:\u001B[0m\u001B[0;34m\u001B[0m\u001B[0;34m\u001B[0m\u001B[0m\n\u001B[1;32m    220\u001B[0m             \u001B[0mresults_per_iterations\u001B[0m \u001B[0;34m=\u001B[0m \u001B[0;34m[\u001B[0m\u001B[0;34m]\u001B[0m\u001B[0;34m\u001B[0m\u001B[0;34m\u001B[0m\u001B[0m\n",
      "\u001B[0;32m~/miniconda3/envs/masters-thesis/lib/python3.7/site-packages/multiprocess/pool.py\u001B[0m in \u001B[0;36mget\u001B[0;34m(self, timeout)\u001B[0m\n\u001B[1;32m    655\u001B[0m             \u001B[0;32mreturn\u001B[0m \u001B[0mself\u001B[0m\u001B[0;34m.\u001B[0m\u001B[0m_value\u001B[0m\u001B[0;34m\u001B[0m\u001B[0;34m\u001B[0m\u001B[0m\n\u001B[1;32m    656\u001B[0m         \u001B[0;32melse\u001B[0m\u001B[0;34m:\u001B[0m\u001B[0;34m\u001B[0m\u001B[0;34m\u001B[0m\u001B[0m\n\u001B[0;32m--> 657\u001B[0;31m             \u001B[0;32mraise\u001B[0m \u001B[0mself\u001B[0m\u001B[0;34m.\u001B[0m\u001B[0m_value\u001B[0m\u001B[0;34m\u001B[0m\u001B[0;34m\u001B[0m\u001B[0m\n\u001B[0m\u001B[1;32m    658\u001B[0m \u001B[0;34m\u001B[0m\u001B[0m\n\u001B[1;32m    659\u001B[0m     \u001B[0;32mdef\u001B[0m \u001B[0m_set\u001B[0m\u001B[0;34m(\u001B[0m\u001B[0mself\u001B[0m\u001B[0;34m,\u001B[0m \u001B[0mi\u001B[0m\u001B[0;34m,\u001B[0m \u001B[0mobj\u001B[0m\u001B[0;34m)\u001B[0m\u001B[0;34m:\u001B[0m\u001B[0;34m\u001B[0m\u001B[0;34m\u001B[0m\u001B[0m\n",
      "\u001B[0;31mValueError\u001B[0m: p < 0, p > 1 or p contains NaNs"
     ]
    }
   ],
   "source": [
    "training_parameters['optimization_target']['parameters']['fairness_function'] = lambda **fp : fairness_function(\"COV_DP_DIST\", **fp)\n",
    "training_parameters['optimization_target']['parameters']['fairness_gradient_function'] = lambda **fp : fairness_function_gradient(\"COV_DP_DIST\", **fp)\n",
    "\n",
    "training_parameters[\"save_path\"] = \"../res/local_experiments/DUAL_GRADIENT/COMPAS/COV_DP\"\n",
    "statistics, model_parameters, run_path = train(\n",
    "    training_parameters,\n",
    "    iterations=30,\n",
    "    asynchronous=True)\n",
    "\n",
    "plot_mean(statistics, \"{}/results_mean_time.png\".format(run_path), model_parameters=model_parameters)\n",
    "plot_median(statistics, \"{}/results_median_time.png\".format(run_path), model_parameters=model_parameters)"
   ],
   "metadata": {
    "collapsed": false,
    "pycharm": {
     "name": "#%%\n"
    }
   }
  },
  {
   "cell_type": "markdown",
   "source": [
    "# Adult Credit Data"
   ],
   "metadata": {
    "collapsed": false
   }
  },
  {
   "cell_type": "code",
   "execution_count": null,
   "outputs": [],
   "source": [
    "bias = True\n",
    "distribution = AdultCreditDistribution(bias=bias, test_percentage=0.2)\n",
    "dim_theta = distribution.feature_dim\n",
    "\n",
    "def util_func(**util_params):\n",
    "    util = cost_utility(cost_factor=0.5, **util_params)\n",
    "    return util\n",
    "\n",
    "training_parameters = {\n",
    "    'model':{\n",
    "        'constructor': LogisticPolicy,\n",
    "        'parameters': {\n",
    "            \"theta\": np.zeros((dim_theta)),\n",
    "            \"feature_map\": IdentityFeatureMap(dim_theta),\n",
    "            \"use_sensitive_attributes\": False\n",
    "        }\n",
    "    },\n",
    "    'distribution': distribution,\n",
    "    'optimization_target': {\n",
    "        'constructor': LagrangianOptimizationTarget,\n",
    "        'parameters': {\n",
    "            'utility_function': util_func\n",
    "        }\n",
    "    },\n",
    "    'parameter_optimization': {\n",
    "        'time_steps':200,\n",
    "        'epochs': 60,\n",
    "        'batch_size':64,\n",
    "        'learning_rate': 0.05,\n",
    "        'decay_rate': 1,\n",
    "        'decay_step': 10000,\n",
    "        'num_batches': 256,\n",
    "        'fix_seeds': True\n",
    "    },\n",
    "    'lagrangian_optimization': {\n",
    "        'batch_size':64,\n",
    "        'epochs': 10,\n",
    "        'learning_rate': 0.00001,\n",
    "        'num_batches': 256\n",
    "    },\n",
    "    'test': {\n",
    "        'num_samples': 1000000\n",
    "    }\n",
    "}"
   ],
   "metadata": {
    "collapsed": false,
    "pycharm": {
     "name": "#%%\n"
    }
   }
  },
  {
   "cell_type": "markdown",
   "source": [
    "### Benefit Difference: DP"
   ],
   "metadata": {
    "collapsed": false,
    "pycharm": {
     "name": "#%% md\n"
    }
   }
  },
  {
   "cell_type": "code",
   "execution_count": null,
   "outputs": [],
   "source": [
    "training_parameters['optimization_target']['parameters']['fairness_function'] = lambda **fp : fairness_function(\"BD_DP\", **fp)\n",
    "training_parameters['optimization_target']['parameters']['fairness_gradient_function'] = lambda **fp : fairness_function_gradient(\"BD_DP\", **fp)\n",
    "\n",
    "training_parameters[\"save_path\"] = \"../res/local_experiments/DUAL_GRADIENT/ADULT/BD_DP\"\n",
    "\n",
    "statistics, model_parameters, run_path = train(\n",
    "    training_parameters,\n",
    "    iterations=30,\n",
    "    asynchronous=True)\n",
    "\n",
    "plot_mean(statistics, \"{}/results_mean_time.png\".format(run_path), model_parameters=model_parameters)\n",
    "plot_median(statistics, \"{}/results_median_time.png\".format(run_path), model_parameters=model_parameters)\n"
   ],
   "metadata": {
    "collapsed": false,
    "pycharm": {
     "name": "#%%\n"
    }
   }
  },
  {
   "cell_type": "markdown",
   "source": [
    "### Benefit Difference: EOP"
   ],
   "metadata": {
    "collapsed": false
   }
  },
  {
   "cell_type": "code",
   "execution_count": null,
   "outputs": [],
   "source": [
    "training_parameters['optimization_target']['parameters']['fairness_function'] = lambda **fp : fairness_function(\"BD_EOP\", **fp)\n",
    "training_parameters['optimization_target']['parameters']['fairness_gradient_function'] = lambda **fp : fairness_function_gradient(\"BD_EOP\", **fp)\n",
    "\n",
    "training_parameters[\"save_path\"] = \"../res/local_experiments/DUAL_GRADIENT/ADULT/BD_EOP\"\n",
    "\n",
    "statistics, model_parameters, run_path = train(\n",
    "    training_parameters,\n",
    "    iterations=30,\n",
    "    asynchronous=True)\n",
    "\n",
    "plot_mean(statistics, \"{}/results_mean_time.png\".format(run_path), model_parameters=model_parameters)\n",
    "plot_median(statistics, \"{}/results_median_time.png\".format(run_path), model_parameters=model_parameters)\n"
   ],
   "metadata": {
    "collapsed": false,
    "pycharm": {
     "name": "#%%\n"
    }
   }
  },
  {
   "cell_type": "markdown",
   "source": [
    "### Covariance of decision: DP"
   ],
   "metadata": {
    "collapsed": false
   }
  },
  {
   "cell_type": "code",
   "execution_count": null,
   "outputs": [],
   "source": [
    "training_parameters['optimization_target']['parameters']['fairness_function'] = lambda **fp : fairness_function(\"COV_DP\", **fp)\n",
    "training_parameters['optimization_target']['parameters']['fairness_gradient_function'] = lambda **fp : fairness_function_gradient(\"COV_DP\", **fp)\n",
    "\n",
    "training_parameters[\"save_path\"] = \"../res/local_experiments/DUAL_GRADIENT/ADULT/COV_DP\"\n",
    "\n",
    "statistics, model_parameters, run_path = train(\n",
    "    training_parameters,\n",
    "    iterations=30,\n",
    "    asynchronous=True)\n",
    "\n",
    "plot_mean(statistics, \"{}/results_mean_time.png\".format(run_path), model_parameters=model_parameters)\n",
    "plot_median(statistics, \"{}/results_median_time.png\".format(run_path), model_parameters=model_parameters)\n"
   ],
   "metadata": {
    "collapsed": false,
    "pycharm": {
     "name": "#%%\n"
    }
   }
  }
 ],
 "metadata": {
  "file_extension": ".py",
  "kernelspec": {
   "name": "python3",
   "language": "python",
   "display_name": "Python 3"
  },
  "language_info": {
   "codemirror_mode": {
    "name": "ipython",
    "version": 3
   },
   "file_extension": ".py",
   "mimetype": "text/x-python",
   "name": "python",
   "nbconvert_exporter": "python",
   "pygments_lexer": "ipython3",
   "version": "3.7.4-final"
  },
  "mimetype": "text/x-python",
  "name": "python",
  "npconvert_exporter": "python",
  "pygments_lexer": "ipython3",
  "version": 3
 },
 "nbformat": 4,
 "nbformat_minor": 2
}