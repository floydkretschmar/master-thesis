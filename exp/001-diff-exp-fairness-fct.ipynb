{
 "nbformat": 4,
 "nbformat_minor": 2,
 "metadata": {
  "language_info": {
   "name": "python",
   "codemirror_mode": {
    "name": "ipython",
    "version": 3
   },
   "version": "3.7.4"
  },
  "orig_nbformat": 2,
  "file_extension": ".py",
  "mimetype": "text/x-python",
  "name": "python",
  "npconvert_exporter": "python",
  "pygments_lexer": "ipython3",
  "version": 3
 },
 "cells": [
  {
   "cell_type": "markdown",
   "metadata": {},
   "outputs": [],
   "source": [
    "# Implementation of \"Fair Decisions Despite Imperfect Predictions\" using the original fairness constraint"
   ]
  },
  {
   "cell_type": "code",
   "execution_count": 1,
   "metadata": {},
   "outputs": [],
   "source": [
    "import numpy as np\n",
    "from src.consequential_learning import collect_data, train\n",
    "from src.feature_map import IdentityFeatureMap"
   ]
  },
  {
   "cell_type": "markdown",
   "metadata": {},
   "outputs": [],
   "source": [
    "## The parameters used by the the original authors  \n",
    "Note: Learning rate decay is not yet implemented"
   ]
  },
  {
   "cell_type": "code",
   "execution_count": 2,
   "metadata": {},
   "outputs": [],
   "source": [
    "training_parameters = {\n",
    "    'dim_x': 1,\n",
    "    'dim_s': 1,\n",
    "    'time_steps':200,\n",
    "    'batch_size':512,\n",
    "    'num_iterations': 32,\n",
    "    'learning_parameters': {\n",
    "        'learning_rate': 0.5,\n",
    "        'decay_rate': 0.8,\n",
    "        'decay_step': 30\n",
    "    },\n",
    "    'fairness_rate':0,\n",
    "    'cost_factor':0.55,\n",
    "    'fraction_protected':0.3\n",
    "}\n",
    "training_parameters['dim_theta'] = training_parameters['dim_x'] + training_parameters['dim_s']\n",
    "training_parameters['feature_map'] = IdentityFeatureMap(training_parameters['dim_theta'])\n",
    "training_parameters['num_decisions'] = training_parameters['num_iterations'] * training_parameters['batch_size']"
   ]
  },
  {
   "cell_type": "markdown",
   "metadata": {},
   "outputs": [],
   "source": [
    "## Definition of the fairness function  \n",
    "The original fairness constraint was defined as the difference of benefits $b_{P}^s$ for both of the settings of the protected attribute. This function defines both the fairness function as well as its derivative which is controlled by the parameter gradient=true/false"
   ]
  },
  {
   "cell_type": "code",
   "execution_count": 3,
   "metadata": {},
   "outputs": [],
   "source": [
    "def fairness_function(**fairness_kwargs):\n",
    "    return fairness_kwargs['policy'].calculate_benefit_difference(fairness_kwargs['x'], fairness_kwargs['s'], fairness_kwargs['sample_theta'], fairness_kwargs['gradient'])\n"
   ]
  },
  {
   "cell_type": "markdown",
   "metadata": {},
   "outputs": [],
   "source": [
    "## Train the model"
   ]
  },
  {
   "cell_type": "code",
   "execution_count": 9,
   "metadata": {},
   "outputs": [
    {
     "name": "stdout",
     "output_type": "stream",
     "text": "Time step 1: Utility -0.013420926325893949 \n\t Benefit Delta 0.5366596341473273\nTime step 2: Utility 0.05205121145374447 \n\t Benefit Delta 0.010924412160805086\nTime step 3: Utility 0.05192411194833152 \n\t Benefit Delta 0.01467836526479005\nTime step 4: Utility 0.06021542738012507 \n\t Benefit Delta 0.0011352750185811278\nTime step 5: Utility 0.05304017372421279 \n\t Benefit Delta 0.031154035449134976\nTime step 6: Utility 0.05840906008409058 \n\t Benefit Delta 0.021953914564259103\nTime step 7: Utility 0.0531815091774303 \n\t Benefit Delta 0.01545082980446355\nTime step 8: Utility 0.05680715375017328 \n\t Benefit Delta 0.01861465990809097\nTime step 9: Utility 0.06402862985685069 \n\t Benefit Delta 0.00926150771844314\nTime step 10: Utility 0.05972733469665983 \n\t Benefit Delta 0.029313113194832097\nTime step 11: Utility 0.06537841107675761 \n\t Benefit Delta 0.012861009132276169\nTime step 12: Utility 0.05628052088985348 \n\t Benefit Delta 0.025422972880057904\nTime step 13: Utility 0.061760304720446184 \n\t Benefit Delta 0.019976038884253144\nTime step 14: Utility 0.05439906811018224 \n\t Benefit Delta 0.007977519333682404\nTime step 15: Utility 0.06477693891557994 \n\t Benefit Delta 0.01580707111427382\nTime step 16: Utility 0.05432341001353178 \n\t Benefit Delta 0.03273185465399586\nTime step 17: Utility 0.05695823697456127 \n\t Benefit Delta 0.005291822384767775\nTime step 18: Utility 0.058369893062791306 \n\t Benefit Delta 0.019825900094804894\nTime step 19: Utility 0.07456008730050469 \n\t Benefit Delta 0.002982583760198887\nTime step 20: Utility 0.06724278161854412 \n\t Benefit Delta 0.017821162833332238\nTime step 21: Utility 0.07303248606769061 \n\t Benefit Delta 0.01375722045805583\nTime step 22: Utility 0.06020228074938906 \n\t Benefit Delta 0.013072495624515512\nTime step 23: Utility 0.06926486633933442 \n\t Benefit Delta 0.018098525763542428\nTime step 24: Utility 0.07489174560216506 \n\t Benefit Delta 0.016067538860981667\nTime step 25: Utility 0.07134371159360915 \n\t Benefit Delta 0.01564857520881291\nTime step 26: Utility 0.07024716098864395 \n\t Benefit Delta 0.00847408659920601\nTime step 27: Utility 0.0710762632354912 \n\t Benefit Delta 0.01167644398133949\nTime step 28: Utility 0.06511048234977093 \n\t Benefit Delta 0.011650043575319957\nTime step 29: Utility 0.06752072855783606 \n\t Benefit Delta 0.009590320745842762\nTime step 30: Utility 0.07170784686396957 \n\t Benefit Delta 0.019797059990891985\nTime step 31: Utility 0.08142741826987755 \n\t Benefit Delta 0.0053295612068136045\nTime step 32: Utility 0.0704536166734777 \n\t Benefit Delta 0.007284960813660479\nTime step 33: Utility 0.07264665757162345 \n\t Benefit Delta 0.050148799647469655\nTime step 34: Utility 0.0661288171756234 \n\t Benefit Delta 0.010859541488406954\nTime step 35: Utility 0.06802427511800403 \n\t Benefit Delta 0.026445174613277667\nTime step 36: Utility 0.06383223017695527 \n\t Benefit Delta 0.00819130546146074\nTime step 37: Utility 0.07303841991341989 \n\t Benefit Delta 0.01866716895780207\nTime step 38: Utility 0.07522279233054278 \n\t Benefit Delta 0.0024386880308160386\nTime step 39: Utility 0.06877895884437174 \n\t Benefit Delta 0.01046790825341648\nTime step 40: Utility 0.07057451346307649 \n\t Benefit Delta 0.0004380060421842469\nTime step 41: Utility 0.0690485748695303 \n\t Benefit Delta 0.007340255599993184\nTime step 42: Utility 0.07545242665204276 \n\t Benefit Delta 0.005478898220846684\nTime step 43: Utility 0.07874215516090263 \n\t Benefit Delta 0.022863201547599576\nTime step 44: Utility 0.07220289079229121 \n\t Benefit Delta 0.01846416244462956\nTime step 45: Utility 0.06970552642194432 \n\t Benefit Delta 0.007441082774336416\nTime step 46: Utility 0.07212639805956068 \n\t Benefit Delta 0.005444418668301476\nTime step 47: Utility 0.06785036595283273 \n\t Benefit Delta 0.007902006695844732\nTime step 48: Utility 0.06838462572234913 \n\t Benefit Delta 0.01938555976228007\nTime step 49: Utility 0.0748092643051771 \n\t Benefit Delta 0.001114185656217348\nTime step 50: Utility 0.07218034993270524 \n\t Benefit Delta 0.010951799002069884\nTime step 51: Utility 0.07084850937542153 \n\t Benefit Delta 0.027313902360225573\nTime step 52: Utility 0.06906211936662605 \n\t Benefit Delta 0.0049163566272723\nTime step 53: Utility 0.06901492935217274 \n\t Benefit Delta 0.0038433540821856127\nTime step 54: Utility 0.07637870143982611 \n\t Benefit Delta 0.0030157624155557894\nTime step 55: Utility 0.07500672404518555 \n\t Benefit Delta 0.0006435088475268413\nTime step 56: Utility 0.07315604276627419 \n\t Benefit Delta 0.011824652758675835\nTime step 57: Utility 0.06725830307919858 \n\t Benefit Delta 0.008292672765553677\nTime step 58: Utility 0.07616566466265864 \n\t Benefit Delta 0.006702560988590012\nTime step 59: Utility 0.07749699157641395 \n\t Benefit Delta 0.021059744940300384\nTime step 60: Utility 0.06982781813290287 \n\t Benefit Delta 0.0067762327757132645\nTime step 61: Utility 0.07738239654940017 \n\t Benefit Delta 0.013400014915551428\nTime step 62: Utility 0.06909731454400424 \n\t Benefit Delta 0.0015701040795994547\nTime step 63: Utility 0.07025902563414303 \n\t Benefit Delta 0.024066329905928274\nTime step 64: Utility 0.07773301101262421 \n\t Benefit Delta 0.03172015228386926\nTime step 65: Utility 0.07333819822210427 \n\t Benefit Delta 0.02050249606718091\nTime step 66: Utility 0.07270299145299143 \n\t Benefit Delta 0.003315679547515993\nTime step 67: Utility 0.0692083664283823 \n\t Benefit Delta 0.00127170690913192\nTime step 68: Utility 0.07916387959866221 \n\t Benefit Delta 0.002390110964101355\nTime step 69: Utility 0.069468791500664 \n\t Benefit Delta 0.004670677403219803\nTime step 70: Utility 0.07420459122029802 \n\t Benefit Delta 0.006764434296251842\nTime step 71: Utility 0.07907494758909851 \n\t Benefit Delta 0.010169708742045369\nTime step 72: Utility 0.07089414858645626 \n\t Benefit Delta 0.025565441395952737\nTime step 73: Utility 0.07476190476190475 \n\t Benefit Delta 0.004720291544282773\nTime step 74: Utility 0.07004963777837402 \n\t Benefit Delta 0.02365533630369654\nTime step 75: Utility 0.06574834972383131 \n\t Benefit Delta 0.03359919793141941\nTime step 76: Utility 0.0735084654662725 \n\t Benefit Delta 0.031367647911349605\nTime step 77: Utility 0.07326310174689957 \n\t Benefit Delta 0.025291561810187657\nTime step 78: Utility 0.07794608301081007 \n\t Benefit Delta 0.0009619561627841611\nTime step 79: Utility 0.07737800910865321 \n\t Benefit Delta 0.03333122518272991\nTime step 80: Utility 0.06945035932925203 \n\t Benefit Delta 0.005409442851532997\nTime step 81: Utility 0.06771569542605678 \n\t Benefit Delta 0.007173415584149079\nTime step 82: Utility 0.0873102811138973 \n\t Benefit Delta 0.00022652610908946436\nTime step 83: Utility 0.07563224446786088 \n\t Benefit Delta 0.004441400150525632\nTime step 84: Utility 0.08073358050847457 \n\t Benefit Delta 0.007393766200806784\nTime step 85: Utility 0.07714944399240573 \n\t Benefit Delta 0.00633209783405253\nTime step 86: Utility 0.08573990435706694 \n\t Benefit Delta 0.011259756059268655\nTime step 87: Utility 0.08098041810002646 \n\t Benefit Delta 0.00734530392339372\nTime step 88: Utility 0.07755988418004738 \n\t Benefit Delta 0.023956192425771627\nTime step 89: Utility 0.07430750702529103 \n\t Benefit Delta 0.00046351255215792975\nTime step 90: Utility 0.06835561497326202 \n\t Benefit Delta 0.012261758619638963\nTime step 91: Utility 0.07148541114058354 \n\t Benefit Delta 0.05743389202403071\nTime step 92: Utility 0.06801597869507321 \n\t Benefit Delta 0.003161119244736943\nTime step 93: Utility 0.07099543869063588 \n\t Benefit Delta 0.002435004641559657\nTime step 94: Utility 0.08005580653733721 \n\t Benefit Delta 0.01306269250735248\nTime step 95: Utility 0.07989349266138458 \n\t Benefit Delta 0.015312738615758104\nTime step 96: Utility 0.0796588457389428 \n\t Benefit Delta 0.028324947264411482\nTime step 97: Utility 0.08338892595063374 \n\t Benefit Delta 9.60288550901911e-05\nTime step 98: Utility 0.07450105042016805 \n\t Benefit Delta 0.01149854802668604\nTime step 99: Utility 0.07564870259481035 \n\t Benefit Delta 0.01114311137383317\nTime step 100: Utility 0.06941555877319994 \n\t Benefit Delta 0.036258026519723874\nTime step 101: Utility 0.07310671831174034 \n\t Benefit Delta 0.0085857482792554\nTime step 102: Utility 0.07320551943744193 \n\t Benefit Delta 0.00200487768659241\nTime step 103: Utility 0.07213949843260185 \n\t Benefit Delta 0.005360012051789154\nTime step 104: Utility 0.07158076974297509 \n\t Benefit Delta 0.006187036934440782\nTime step 105: Utility 0.06465066380582002 \n\t Benefit Delta 0.015156392091239201\nTime step 106: Utility 0.0776232533614553 \n\t Benefit Delta 0.009815478016707901\nTime step 107: Utility 0.07937508381386615 \n\t Benefit Delta 0.014176405236269618\nTime step 108: Utility 0.0740987355394135 \n\t Benefit Delta 0.010082020737722464\nTime step 109: Utility 0.07623428193249501 \n\t Benefit Delta 0.011560319718268097\nTime step 110: Utility 0.0726822503961965 \n\t Benefit Delta 0.006818000552959891\nTime step 111: Utility 0.07293407613741874 \n\t Benefit Delta 0.017548545261186987\nTime step 112: Utility 0.06935719019218023 \n\t Benefit Delta 0.010105304811893645\nTime step 113: Utility 0.07444939695857365 \n\t Benefit Delta 0.008459694430885012\nTime step 114: Utility 0.07973795659078876 \n\t Benefit Delta 0.006897232016724653\nTime step 115: Utility 0.08969092855231468 \n\t Benefit Delta 0.005051073751029644\nTime step 116: Utility 0.06766084917947379 \n\t Benefit Delta 0.006446988762648154\nTime step 117: Utility 0.07860212165972874 \n\t Benefit Delta 0.00642050004814021\nTime step 118: Utility 0.06622361219702891 \n\t Benefit Delta 0.003920614150149104\nTime step 119: Utility 0.0719399232499669 \n\t Benefit Delta 0.017325587664645203\nTime step 120: Utility 0.07991196478591435 \n\t Benefit Delta 0.02251366936712651\nTime step 121: Utility 0.06838641747828375 \n\t Benefit Delta 0.016490928014650907\nTime step 122: Utility 0.07144005358338913 \n\t Benefit Delta 0.012637651830962437\nTime step 123: Utility 0.07507210277923439 \n\t Benefit Delta 0.01562650658781528\nTime step 124: Utility 0.07571353757528149 \n\t Benefit Delta 0.016118552517038087\nTime step 125: Utility 0.06944517313746063 \n\t Benefit Delta 0.03309929658736932\nTime step 126: Utility 0.06391900718484649 \n\t Benefit Delta 0.05638921586401946\nTime step 127: Utility 0.07211737331954497 \n\t Benefit Delta 0.013872294480352543\nTime step 128: Utility 0.07481846473029045 \n\t Benefit Delta 0.01664776408681301\nTime step 129: Utility 0.07477143235722801 \n\t Benefit Delta 0.005664148405682301\nTime step 130: Utility 0.07427884615384614 \n\t Benefit Delta 0.004982446092128168\nTime step 131: Utility 0.07232609832635982 \n\t Benefit Delta 0.0008329348110067691\nTime step 132: Utility 0.07252652519893898 \n\t Benefit Delta 0.020396973435749866\nTime step 133: Utility 0.07954725448785636 \n\t Benefit Delta 0.012248608016502072\nTime step 134: Utility 0.07162341101694913 \n\t Benefit Delta 0.010344771626689009\nTime step 135: Utility 0.07088856805355032 \n\t Benefit Delta 0.015758138261907417\nTime step 136: Utility 0.07273680073365647 \n\t Benefit Delta 0.002271303374013378\nTime step 137: Utility 0.07316929133858267 \n\t Benefit Delta 0.019880735824243545\nTime step 138: Utility 0.07473307291666664 \n\t Benefit Delta 0.015976213851586984\nTime step 139: Utility 0.07293399168399166 \n\t Benefit Delta 0.0035190907700094476\nTime step 140: Utility 0.08033566803224526 \n\t Benefit Delta 0.014163510558482861\nTime step 141: Utility 0.07842353557856112 \n\t Benefit Delta 0.0017755396925431821\nTime step 142: Utility 0.07233766233766231 \n\t Benefit Delta 0.09220615986022596\nTime step 143: Utility 0.06495909622126995 \n\t Benefit Delta 0.023359994971435927\nTime step 144: Utility 0.07959575878064944 \n\t Benefit Delta 0.0039971543165664425\nTime step 145: Utility 0.07748697916666665 \n\t Benefit Delta 0.0030038258903369863\nTime step 146: Utility 0.07507968127490039 \n\t Benefit Delta 0.029869433592530137\nTime step 147: Utility 0.06497675019374836 \n\t Benefit Delta 0.01727501006279286\nTime step 148: Utility 0.08054828578906044 \n\t Benefit Delta 0.059399311047147574\nTime step 149: Utility 0.08312997347480104 \n\t Benefit Delta 0.0023707945868666203\nTime step 150: Utility 0.07215164747915837 \n\t Benefit Delta 0.006770232659296549\nTime step 151: Utility 0.06844219120358175 \n\t Benefit Delta 0.021168499269305308\nTime step 152: Utility 0.07477100235540432 \n\t Benefit Delta 0.0015824047947645692\nTime step 153: Utility 0.06956635318704281 \n\t Benefit Delta 0.009648264575291776\nTime step 154: Utility 0.06915060951631928 \n\t Benefit Delta 0.008776382749929756\nTime step 155: Utility 0.07156568294593886 \n\t Benefit Delta 0.003169431200522488\nTime step 156: Utility 0.06573976915005245 \n\t Benefit Delta 0.020527216462413955\nTime step 157: Utility 0.07400872323552733 \n\t Benefit Delta 0.0032776865177234216\nTime step 158: Utility 0.08161543492478741 \n\t Benefit Delta 0.003009751570257846\nTime step 159: Utility 0.07754143285919352 \n\t Benefit Delta 0.019437940202706283\nTime step 160: Utility 0.07869783412572634 \n\t Benefit Delta 0.0076673398047519825\nTime step 161: Utility 0.07352438543446824 \n\t Benefit Delta 0.0015364223731501037\nTime step 162: Utility 0.07929399367755531 \n\t Benefit Delta 0.0168120770442457\nTime step 163: Utility 0.07194192615950595 \n\t Benefit Delta 0.0022216597026640805\nTime step 164: Utility 0.07714061272584444 \n\t Benefit Delta 0.0070301068875731065\nTime step 165: Utility 0.07200415908500128 \n\t Benefit Delta 0.01798418394166812\nTime step 166: Utility 0.08256862485081552 \n\t Benefit Delta 0.017511018801714018\nTime step 167: Utility 0.07415555843147402 \n\t Benefit Delta 0.004443284249447954\nTime step 168: Utility 0.07946164717975071 \n\t Benefit Delta 0.021639328030179983\nTime step 169: Utility 0.07709537572254334 \n\t Benefit Delta 0.020343527072082868\nTime step 170: Utility 0.07379228642885347 \n\t Benefit Delta 0.009278277569614524\nTime step 171: Utility 0.07498676198040771 \n\t Benefit Delta 0.004757021455164212\nTime step 172: Utility 0.07965453586497889 \n\t Benefit Delta 0.00010226212847830318\nTime step 173: Utility 0.06447891805887031 \n\t Benefit Delta 0.0029481857292502633\nTime step 174: Utility 0.07510220229460635 \n\t Benefit Delta 0.00040093099927174247\nTime step 175: Utility 0.0746543177667623 \n\t Benefit Delta 0.007141686646561007\nTime step 176: Utility 0.08276832460732983 \n\t Benefit Delta 0.008272044422117375\nTime step 177: Utility 0.07307541753653443 \n\t Benefit Delta 0.012742635650572542\nTime step 178: Utility 0.07626928656204666 \n\t Benefit Delta 0.009250179336207531\nTime step 179: Utility 0.07415745304382573 \n\t Benefit Delta 0.04667602867748477\nTime step 180: Utility 0.06471750296325561 \n\t Benefit Delta 0.03604242664240398\nTime step 181: Utility 0.0775832565486376 \n\t Benefit Delta 0.0197919687827407\nTime step 182: Utility 0.06805914256198345 \n\t Benefit Delta 0.004120772789812488\nTime step 183: Utility 0.07950635256749601 \n\t Benefit Delta 0.01707356602422183\nTime step 184: Utility 0.07274774774774773 \n\t Benefit Delta 0.00921846735337839\nTime step 185: Utility 0.08496503496503495 \n\t Benefit Delta 0.008276816721115465\nTime step 186: Utility 0.07702720207253884 \n\t Benefit Delta 0.01829942472092183\nTime step 187: Utility 0.08048570672313392 \n\t Benefit Delta 0.01965478370495588\nTime step 188: Utility 0.06647489539748953 \n\t Benefit Delta 0.01772716202641078\nTime step 189: Utility 0.07110347510373442 \n\t Benefit Delta 0.007710326815344559\nTime step 190: Utility 0.0740684056428001 \n\t Benefit Delta 0.024383584289225824\nTime step 191: Utility 0.07795512221183383 \n\t Benefit Delta 0.014067580432241766\nTime step 192: Utility 0.06508091882015138 \n\t Benefit Delta 0.009995527338307886\nTime step 193: Utility 0.0738277638356888 \n\t Benefit Delta 0.011480773852731274\nTime step 194: Utility 0.07480381899032171 \n\t Benefit Delta 0.005202676014260055\nTime step 195: Utility 0.06910756656999735 \n\t Benefit Delta 0.0008412827237460618\nTime step 196: Utility 0.06385487820595435 \n\t Benefit Delta 0.014260049921720253\nTime step 197: Utility 0.07443380354600748 \n\t Benefit Delta 0.001654261630173126\nTime step 198: Utility 0.07679385336632373 \n\t Benefit Delta 0.011804221827198313\nTime step 199: Utility 0.07265378548895896 \n\t Benefit Delta 0.013875225096394495\nTime step 200: Utility 0.07652196929592374 \n\t Benefit Delta 0.012155768987610949\n"
    }
   ],
   "source": [
    "i = 1\n",
    "for utility, benefit_delta in train(**training_parameters, fairness_function=fairness_function):\n",
    "    print(\"Time step {}: Utility {} \\n\\t Benefit Delta {}\".format(i, utility, benefit_delta))\n",
    "    i += 1"
   ]
  },
  {
   "cell_type": "code",
   "metadata": {},
   "outputs": [],
   "source": []
  }
 ]
}