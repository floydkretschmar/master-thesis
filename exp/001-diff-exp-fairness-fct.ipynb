{
 "nbformat": 4,
 "nbformat_minor": 2,
 "metadata": {
  "language_info": {
   "name": "python",
   "codemirror_mode": {
    "name": "ipython",
    "version": 3
   },
   "version": "3.7.4"
  },
  "orig_nbformat": 2,
  "file_extension": ".py",
  "mimetype": "text/x-python",
  "name": "python",
  "npconvert_exporter": "python",
  "pygments_lexer": "ipython3",
  "version": 3
 },
 "cells": [
  {
   "cell_type": "markdown",
   "execution_count": null,
   "metadata": {},
   "outputs": [],
   "source": [
    "# Implementation of \"Fair Decisions Despite Imperfect Predictions\" using the original fairness constraint"
   ]
  },
  {
   "cell_type": "code",
   "execution_count": 1,
   "metadata": {},
   "outputs": [],
   "source": [
    "import numpy as np\n",
    "from src.consequential_learning import collect_data, train\n",
    "from src.feature_map import IdentityFeatureMap"
   ]
  },
  {
   "cell_type": "markdown",
   "execution_count": null,
   "metadata": {},
   "outputs": [],
   "source": [
    "## The parameters used by the the original authors  \n",
    "Note: Learning rate decay is not yet implemented"
   ]
  },
  {
   "cell_type": "code",
   "execution_count": 7,
   "metadata": {},
   "outputs": [],
   "source": [
    "training_parameters = {\n",
    "    'dim_x': 1,\n",
    "    'dim_s': 1,\n",
    "    'time_steps':200,\n",
    "    'batch_size':512,\n",
    "    'num_iterations': 32,\n",
    "    'learning_rate':0.5,\n",
    "    'fairness_rate':0,\n",
    "    'cost_factor':0.55,\n",
    "    'fraction_protected':0.3\n",
    "}\n",
    "training_parameters['dim_theta'] = training_parameters['dim_x'] + training_parameters['dim_s']\n",
    "training_parameters['feature_map'] = IdentityFeatureMap(training_parameters['dim_theta'])\n",
    "training_parameters['num_decisions'] = training_parameters['num_iterations'] + training_parameters['batch_size']"
   ]
  },
  {
   "cell_type": "markdown",
   "execution_count": null,
   "metadata": {},
   "outputs": [],
   "source": [
    "## Definition of the fairness function  \n",
    "The original fairness constraint was defined as the difference of benefits $b_{P}^s$ for both of the settings of the protected attribute. This function defines both the fairness function as well as its derivative which is controlled by the parameter gradient=true/false"
   ]
  },
  {
   "cell_type": "code",
   "execution_count": 8,
   "metadata": {},
   "outputs": [],
   "source": [
    "def benefit_function(x_s, s, sample_theta, policy, gradient):\n",
    "    ips_weight, phi, log_gradient_denominator = policy.calculate_ips_weights_and_log_gradient(x_s, s, sample_theta)\n",
    "    decision = policy(x_s, s).reshape(-1, 1)\n",
    "\n",
    "    if gradient:\n",
    "        grad_benefit = ((ips_weight/log_gradient_denominator) * decision * phi).sum(axis=0) / x_s.shape[0]\n",
    "        return grad_benefit\n",
    "    else:\n",
    "        benefit = (ips_weight * decision).sum(axis=0) / x_s.shape[0]\n",
    "        return benefit\n",
    "\n",
    "def fairness_function(**fairness_kwargs):\n",
    "    x = fairness_kwargs['x']\n",
    "    s = fairness_kwargs['s']\n",
    "    sample_theta = fairness_kwargs['sample_theta']\n",
    "    policy = fairness_kwargs['policy']\n",
    "    gradient = fairness_kwargs['gradient']\n",
    "\n",
    "    pos_decision_idx = np.arange(s.shape[0]).reshape(-1, 1)\n",
    "\n",
    "    s_0_idx = pos_decision_idx[s == 0]\n",
    "    s_1_idx = pos_decision_idx[s == 1]\n",
    "\n",
    "    return benefit_function(x[s_0_idx], s[s_0_idx], sample_theta, policy, gradient) - benefit_function(x[s_1_idx], s[s_1_idx], sample_theta, policy, gradient)\n"
   ]
  },
  {
   "cell_type": "markdown",
   "execution_count": null,
   "metadata": {},
   "outputs": [],
   "source": [
    "## Train the model"
   ]
  },
  {
   "cell_type": "code",
   "execution_count": 4,
   "metadata": {},
   "outputs": [
    {
     "ename": "NameError",
     "evalue": "name 'DIM_S' is not defined",
     "output_type": "error",
     "traceback": [
      "\u001b[0;31m---------------------------------------------------------------------------\u001b[0m",
      "\u001b[0;31mNameError\u001b[0m                                 Traceback (most recent call last)",
      "\u001b[0;32m<ipython-input-4-71878370f33d>\u001b[0m in \u001b[0;36m<module>\u001b[0;34m\u001b[0m\n\u001b[0;32m----> 1\u001b[0;31m \u001b[0mtrain\u001b[0m\u001b[0;34m(\u001b[0m\u001b[0mDIM_S\u001b[0m\u001b[0;34m,\u001b[0m \u001b[0mDIM_X\u001b[0m\u001b[0;34m,\u001b[0m\u001b[0mDIM_THETA\u001b[0m\u001b[0;34m,\u001b[0m \u001b[0mCOST_FACTOR\u001b[0m\u001b[0;34m,\u001b[0m \u001b[0mNUM_DECISIONS\u001b[0m\u001b[0;34m,\u001b[0m \u001b[0mFRACTION_PROTECTED\u001b[0m\u001b[0;34m,\u001b[0m \u001b[0mLEARNING_RATE\u001b[0m\u001b[0;34m,\u001b[0m \u001b[0mFAIRNESS_RATE\u001b[0m\u001b[0;34m,\u001b[0m \u001b[0mBATCH_SIZE\u001b[0m\u001b[0;34m,\u001b[0m \u001b[0mT\u001b[0m\u001b[0;34m,\u001b[0m \u001b[0mfairness_function\u001b[0m\u001b[0;34m,\u001b[0m \u001b[0mIdentityFeatureMap\u001b[0m\u001b[0;34m(\u001b[0m\u001b[0mDIM_THETA\u001b[0m\u001b[0;34m)\u001b[0m\u001b[0;34m)\u001b[0m\u001b[0;34m\u001b[0m\u001b[0;34m\u001b[0m\u001b[0m\n\u001b[0m",
      "\u001b[0;31mNameError\u001b[0m: name 'DIM_S' is not defined"
     ]
    }
   ],
   "source": [
    "train(**training_parameters, fairness_function=fairness_function)"
   ]
  },
  {
   "cell_type": "code",
   "execution_count": null,
   "metadata": {},
   "outputs": [],
   "source": []
  }
 ]
}