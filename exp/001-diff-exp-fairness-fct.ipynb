{
 "nbformat": 4,
 "nbformat_minor": 2,
 "metadata": {
  "language_info": {
   "name": "python",
   "codemirror_mode": {
    "name": "ipython",
    "version": 3
   },
   "version": "3.7.4"
  },
  "orig_nbformat": 2,
  "file_extension": ".py",
  "mimetype": "text/x-python",
  "name": "python",
  "npconvert_exporter": "python",
  "pygments_lexer": "ipython3",
  "version": 3
 },
 "cells": [
  {
   "cell_type": "markdown",
   "metadata": {},
   "outputs": [],
   "source": [
    "# Implementation of \"Fair Decisions Despite Imperfect Predictions\" using the original fairness constraint"
   ]
  },
  {
   "cell_type": "code",
   "execution_count": 1,
   "metadata": {},
   "outputs": [],
   "source": [
    "import numpy as np\n",
    "from src.consequential_learning import collect_data, train\n",
    "from src.feature_map import IdentityFeatureMap"
   ]
  },
  {
   "cell_type": "markdown",
   "metadata": {},
   "outputs": [],
   "source": [
    "## The parameters used by the the original authors  \n",
    "Note: Learning rate decay is not yet implemented"
   ]
  },
  {
   "cell_type": "code",
   "execution_count": 2,
   "metadata": {},
   "outputs": [],
   "source": [
    "training_parameters = {\n",
    "    'dim_x': 1,\n",
    "    'dim_s': 1,\n",
    "    'time_steps':200,\n",
    "    'batch_size':512,\n",
    "    'num_iterations': 32,\n",
    "    'learning_parameters': {\n",
    "        'learning_rate': 0.5,\n",
    "        'decay_rate': 0.8,\n",
    "        'decay_step': 30\n",
    "    },\n",
    "    'fairness_rate':0,\n",
    "    'cost_factor':0.55,\n",
    "    'fraction_protected':0.3\n",
    "}\n",
    "training_parameters['dim_theta'] = training_parameters['dim_x'] + training_parameters['dim_s']\n",
    "training_parameters['feature_map'] = IdentityFeatureMap(training_parameters['dim_theta'])\n",
    "training_parameters['num_decisions'] = training_parameters['num_iterations'] * training_parameters['batch_size']"
   ]
  },
  {
   "cell_type": "markdown",
   "metadata": {},
   "outputs": [],
   "source": [
    "## Definition of the fairness function  \n",
    "The original fairness constraint was defined as the difference of benefits $b_{P}^s$ for both of the settings of the protected attribute. This function defines both the fairness function as well as its derivative which is controlled by the parameter gradient=true/false"
   ]
  },
  {
   "cell_type": "code",
   "execution_count": 3,
   "metadata": {},
   "outputs": [],
   "source": [
    "def fairness_function(**fairness_kwargs):\n",
    "    return fairness_kwargs['policy'].benefit_difference(fairness_kwargs['x'], fairness_kwargs['s'], fairness_kwargs['sample_theta'], fairness_kwargs['gradient'])\n"
   ]
  },
  {
   "cell_type": "markdown",
   "metadata": {},
   "outputs": [],
   "source": [
    "## Train the model"
   ]
  },
  {
   "cell_type": "code",
   "execution_count": 4,
   "metadata": {},
   "outputs": [
    {
     "name": "stdout",
     "output_type": "stream",
     "text": "Time step 1: Utility -0.019372625903688295\nTime step 2: Utility 0.04927891156462583\nTime step 3: Utility 0.054648788456302735\nTime step 4: Utility 0.06197144045473449\nTime step 5: Utility 0.061748223072717316\nTime step 6: Utility 0.06884374147804743\nTime step 7: Utility 0.06793041308566673\nTime step 8: Utility 0.06266014602562335\nTime step 9: Utility 0.06577716643741402\nTime step 10: Utility 0.0687388744351636\nTime step 11: Utility 0.06683369447453953\nTime step 12: Utility 0.06325417644622393\nTime step 13: Utility 0.06640157694399128\nTime step 14: Utility 0.06703527815468113\nTime step 15: Utility 0.0660620008122377\nTime step 16: Utility 0.06240494296577945\nTime step 17: Utility 0.06880797452582027\nTime step 18: Utility 0.07320207820617992\nTime step 19: Utility 0.06855418418554182\nTime step 20: Utility 0.07699008308764406\nTime step 21: Utility 0.06570264765784112\nTime step 22: Utility 0.06882201436898466\nTime step 23: Utility 0.07089078129224112\nTime step 24: Utility 0.062510148849797\nTime step 25: Utility 0.07317680301399353\nTime step 26: Utility 0.06393287318987682\nTime step 27: Utility 0.07280362618317555\nTime step 28: Utility 0.06485048491379308\nTime step 29: Utility 0.07070888092393467\nTime step 30: Utility 0.07543203156892093\nTime step 31: Utility 0.07706102783725909\nTime step 32: Utility 0.06968991216396059\nTime step 33: Utility 0.0757634871518902\nTime step 34: Utility 0.07587572137968057\nTime step 35: Utility 0.07366804646815328\nTime step 36: Utility 0.07800885549443175\nTime step 37: Utility 0.07002505604641959\nTime step 38: Utility 0.07749999999999997\nTime step 39: Utility 0.07542259189696805\nTime step 40: Utility 0.07398247978436656\nTime step 41: Utility 0.07339400428265523\nTime step 42: Utility 0.07419354838709676\nTime step 43: Utility 0.0722371244635193\nTime step 44: Utility 0.07318187839448931\nTime step 45: Utility 0.07096774193548386\nTime step 46: Utility 0.07253717472118956\nTime step 47: Utility 0.07945150501672239\nTime step 48: Utility 0.06918054630246499\nTime step 49: Utility 0.07982363081819385\nTime step 50: Utility 0.06439143650059467\nTime step 51: Utility 0.07930988542499331\nTime step 52: Utility 0.07163115932557834\nTime step 53: Utility 0.06880971337579617\nTime step 54: Utility 0.07369570974576269\nTime step 55: Utility 0.07485253637436097\nTime step 56: Utility 0.08120632827949899\nTime step 57: Utility 0.06768065887353877\nTime step 58: Utility 0.07342675832892648\nTime step 59: Utility 0.0715994712491738\nTime step 60: Utility 0.07274108322324965\nTime step 61: Utility 0.07693816804221348\nTime step 62: Utility 0.07850121195798543\nTime step 63: Utility 0.0672658094988192\nTime step 64: Utility 0.07585797254487855\nTime step 65: Utility 0.06452465952664285\nTime step 66: Utility 0.07624505928853753\nTime step 67: Utility 0.07501319609395617\nTime step 68: Utility 0.07454751131221718\nTime step 69: Utility 0.07725612936880541\nTime step 70: Utility 0.06930856689582231\nTime step 71: Utility 0.06721180694056639\nTime step 72: Utility 0.06675992539301889\nTime step 73: Utility 0.07319366102605422\nTime step 74: Utility 0.07014312218393849\nTime step 75: Utility 0.07624801901743264\nTime step 76: Utility 0.07089164334266292\nTime step 77: Utility 0.06713832319492197\nTime step 78: Utility 0.07612588885962601\nTime step 79: Utility 0.07718951666008164\nTime step 80: Utility 0.06747956762457157\nTime step 81: Utility 0.07636747067352048\nTime step 82: Utility 0.07929092113982766\nTime step 83: Utility 0.07618364418938306\nTime step 84: Utility 0.07550707232452628\nTime step 85: Utility 0.07400497512437809\nTime step 86: Utility 0.06855266648978507\nTime step 87: Utility 0.06650638914504016\nTime step 88: Utility 0.07448680351906158\nTime step 89: Utility 0.07492078162133613\nTime step 90: Utility 0.07696703880914404\nTime step 91: Utility 0.07077451107369509\nTime step 92: Utility 0.06566383257030738\nTime step 93: Utility 0.0745959795033504\nTime step 94: Utility 0.06938668758990453\nTime step 95: Utility 0.07060410634377465\nTime step 96: Utility 0.06628727369542065\nTime step 97: Utility 0.07005242463958057\nTime step 98: Utility 0.07461426875906632\nTime step 99: Utility 0.07460109861365417\nTime step 100: Utility 0.07056297079423811\nTime step 101: Utility 0.0692432925240948\nTime step 102: Utility 0.06827266710787556\nTime step 103: Utility 0.07857981220657274\nTime step 104: Utility 0.07041672126851001\nTime step 105: Utility 0.06992873168800316\nTime step 106: Utility 0.07350534512339975\nTime step 107: Utility 0.06791390728476819\nTime step 108: Utility 0.07938648684384501\nTime step 109: Utility 0.07133087848500787\nTime step 110: Utility 0.07924515960230244\nTime step 111: Utility 0.07339568719147828\nTime step 112: Utility 0.0697373630724561\nTime step 113: Utility 0.07060727696490998\nTime step 114: Utility 0.07032078644418573\nTime step 115: Utility 0.07269325074203123\nTime step 116: Utility 0.0720023133273358\nTime step 117: Utility 0.06789610389610387\nTime step 118: Utility 0.0679114255765199\nTime step 119: Utility 0.06735954310001327\nTime step 120: Utility 0.07595076842927843\nTime step 121: Utility 0.07229614016598601\nTime step 122: Utility 0.07101708382995628\nTime step 123: Utility 0.08290419552999606\nTime step 124: Utility 0.07231957424714432\nTime step 125: Utility 0.07592254531229622\nTime step 126: Utility 0.0746578046854435\nTime step 127: Utility 0.07895144628099172\nTime step 128: Utility 0.06626091558613388\nTime step 129: Utility 0.07763756992324702\nTime step 130: Utility 0.06811301057027272\nTime step 131: Utility 0.0729867749116145\nTime step 132: Utility 0.07520797570315593\nTime step 133: Utility 0.07561983471074378\nTime step 134: Utility 0.074901986408782\nTime step 135: Utility 0.07233395078062978\nTime step 136: Utility 0.0787186556387029\nTime step 137: Utility 0.06847290640394087\nTime step 138: Utility 0.07464248569942795\nTime step 139: Utility 0.07765443385137781\nTime step 140: Utility 0.07488821672803785\nTime step 141: Utility 0.07476900739176344\nTime step 142: Utility 0.072021497021497\nTime step 143: Utility 0.06911996842936068\nTime step 144: Utility 0.07146245059288536\nTime step 145: Utility 0.0763566912539515\nTime step 146: Utility 0.07922730881185497\nTime step 147: Utility 0.07282536740368065\nTime step 148: Utility 0.07564674983585028\nTime step 149: Utility 0.07591547447171543\nTime step 150: Utility 0.07841104213446043\nTime step 151: Utility 0.06623538683830289\nTime step 152: Utility 0.07288202692003165\nTime step 153: Utility 0.07254125412541251\nTime step 154: Utility 0.08127670594328627\nTime step 155: Utility 0.07473908001546191\nTime step 156: Utility 0.07695142819534026\nTime step 157: Utility 0.07838844595477712\nTime step 158: Utility 0.07771902337119725\nTime step 159: Utility 0.06945967634077838\nTime step 160: Utility 0.06777384696016768\nTime step 161: Utility 0.08130944625407166\nTime step 162: Utility 0.06787595470107978\nTime step 163: Utility 0.07735985296048312\nTime step 164: Utility 0.07086439126454817\nTime step 165: Utility 0.07248339627555671\nTime step 166: Utility 0.0736986118526428\nTime step 167: Utility 0.07517431916853044\nTime step 168: Utility 0.07678145695364236\nTime step 169: Utility 0.06740050244611925\nTime step 170: Utility 0.07599261311172667\nTime step 171: Utility 0.07275114904793169\nTime step 172: Utility 0.07338350785340313\nTime step 173: Utility 0.07745009074410161\nTime step 174: Utility 0.075383204506747\nTime step 175: Utility 0.06712682234550378\nTime step 176: Utility 0.07519033867156734\nTime step 177: Utility 0.07570684039087948\nTime step 178: Utility 0.07499020248203787\nTime step 179: Utility 0.07487562189054725\nTime step 180: Utility 0.06856330014224749\nTime step 181: Utility 0.06880398671096344\nTime step 182: Utility 0.06694007143802087\nTime step 183: Utility 0.06936362428590405\nTime step 184: Utility 0.07611842963349418\nTime step 185: Utility 0.08231395196219975\nTime step 186: Utility 0.07560124127230408\nTime step 187: Utility 0.07721992772328343\nTime step 188: Utility 0.07307542768273716\nTime step 189: Utility 0.07698516011455349\nTime step 190: Utility 0.07267805896164882\nTime step 191: Utility 0.07893361212754833\nTime step 192: Utility 0.07117670105785555\nTime step 193: Utility 0.0688690398003415\nTime step 194: Utility 0.07244120352121926\nTime step 195: Utility 0.06900773195876288\nTime step 196: Utility 0.07081038552321003\nTime step 197: Utility 0.08662551440329218\nTime step 198: Utility 0.07316162013370034\nTime step 199: Utility 0.0717866909753874\nTime step 200: Utility 0.08082495757733975\n"
    }
   ],
   "source": [
    "train(**training_parameters, fairness_function=fairness_function)"
   ]
  },
  {
   "cell_type": "code",
   "metadata": {},
   "outputs": [],
   "source": []
  }
 ]
}