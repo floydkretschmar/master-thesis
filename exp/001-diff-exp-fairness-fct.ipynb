{
 "nbformat": 4,
 "nbformat_minor": 2,
 "metadata": {
  "language_info": {
   "name": "python",
   "codemirror_mode": {
    "name": "ipython",
    "version": 3
   },
   "version": "3.7.4"
  },
  "orig_nbformat": 2,
  "file_extension": ".py",
  "mimetype": "text/x-python",
  "name": "python",
  "npconvert_exporter": "python",
  "pygments_lexer": "ipython3",
  "version": 3
 },
 "cells": [
  {
   "cell_type": "markdown",
   "execution_count": null,
   "metadata": {},
   "outputs": [],
   "source": [
    "# Implementation of \"Fair Decisions Despite Imperfect Predictions\" using the original fairness constraint"
   ]
  },
  {
   "cell_type": "code",
   "execution_count": 1,
   "metadata": {},
   "outputs": [],
   "source": [
    "import numpy as np\n",
    "from src.consequential_learning import collect_data, train\n",
    "from src.feature_map import IdentityFeatureMap"
   ]
  },
  {
   "cell_type": "markdown",
   "execution_count": null,
   "metadata": {},
   "outputs": [],
   "source": [
    "## The parameters used by the the original authors  \n",
    "Note: Learning rate decay is not yet implemented"
   ]
  },
  {
   "cell_type": "code",
   "execution_count": 2,
   "metadata": {},
   "outputs": [],
   "source": [
    "training_parameters = {\n",
    "    'dim_x': 1,\n",
    "    'dim_s': 1,\n",
    "    'time_steps':200,\n",
    "    'batch_size':512,\n",
    "    'num_iterations': 32,\n",
    "    'learning_parameters': {\n",
    "        'learning_rate': 0.5,\n",
    "        'decay_rate': 0.8,\n",
    "        'decay_step': 30\n",
    "    }\n",
    "    'fairness_rate':0,\n",
    "    'cost_factor':0.55,\n",
    "    'fraction_protected':0.3\n",
    "}\n",
    "training_parameters['dim_theta'] = training_parameters['dim_x'] + training_parameters['dim_s']\n",
    "training_parameters['feature_map'] = IdentityFeatureMap(training_parameters['dim_theta'])\n",
    "training_parameters['num_decisions'] = training_parameters['num_iterations'] * training_parameters['batch_size']"
   ]
  },
  {
   "cell_type": "markdown",
   "execution_count": null,
   "metadata": {},
   "outputs": [],
   "source": [
    "## Definition of the fairness function  \n",
    "The original fairness constraint was defined as the difference of benefits $b_{P}^s$ for both of the settings of the protected attribute. This function defines both the fairness function as well as its derivative which is controlled by the parameter gradient=true/false"
   ]
  },
  {
   "cell_type": "code",
   "execution_count": 3,
   "metadata": {},
   "outputs": [],
   "source": [
    "def benefit_function(x_s, s, sample_theta, policy, gradient):\n",
    "    ips_weight, phi, log_gradient_denominator = policy.calculate_ips_weights_and_log_gradient(x_s, s, sample_theta)\n",
    "    decision = policy(x_s, s).reshape(-1, 1)\n",
    "\n",
    "    if gradient:\n",
    "        grad_benefit = ((ips_weight/log_gradient_denominator) * decision * phi).sum(axis=0) / x_s.shape[0]\n",
    "        return grad_benefit\n",
    "    else:\n",
    "        benefit = (ips_weight * decision).sum(axis=0) / x_s.shape[0]\n",
    "        return benefit\n",
    "\n",
    "def fairness_function(**fairness_kwargs):\n",
    "    x = fairness_kwargs['x']\n",
    "    s = fairness_kwargs['s']\n",
    "    sample_theta = fairness_kwargs['sample_theta']\n",
    "    policy = fairness_kwargs['policy']\n",
    "    gradient = fairness_kwargs['gradient']\n",
    "\n",
    "    pos_decision_idx = np.arange(s.shape[0]).reshape(-1, 1)\n",
    "\n",
    "    s_0_idx = pos_decision_idx[s == 0]\n",
    "    s_1_idx = pos_decision_idx[s == 1]\n",
    "\n",
    "    return benefit_function(x[s_0_idx], s[s_0_idx], sample_theta, policy, gradient) - benefit_function(x[s_1_idx], s[s_1_idx], sample_theta, policy, gradient)\n"
   ]
  },
  {
   "cell_type": "markdown",
   "execution_count": null,
   "metadata": {},
   "outputs": [],
   "source": [
    "## Train the model"
   ]
  },
  {
   "cell_type": "code",
   "execution_count": 4,
   "metadata": {},
   "outputs": [
    {
     "name": "stdout",
     "output_type": "stream",
     "text": "Time step 0: Utility -0.022609756097560992\nTime step 1: Utility 0.04822194548221944\nTime step 2: Utility 0.053966611479028676\nTime step 3: Utility 0.059231196997080474\nTime step 4: Utility 0.04743006752101417\nTime step 5: Utility 0.06667124982813143\nTime step 6: Utility 0.05536303630363034\nTime step 7: Utility 0.05888642043876699\nTime step 8: Utility 0.06499999999999997\nTime step 9: Utility 0.06821736785329016\nTime step 10: Utility 0.05416897506925206\nTime step 11: Utility 0.0656658862415645\nTime step 12: Utility 0.06253435953820778\nTime step 13: Utility 0.06563822525597267\nTime step 14: Utility 0.06591445632551032\nTime step 15: Utility 0.0662212425953988\nTime step 16: Utility 0.07600730124391561\nTime step 17: Utility 0.07501724851662755\nTime step 18: Utility 0.06472237417943105\nTime step 19: Utility 0.07572171295662879\nTime step 20: Utility 0.0751299704931853\nTime step 21: Utility 0.07048143053645115\nTime step 22: Utility 0.06324553023065373\nTime step 23: Utility 0.07640043614556358\nTime step 24: Utility 0.0721693559509033\nTime step 25: Utility 0.07781365947505839\nTime step 26: Utility 0.07221692977681\nTime step 27: Utility 0.06332750269106564\nTime step 28: Utility 0.07487929369568215\nTime step 29: Utility 0.06816632583503747\nTime step 30: Utility 0.06820223189983667\nTime step 31: Utility 0.06965684950013509\nTime step 32: Utility 0.0732302685109845\nTime step 33: Utility 0.0833151432469304\nTime step 34: Utility 0.06903125842091079\nTime step 35: Utility 0.07767441860465114\nTime step 36: Utility 0.07699643249176727\nTime step 37: Utility 0.07444961028305755\nTime step 38: Utility 0.07022879846554321\nTime step 39: Utility 0.072052460789616\nTime step 40: Utility 0.07462889827046165\nTime step 41: Utility 0.07655846801575443\nTime step 42: Utility 0.06718475469658061\nTime step 43: Utility 0.07996733805117037\nTime step 44: Utility 0.07014935598794189\nTime step 45: Utility 0.08610617047475713\nTime step 46: Utility 0.07332604536758676\nTime step 47: Utility 0.0762300667847894\nTime step 48: Utility 0.0757309149972929\nTime step 49: Utility 0.07926401080351111\nTime step 50: Utility 0.06667799374745138\nTime step 51: Utility 0.07854876534694438\nTime step 52: Utility 0.06717962685550863\nTime step 53: Utility 0.07317952905948004\nTime step 54: Utility 0.07139158146328507\nTime step 55: Utility 0.0689441829186281\nTime step 56: Utility 0.07065407956844233\nTime step 57: Utility 0.07353466026080986\nTime step 58: Utility 0.0781039136302294\nTime step 59: Utility 0.06618120805369125\nTime step 60: Utility 0.0819866920152091\nTime step 61: Utility 0.07772696245733787\nTime step 62: Utility 0.07224752210018749\nTime step 63: Utility 0.07881424524484013\nTime step 64: Utility 0.07774739930648172\nTime step 65: Utility 0.07399840806579992\nTime step 66: Utility 0.07412185895703861\nTime step 67: Utility 0.06903871829105472\nTime step 68: Utility 0.0728346456692913\nTime step 69: Utility 0.07985330408554975\nTime step 70: Utility 0.0725566429816329\nTime step 71: Utility 0.07547093649085036\nTime step 72: Utility 0.07909952606635069\nTime step 73: Utility 0.06680548092423427\nTime step 74: Utility 0.07665145005370567\nTime step 75: Utility 0.08118459887308825\nTime step 76: Utility 0.07234387672343874\nTime step 77: Utility 0.08228335811815599\nTime step 78: Utility 0.07390809217577704\nTime step 79: Utility 0.07646904855385418\nTime step 80: Utility 0.07852641458836147\nTime step 81: Utility 0.07413132514202668\nTime step 82: Utility 0.05932123655913976\nTime step 83: Utility 0.08586267368137057\nTime step 84: Utility 0.07840172786177103\nTime step 85: Utility 0.081469414893617\nTime step 86: Utility 0.06781098546042001\nTime step 87: Utility 0.062107258938244835\nTime step 88: Utility 0.07791837816350866\nTime step 89: Utility 0.07849059176438504\nTime step 90: Utility 0.06874413617477548\nTime step 91: Utility 0.06901672240802674\nTime step 92: Utility 0.07779509418620408\nTime step 93: Utility 0.07319957480733455\nTime step 94: Utility 0.07169544105745884\nTime step 95: Utility 0.07829041955299959\nTime step 96: Utility 0.06846348614072492\nTime step 97: Utility 0.0837112982074959\nTime step 98: Utility 0.08244652406417112\nTime step 99: Utility 0.0769932566441888\nTime step 100: Utility 0.07376178462355595\nTime step 101: Utility 0.07233858057630733\nTime step 102: Utility 0.0748767816704409\nTime step 103: Utility 0.07195981905268758\nTime step 104: Utility 0.07330175913396479\nTime step 105: Utility 0.07869869341428005\nTime step 106: Utility 0.08042455998925163\nTime step 107: Utility 0.0745241871530531\nTime step 108: Utility 0.081589763988332\nTime step 109: Utility 0.07735492577597838\nTime step 110: Utility 0.07058082482429383\nTime step 111: Utility 0.066677807486631\nTime step 112: Utility 0.07720031859816803\nTime step 113: Utility 0.08005888650963595\nTime step 114: Utility 0.07317639257294428\nTime step 115: Utility 0.07101584342963652\nTime step 116: Utility 0.07544509421702401\nTime step 117: Utility 0.062026315789473666\nTime step 118: Utility 0.08132103222355927\nTime step 119: Utility 0.08275524840266005\nTime step 120: Utility 0.07668134507606084\nTime step 121: Utility 0.0693289667156797\nTime step 122: Utility 0.07438828720417166\nTime step 123: Utility 0.07609501124784968\nTime step 124: Utility 0.07304903770102819\nTime step 125: Utility 0.08139132748071294\nTime step 126: Utility 0.07690628836447959\nTime step 127: Utility 0.07256089532587227\nTime step 128: Utility 0.07808404269693282\nTime step 129: Utility 0.07139097249638109\nTime step 130: Utility 0.07028206850235055\nTime step 131: Utility 0.08079414431921232\nTime step 132: Utility 0.07131105398457581\nTime step 133: Utility 0.07368586915416613\nTime step 134: Utility 0.07597939455609258\nTime step 135: Utility 0.06424234758411332\nTime step 136: Utility 0.07448888888888888\nTime step 137: Utility 0.07051795401704983\nTime step 138: Utility 0.06839665164198325\nTime step 139: Utility 0.07635897435897435\nTime step 140: Utility 0.06992490937338165\nTime step 141: Utility 0.06912738605375925\nTime step 142: Utility 0.07432258064516127\nTime step 143: Utility 0.07477016703353617\nTime step 144: Utility 0.0695464501997165\nTime step 145: Utility 0.06740861618798955\nTime step 146: Utility 0.07009178990311064\nTime step 147: Utility 0.08103294177732379\nTime step 148: Utility 0.07554459251665811\nTime step 149: Utility 0.07595300261096603\nTime step 150: Utility 0.07774421593830333\nTime step 151: Utility 0.07924190037136637\nTime step 152: Utility 0.06971639471639471\nTime step 153: Utility 0.06743459586099178\nTime step 154: Utility 0.07722020254479356\nTime step 155: Utility 0.07435367114788002\nTime step 156: Utility 0.06564476571576092\nTime step 157: Utility 0.0733497600829983\nTime step 158: Utility 0.07618528959507942\nTime step 159: Utility 0.06954037912230589\nTime step 160: Utility 0.07348740586860554\nTime step 161: Utility 0.07746638180218673\nTime step 162: Utility 0.06557293653821696\nTime step 163: Utility 0.07795733265201839\nTime step 164: Utility 0.07235137195121949\nTime step 165: Utility 0.07525564953919958\nTime step 166: Utility 0.07789373814041745\nTime step 167: Utility 0.07057566616390144\nTime step 168: Utility 0.06874606571824246\nTime step 169: Utility 0.07692607509419253\nTime step 170: Utility 0.08265699242326953\nTime step 171: Utility 0.06099430018999364\nTime step 172: Utility 0.06773241206030149\nTime step 173: Utility 0.07572115384615381\nTime step 174: Utility 0.06641108247422679\nTime step 175: Utility 0.07495621716287215\nTime step 176: Utility 0.06826014807250445\nTime step 177: Utility 0.07449137265001286\nTime step 178: Utility 0.07653321433125078\nTime step 179: Utility 0.07449488491048593\nTime step 180: Utility 0.07940233423111451\nTime step 181: Utility 0.06909195255707179\nTime step 182: Utility 0.07250192159877016\nTime step 183: Utility 0.07279730073847719\nTime step 184: Utility 0.07960458526532714\nTime step 185: Utility 0.07570309490175933\nTime step 186: Utility 0.07288501833420637\nTime step 187: Utility 0.0742047649710238\nTime step 188: Utility 0.07101841122698596\nTime step 189: Utility 0.06674625709860607\nTime step 190: Utility 0.07928814842862551\nTime step 191: Utility 0.07676092544987144\nTime step 192: Utility 0.07199823053589482\nTime step 193: Utility 0.06883309668258678\nTime step 194: Utility 0.07064769508112283\nTime step 195: Utility 0.07112548512289779\nTime step 196: Utility 0.07705233453052845\nTime step 197: Utility 0.07720721890418071\nTime step 198: Utility 0.07568457762851975\nTime step 199: Utility 0.07423970229693312\n"
    }
   ],
   "source": [
    "train(**training_parameters, fairness_function=fairness_function)"
   ]
  },
  {
   "cell_type": "code",
   "execution_count": null,
   "metadata": {},
   "outputs": [],
   "source": []
  }
 ]
}