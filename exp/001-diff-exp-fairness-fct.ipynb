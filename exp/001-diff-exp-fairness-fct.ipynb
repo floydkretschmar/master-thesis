{
 "nbformat": 4,
 "nbformat_minor": 2,
 "metadata": {
  "language_info": {
   "name": "python",
   "codemirror_mode": {
    "name": "ipython",
    "version": 3
   },
   "version": "3.7.4"
  },
  "orig_nbformat": 2,
  "file_extension": ".py",
  "mimetype": "text/x-python",
  "name": "python",
  "npconvert_exporter": "python",
  "pygments_lexer": "ipython3",
  "version": 3
 },
 "cells": [
  {
   "cell_type": "markdown",
   "metadata": {},
   "outputs": [],
   "source": [
    "# Implementation of \"Fair Decisions Despite Imperfect Predictions\" using the original fairness constraint"
   ]
  },
  {
   "cell_type": "code",
   "execution_count": 1,
   "metadata": {},
   "outputs": [],
   "source": [
    "import numpy as np\n",
    "from src.consequential_learning import collect_data, train\n",
    "from src.feature_map import IdentityFeatureMap"
   ]
  },
  {
   "cell_type": "markdown",
   "metadata": {},
   "outputs": [],
   "source": [
    "## The parameters used by the the original authors  \n",
    "Note: Learning rate decay is not yet implemented"
   ]
  },
  {
   "cell_type": "code",
   "execution_count": 2,
   "metadata": {},
   "outputs": [],
   "source": [
    "training_parameters = {\n",
    "    'dim_x': 1,\n",
    "    'dim_s': 1,\n",
    "    'time_steps':200,\n",
    "    'batch_size':512,\n",
    "    'num_iterations': 32,\n",
    "    'learning_parameters': {\n",
    "        'learning_rate': 0.5,\n",
    "        'decay_rate': 0.8,\n",
    "        'decay_step': 30\n",
    "    },\n",
    "    'fairness_rate':0,\n",
    "    'cost_factor':0.55,\n",
    "    'fraction_protected':0.3\n",
    "}\n",
    "training_parameters['dim_theta'] = training_parameters['dim_x'] + training_parameters['dim_s']\n",
    "training_parameters['feature_map'] = IdentityFeatureMap(training_parameters['dim_theta'])\n",
    "training_parameters['num_decisions'] = training_parameters['num_iterations'] * training_parameters['batch_size']"
   ]
  },
  {
   "cell_type": "markdown",
   "metadata": {},
   "outputs": [],
   "source": [
    "## Definition of the fairness function  \n",
    "The original fairness constraint was defined as the difference of benefits $b_{P}^s$ for both of the settings of the protected attribute. This function defines both the fairness function as well as its derivative which is controlled by the parameter gradient=true/false"
   ]
  },
  {
   "cell_type": "code",
   "execution_count": 3,
   "metadata": {},
   "outputs": [],
   "source": [
    "def fairness_function(**fairness_kwargs):\n",
    "    return fairness_kwargs['policy'].benefit_difference(fairness_kwargs['x'], fairness_kwargs['s'], fairness_kwargs['sample_theta'], fairness_kwargs['gradient'])\n"
   ]
  },
  {
   "cell_type": "markdown",
   "metadata": {},
   "outputs": [],
   "source": [
    "## Train the model"
   ]
  },
  {
   "cell_type": "code",
   "execution_count": 4,
   "metadata": {},
   "outputs": [
    {
     "name": "stdout",
     "output_type": "stream",
     "text": "Time step 1: Utility -0.016329780717873353\nTime step 2: Utility 0.052643320713899384\nTime step 3: Utility 0.06203514507560276\nTime step 4: Utility 0.06822636300897168\nTime step 5: Utility 0.058269771176234435\nTime step 6: Utility 0.05993188010899181\nTime step 7: Utility 0.056165236645446974\nTime step 8: Utility 0.06555386949924126\nTime step 9: Utility 0.05989962876392133\nTime step 10: Utility 0.07211814576781073\nTime step 11: Utility 0.05370038588754133\nTime step 12: Utility 0.06554662602189273\nTime step 13: Utility 0.07049749861033905\nTime step 14: Utility 0.06423502115463352\nTime step 15: Utility 0.07218329211321789\nTime step 16: Utility 0.07289240155296725\nTime step 17: Utility 0.07660335810624827\nTime step 18: Utility 0.059819459757442094\nTime step 19: Utility 0.07314359814359814\nTime step 20: Utility 0.07096466093600763\nTime step 21: Utility 0.07619207521826728\nTime step 22: Utility 0.07703983516483513\nTime step 23: Utility 0.06643496214728148\nTime step 24: Utility 0.06916440217391302\nTime step 25: Utility 0.07004118050789292\nTime step 26: Utility 0.0706743088334457\nTime step 27: Utility 0.07205842018650574\nTime step 28: Utility 0.07093290130957201\nTime step 29: Utility 0.0709036472509526\nTime step 30: Utility 0.07273592602665215\nTime step 31: Utility 0.07506104177970697\nTime step 32: Utility 0.0739112739112739\nTime step 33: Utility 0.06987968280010937\nTime step 34: Utility 0.07961507183518567\nTime step 35: Utility 0.07323761567773542\nTime step 36: Utility 0.07074262054227326\nTime step 37: Utility 0.0772072806302635\nTime step 38: Utility 0.06937194127243065\nTime step 39: Utility 0.07842793582310904\nTime step 40: Utility 0.0713635145995178\nTime step 41: Utility 0.07078169685414677\nTime step 42: Utility 0.07547474747474746\nTime step 43: Utility 0.0665740991601192\nTime step 44: Utility 0.06819972826086954\nTime step 45: Utility 0.08152693022021756\nTime step 46: Utility 0.07376204496788007\nTime step 47: Utility 0.07661312095032395\nTime step 48: Utility 0.06961247637051038\nTime step 49: Utility 0.061850605652759065\nTime step 50: Utility 0.07464883846569421\nTime step 51: Utility 0.0791604904999326\nTime step 52: Utility 0.08352513227513225\nTime step 53: Utility 0.0702686285097192\nTime step 54: Utility 0.07679685381068618\nTime step 55: Utility 0.07382478632478631\nTime step 56: Utility 0.07350877192982454\nTime step 57: Utility 0.07574536663980658\nTime step 58: Utility 0.07758942872397223\nTime step 59: Utility 0.07430145083288553\nTime step 60: Utility 0.07306065812078762\nTime step 61: Utility 0.0826455168705471\nTime step 62: Utility 0.07171635777598709\nTime step 63: Utility 0.07988597189074514\nTime step 64: Utility 0.07051731106021822\nTime step 65: Utility 0.07881436314363144\nTime step 66: Utility 0.07636534839924668\nTime step 67: Utility 0.0766164807097728\nTime step 68: Utility 0.06808768154921999\nTime step 69: Utility 0.0653594334580438\nTime step 70: Utility 0.07180101090715615\nTime step 71: Utility 0.07725768008474573\nTime step 72: Utility 0.08337375370520071\nTime step 73: Utility 0.07409630518874213\nTime step 74: Utility 0.0695545863071636\nTime step 75: Utility 0.07050247331424107\nTime step 76: Utility 0.07194411336246852\nTime step 77: Utility 0.07623709266461041\nTime step 78: Utility 0.07144954618259475\nTime step 79: Utility 0.08087662773526645\nTime step 80: Utility 0.07584611316763616\nTime step 81: Utility 0.07096922069417155\nTime step 82: Utility 0.06598923283983847\nTime step 83: Utility 0.08255704697986575\nTime step 84: Utility 0.07642162738047675\nTime step 85: Utility 0.07311683061581994\nTime step 86: Utility 0.0835625674217907\nTime step 87: Utility 0.07282075096192117\nTime step 88: Utility 0.07426296393787836\nTime step 89: Utility 0.06610589812332437\nTime step 90: Utility 0.07565147668047571\nTime step 91: Utility 0.07447834125726359\nTime step 92: Utility 0.07641484426772695\nTime step 93: Utility 0.07966538817616717\nTime step 94: Utility 0.07266239829265038\nTime step 95: Utility 0.07462866318747488\nTime step 96: Utility 0.06828943868050011\nTime step 97: Utility 0.07317659631311779\nTime step 98: Utility 0.06570757880617033\nTime step 99: Utility 0.08082756785524213\nTime step 100: Utility 0.06706663091567232\nTime step 101: Utility 0.07302899121080937\nTime step 102: Utility 0.07190669371196752\nTime step 103: Utility 0.06929283652584621\nTime step 104: Utility 0.07154244719011556\nTime step 105: Utility 0.0929610354950627\nTime step 106: Utility 0.06974167322318384\nTime step 107: Utility 0.0833067092651757\nTime step 108: Utility 0.0740079365079365\nTime step 109: Utility 0.07450579862941485\nTime step 110: Utility 0.07534473614425881\nTime step 111: Utility 0.08111038107752955\nTime step 112: Utility 0.08376572327044024\nTime step 113: Utility 0.07320526455729857\nTime step 114: Utility 0.07216119640021174\nTime step 115: Utility 0.07462577824877466\nTime step 116: Utility 0.0721064507565702\nTime step 117: Utility 0.07306487403733193\nTime step 118: Utility 0.07325781664016956\nTime step 119: Utility 0.07431120440829177\nTime step 120: Utility 0.07433035714285713\nTime step 121: Utility 0.07322948029846837\nTime step 122: Utility 0.07020408163265306\nTime step 123: Utility 0.07358441218778605\nTime step 124: Utility 0.07577836411609497\nTime step 125: Utility 0.07741767538721851\nTime step 126: Utility 0.08127123072903057\nTime step 127: Utility 0.07209394379205698\nTime step 128: Utility 0.07630852183061546\nTime step 129: Utility 0.08076718167288224\nTime step 130: Utility 0.08310659093910974\nTime step 131: Utility 0.08000916110456745\nTime step 132: Utility 0.06494018667017219\nTime step 133: Utility 0.07061552535284892\nTime step 134: Utility 0.07270965240987205\nTime step 135: Utility 0.07296994463485365\nTime step 136: Utility 0.06819725669497059\nTime step 137: Utility 0.07094213357827055\nTime step 138: Utility 0.07360732372419165\nTime step 139: Utility 0.07243699696529883\nTime step 140: Utility 0.07433890277595051\nTime step 141: Utility 0.07170834987428872\nTime step 142: Utility 0.0819481206987824\nTime step 143: Utility 0.07272906274612759\nTime step 144: Utility 0.0838705398593978\nTime step 145: Utility 0.073282091709368\nTime step 146: Utility 0.06980596620908129\nTime step 147: Utility 0.07936339522546418\nTime step 148: Utility 0.0742385616530256\nTime step 149: Utility 0.06299674267100976\nTime step 150: Utility 0.0749217118997912\nTime step 151: Utility 0.08056586270871982\nTime step 152: Utility 0.07583618646299708\nTime step 153: Utility 0.0670190686210922\nTime step 154: Utility 0.06914584159724975\nTime step 155: Utility 0.06711992570973732\nTime step 156: Utility 0.07603180862250261\nTime step 157: Utility 0.07810874089490114\nTime step 158: Utility 0.07490172955974841\nTime step 159: Utility 0.07528126212336737\nTime step 160: Utility 0.07225637671680836\nTime step 161: Utility 0.07448086718035782\nTime step 162: Utility 0.07336169081483448\nTime step 163: Utility 0.07117738994529824\nTime step 164: Utility 0.0816551001702239\nTime step 165: Utility 0.0695077004080558\nTime step 166: Utility 0.08607924921793533\nTime step 167: Utility 0.07271784232365144\nTime step 168: Utility 0.0739475774424146\nTime step 169: Utility 0.07302073822877266\nTime step 170: Utility 0.06702183635885291\nTime step 171: Utility 0.08231337378000526\nTime step 172: Utility 0.07000527148128621\nTime step 173: Utility 0.07147620292887027\nTime step 174: Utility 0.07917968749999998\nTime step 175: Utility 0.07564119170984454\nTime step 176: Utility 0.07314017227877836\nTime step 177: Utility 0.08138690861957225\nTime step 178: Utility 0.071419167983149\nTime step 179: Utility 0.07184213942619756\nTime step 180: Utility 0.07523972152896359\nTime step 181: Utility 0.07799145299145296\nTime step 182: Utility 0.07682332806740387\nTime step 183: Utility 0.07792927974947808\nTime step 184: Utility 0.06781093890098627\nTime step 185: Utility 0.07609634768948814\nTime step 186: Utility 0.07903415015641292\nTime step 187: Utility 0.07788561750911932\nTime step 188: Utility 0.07446525840308221\nTime step 189: Utility 0.06600465778237805\nTime step 190: Utility 0.06874105865522175\nTime step 191: Utility 0.07996611053180394\nTime step 192: Utility 0.07805732071067305\nTime step 193: Utility 0.07116408990515784\nTime step 194: Utility 0.0712982273201251\nTime step 195: Utility 0.08002337965969605\nTime step 196: Utility 0.07825369588173177\nTime step 197: Utility 0.08195963541666665\nTime step 198: Utility 0.07652127800609834\nTime step 199: Utility 0.07486205990541249\nTime step 200: Utility 0.07719884650675053\n"
    }
   ],
   "source": [
    "train(**training_parameters, fairness_function=fairness_function)"
   ]
  },
  {
   "cell_type": "code",
   "metadata": {},
   "outputs": [],
   "source": []
  }
 ]
}