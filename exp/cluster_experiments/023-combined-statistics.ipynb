{
 "cells": [
  {
   "cell_type": "markdown",
   "execution_count": null,
   "metadata": {},
   "outputs": [],
   "source": [
    "## Implementation the dual gradient method for COMPAS and Adult Credit"
   ]
  },
  {
   "cell_type": "code",
   "execution_count": 1,
   "metadata": {},
   "outputs": [],
   "source": [
    "import os\n",
    "import sys\n",
    "import numpy as np\n",
    "import os\n",
    "import sys\n",
    "\n",
    "module_path = os.path.abspath(os.path.join('../..'))\n",
    "\n",
    "if module_path not in sys.path:\n",
    "    sys.path.append(module_path)\n",
    "\n",
    "from src.training_evaluation import UTILITY, Statistics\n",
    "from src.util import load_dictionary\n",
    "from src.plotting import plot_mean, plot_median\n",
    "\n"
   ]
  },
  {
   "cell_type": "code",
   "execution_count": 2,
   "metadata": {
    "pycharm": {
     "name": "#%%\n"
    }
   },
   "outputs": [],
   "source": [
    "PATH = '/home/fkretschmar/Documents/master-thesis/res/utility'\n",
    "\n",
    "datasets = [('ADULT', 'Adult dataset'), ('COMPAS', 'COMPAS dataset'), ('FICO', 'FICO dataset')]\n",
    "\n",
    "measures = []\n",
    "for dataset, dataset_name in datasets:\n",
    "    dataset_path = os.path.join(PATH, dataset)\n",
    "    statistics_path = os.path.join(dataset_path, \"statistics.json\")\n",
    "    serialized_statistics = load_dictionary(statistics_path)\n",
    "    statistics = Statistics.build_from_serialized_dictionary(serialized_statistics)\n",
    "    measures.append(statistics.get_additonal_measure(UTILITY, \"Utility ({})\".format(dataset_name)))\n",
    "\n",
    "plot_mean(x_values=range(201),\n",
    "          x_label=\"Timesteps\",\n",
    "          x_scale=\"linear\",\n",
    "          performance_measures=measures,\n",
    "          fairness_measures=[],\n",
    "          file_path=os.path.join(PATH, \"results_mean.png\"))\n",
    "plot_median(x_values=range(201),\n",
    "          x_label=\"Timesteps\",\n",
    "          x_scale=\"linear\",\n",
    "          performance_measures=measures,\n",
    "          fairness_measures=[],\n",
    "          file_path=os.path.join(PATH, \"results_median.png\"))"
   ]
  }
 ],
 "metadata": {
  "file_extension": ".py",
  "kernelspec": {
   "name": "python3",
   "language": "python",
   "display_name": "Python 3"
  },
  "language_info": {
   "codemirror_mode": {
    "name": "ipython",
    "version": 3
   },
   "file_extension": ".py",
   "mimetype": "text/x-python",
   "name": "python",
   "nbconvert_exporter": "python",
   "pygments_lexer": "ipython3",
   "version": "3.7.4-final"
  },
  "mimetype": "text/x-python",
  "name": "python",
  "npconvert_exporter": "python",
  "pygments_lexer": "ipython3",
  "version": 3
 },
 "nbformat": 4,
 "nbformat_minor": 2
}