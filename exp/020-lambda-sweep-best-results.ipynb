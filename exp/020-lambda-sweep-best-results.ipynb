{
 "cells": [
  {
   "cell_type": "markdown",
   "execution_count": null,
   "metadata": {},
   "outputs": [],
   "source": [
    "# Implementation the best parameters settings for COMPAS, Adult Credit and FICO Credit score datasets"
   ]
  },
  {
   "cell_type": "code",
   "execution_count": 1,
   "metadata": {},
   "outputs": [
    {
     "name": "stderr",
     "output_type": "stream",
     "text": [
      "unable to import 'smart_open.gcs', disabling that module\n"
     ]
    }
   ],
   "source": [
    "import os\n",
    "import sys\n",
    "import numpy as np\n",
    "module_path = os.path.abspath(os.path.join('..'))\n",
    "\n",
    "if module_path not in sys.path:\n",
    "    sys.path.append(module_path)\n",
    "\n",
    "from src.util import mean_difference, get_list_of_seeds, mean\n",
    "from src.feature_map import IdentityFeatureMap\n",
    "from src.functions import cost_utility, cost_utility_gradient\n",
    "from src.plotting import plot_mean, plot_median\n",
    "from src.training import train\n",
    "from src.training_evaluation import UTILITY, COVARIANCE_OF_DECISION_DP\n",
    "from src.policy import LogisticPolicy\n",
    "from src.distribution import AdultCreditDistribution, COMPASDistribution, FICODistribution\n",
    "from src.optimization import ManualGradientPenaltyOptimizationTarget"
   ]
  },
  {
   "cell_type": "markdown",
   "execution_count": null,
   "metadata": {},
   "outputs": [],
   "source": [
    "## Fairness Functions"
   ]
  },
  {
   "cell_type": "code",
   "execution_count": 3,
   "metadata": {},
   "outputs": [],
   "source": [
    "def calc_benefit(decisions, ips_weights):\n",
    "    if ips_weights is not None:\n",
    "        decisions *= ips_weights\n",
    "\n",
    "    return decisions\n",
    "\n",
    "\n",
    "def calc_covariance(s, decisions, ips_weights):\n",
    "    new_s = 1 - (2 * s)\n",
    "\n",
    "    if ips_weights is not None:\n",
    "        mu_s = np.mean(new_s * ips_weights, axis=0)\n",
    "        d = decisions * ips_weights\n",
    "    else:\n",
    "        mu_s = np.mean(new_s, axis=0)\n",
    "        d = decisions\n",
    "\n",
    "    covariance = (new_s - mu_s) * d\n",
    "    return covariance\n",
    "\n",
    "\n",
    "def fairness_function_gradient(type, **fairness_kwargs):\n",
    "    policy = fairness_kwargs[\"policy\"]\n",
    "    x = fairness_kwargs[\"x\"]\n",
    "    s = fairness_kwargs[\"s\"]\n",
    "    y = fairness_kwargs[\"y\"]\n",
    "    decisions = fairness_kwargs[\"decisions\"]\n",
    "    ips_weights = fairness_kwargs[\"ips_weights\"]\n",
    "\n",
    "    if type == \"BD_DP\" or type == \"BD_EOP\":\n",
    "        result = calc_benefit(decisions, ips_weights)\n",
    "    elif type == \"COV_DP\":\n",
    "        result = calc_covariance(s, decisions, ips_weights)\n",
    "\n",
    "    log_gradient = policy.log_policy_gradient(x, s)\n",
    "    grad = log_gradient * result\n",
    "\n",
    "    if type == \"BD_DP\":\n",
    "        return mean_difference(grad, s)\n",
    "    elif type == \"COV_DP\":\n",
    "        return np.mean(grad, axis=0)\n",
    "    elif type == \"BD_EOP\":\n",
    "        y1_indices = np.where(y == 1)\n",
    "        return mean_difference(grad[y1_indices], s[y1_indices])\n",
    "\n",
    "\n",
    "def fairness_function(type, **fairness_kwargs):\n",
    "    s = fairness_kwargs[\"s\"]\n",
    "    y = fairness_kwargs[\"y\"]\n",
    "    decisions = fairness_kwargs[\"decisions\"]\n",
    "    ips_weights = fairness_kwargs[\"ips_weights\"] if \"ips_weights\" in fairness_kwargs else None\n",
    "\n",
    "    if type == \"BD_DP\":\n",
    "        benefit = calc_benefit(decisions, ips_weights)\n",
    "        return mean_difference(benefit, s)\n",
    "    elif type == \"COV_DP\":\n",
    "        covariance = calc_covariance(s, decisions, ips_weights)\n",
    "        return np.mean(covariance, axis=0)\n",
    "    elif type == \"BD_EOP\":\n",
    "        benefit = calc_benefit(decisions, ips_weights)\n",
    "        y1_indices = np.where(y == 1)\n",
    "        return mean_difference(benefit[y1_indices], s[y1_indices])\n",
    "\n",
    "def no_fairness(**fairness_kwargs):\n",
    "    return 0.0\n",
    "\n",
    "def utility(**util_params):\n",
    "    return cost_utility(cost_factor=0.5, **util_params)\n",
    "\n",
    "def utility_gradient(**util_params):\n",
    "    return cost_utility_gradient(cost_factor=0.5, **util_params)\n",
    "\n",
    "def covariance_of_decision(**fairness_params):\n",
    "    return fairness_function(\n",
    "        type=\"COV_DP\",\n",
    "        **fairness_params)\n",
    "\n",
    "def benefit_difference_dp(**fairness_params):\n",
    "    return fairness_function(\n",
    "        type=\"BD_DP\",\n",
    "        **fairness_params)\n",
    "\n",
    "def benefit_difference_eop(**fairness_params):\n",
    "    return fairness_function(\n",
    "        type=\"BD_EOP\",\n",
    "        **fairness_params)\n",
    "\n",
    "def covariance_of_decision_grad(**fairness_params):\n",
    "    return fairness_function_gradient(\n",
    "        type=\"COV_DP\",\n",
    "        **fairness_params)\n",
    "\n",
    "def benefit_difference_dp_grad(**fairness_params):\n",
    "    return fairness_function_gradient(\n",
    "        type=\"BD_DP\",\n",
    "        **fairness_params)\n",
    "\n",
    "def benefit_difference_eop_grad(**fairness_params):\n",
    "    return fairness_function_gradient(\n",
    "        type=\"BD_EOP\",\n",
    "        **fairness_params)"
   ]
  },
  {
   "cell_type": "markdown",
   "source": [
    "# COMPAS"
   ],
   "metadata": {
    "collapsed": false
   }
  },
  {
   "cell_type": "code",
   "execution_count": 4,
   "outputs": [],
   "source": [
    "bias = True\n",
    "distribution = COMPASDistribution(bias=bias, test_percentage=0.2)\n",
    "dim_theta = distribution.feature_dimension\n",
    "\n",
    "training_parameters = {\n",
    "    'model': LogisticPolicy(np.zeros(dim_theta), IdentityFeatureMap(dim_theta), False),\n",
    "    'distribution': distribution,\n",
    "    'parameter_optimization': {\n",
    "        'time_steps':200,\n",
    "        'epochs': 50,\n",
    "        'batch_size':128,\n",
    "        'learning_rate': 0.1,\n",
    "        'learn_on_entire_history': False,\n",
    "        'clip_weights': True\n",
    "    },\n",
    "    'data': {\n",
    "        'num_train_samples': 4096,\n",
    "        'num_test_samples': 1024\n",
    "    },\n",
    "    'evaluation': {\n",
    "        UTILITY: {\n",
    "            'measure_function': utility,\n",
    "            'detailed': False\n",
    "        },\n",
    "        COVARIANCE_OF_DECISION_DP: {\n",
    "            'measure_function': covariance_of_decision,\n",
    "            'detailed': False\n",
    "        }\n",
    "    }\n",
    "}\n",
    "\n",
    "if os.path.isfile('./cluster_experiments/seeds.npz'):\n",
    "    seeds = np.load('./cluster_experiments/seeds.npz')\n",
    "    training_parameters['data'][\"training_seeds\"] = seeds[\"train\"]\n",
    "    training_parameters['data'][\"test_seed\"] = seeds[\"test\"]\n",
    "else:\n",
    "    seeds = {}\n",
    "    train_seeds = get_list_of_seeds(200)\n",
    "    test_seeds = get_list_of_seeds(1)\n",
    "    training_parameters['data'][\"training_seeds\"] = train_seeds\n",
    "    training_parameters['data'][\"test_seed\"] = test_seeds\n",
    "    np.savez('./cluster_experiments/seeds.npz', train=train_seeds, test=test_seeds)"
   ],
   "metadata": {
    "collapsed": false,
    "pycharm": {
     "name": "#%%\n"
    }
   }
  },
  {
   "cell_type": "markdown",
   "source": [
    "### No Fariness"
   ],
   "metadata": {
    "collapsed": false
   }
  },
  {
   "cell_type": "code",
   "execution_count": null,
   "outputs": [],
   "source": [
    "training_parameters[\"optimization_target\"] = \\\n",
    "    ManualGradientPenaltyOptimizationTarget(0.0,\n",
    "                                            utility,\n",
    "                                            utility_gradient,\n",
    "                                            no_fairness,\n",
    "                                            no_fairness)\n",
    "\n",
    "training_parameters[\"save_path\"] = \"../res/local_experiments/COMPAS_BEST/NO_FAIRNESS\"\n",
    "statistics, model_parameters, run_path = train(\n",
    "    training_parameters,\n",
    "    iterations=30,\n",
    "    asynchronous=True,\n",
    "    fairness_rates=[0.0])\n",
    "\n",
    "plot_mean(x_values=range(training_parameters[\"parameter_optimization\"][\"time_steps\"] + 1),\n",
    "          x_label=\"Time steps\",\n",
    "          x_scale=\"linear\",\n",
    "          performance_measures=[statistics.get_additonal_measure(UTILITY, \"Utility\"),\n",
    "                                statistics.demographic_parity(),\n",
    "                                statistics.equality_of_opportunity()],\n",
    "          fairness_measures=[],\n",
    "          file_path=\"{}/results_mean_time.png\".format(run_path))\n",
    "plot_median(x_values=range(training_parameters[\"parameter_optimization\"][\"time_steps\"] + 1),\n",
    "          x_label=\"Time steps\",\n",
    "          x_scale=\"linear\",\n",
    "          performance_measures=[statistics.get_additonal_measure(UTILITY, \"Utility\"),\n",
    "                                statistics.demographic_parity(),\n",
    "                                statistics.equality_of_opportunity()],\n",
    "          fairness_measures=[],\n",
    "          file_path=\"{}/results_median_time.png\".format(run_path))\n"
   ],
   "metadata": {
    "collapsed": false,
    "pycharm": {
     "name": "#%%\n"
    }
   }
  },
  {
   "cell_type": "markdown",
   "metadata": {
    "pycharm": {
     "name": "#%% md\n"
    }
   },
   "source": [
    "### Benefit Difference: DP"
   ]
  },
  {
   "cell_type": "code",
   "execution_count": null,
   "outputs": [],
   "source": [
    "training_parameters[\"optimization_target\"] = \\\n",
    "    ManualGradientPenaltyOptimizationTarget(0.0,\n",
    "                                            utility,\n",
    "                                            utility_gradient,\n",
    "                                            benefit_difference_dp,\n",
    "                                            benefit_difference_dp_grad)\n",
    "\n",
    "# lambdas = np.linspace(0.0001, 0.001, endpoint=True, num=10).tolist()\n",
    "# lambdas.extend(np.linspace(0.001, 0.01, endpoint=True, num=10).tolist())\n",
    "# lambdas.extend(np.linspace(0.01, 0.1, endpoint=True, num=10).tolist())\n",
    "# lambdas.extend(np.linspace(0.1, 1.0, endpoint=True, num=10).tolist())\n",
    "# lambdas = np.sort(np.unique(np.array(lambdas, dtype=float)))\n",
    "lambdas = np.geomspace(0.0001, 1.0, endpoint=True, num=10)\n",
    "\n",
    "training_parameters[\"save_path\"] = \"../res/local_experiments/COMPAS_BEST/BD_DP\"\n",
    "statistics, model_parameters, run_path = train(\n",
    "    training_parameters,\n",
    "    iterations=30,\n",
    "    asynchronous=True,\n",
    "    fairness_rates=lambdas)\n",
    "\n",
    "plot_mean(x_values=lambdas,\n",
    "          x_label=\"Penalty Constant\",\n",
    "          x_scale=\"log\",\n",
    "          performance_measures=[statistics.get_additonal_measure(UTILITY, \"Utility\"),\n",
    "                                statistics.demographic_parity(),\n",
    "                                statistics.equality_of_opportunity()],\n",
    "          fairness_measures=[],\n",
    "          file_path=\"{}/results_mean.png\".format(run_path))\n",
    "plot_median(x_values=lambdas,\n",
    "            x_label=\"Penalty Constant\",\n",
    "            x_scale=\"log\",\n",
    "\n",
    "          performance_measures=[statistics.get_additonal_measure(UTILITY, \"Utility\"),\n",
    "                                statistics.demographic_parity(),\n",
    "                                statistics.equality_of_opportunity()],\n",
    "          fairness_measures=[],\n",
    "            file_path=\"{}/results_median.png\".format(run_path))\n"
   ],
   "metadata": {
    "collapsed": false,
    "pycharm": {
     "name": "#%%\n"
    }
   }
  },
  {
   "cell_type": "markdown",
   "metadata": {
    "pycharm": {
     "name": "#%% md\n"
    }
   },
   "source": [
    "### Benefit Difference: EOP"
   ]
  },
  {
   "cell_type": "code",
   "execution_count": 5,
   "outputs": [
    {
     "name": "stdout",
     "output_type": "stream",
     "text": [
      "## STARTED // LR = 0.1 // TS = 200 // E = 50 // BS = 128 // FR = 0.0001 ##\n",
      "## ENDED // LR = 0.1 // TS = 200 // E = 50 // BS = 128 // FR = 0.0001 ##\n",
      "## STARTED // LR = 0.1 // TS = 200 // E = 50 // BS = 128 // FR = 0.001 ##\n",
      "## ENDED // LR = 0.1 // TS = 200 // E = 50 // BS = 128 // FR = 0.001 ##\n",
      "## STARTED // LR = 0.1 // TS = 200 // E = 50 // BS = 128 // FR = 0.01 ##\n",
      "## ENDED // LR = 0.1 // TS = 200 // E = 50 // BS = 128 // FR = 0.01 ##\n",
      "## STARTED // LR = 0.1 // TS = 200 // E = 50 // BS = 128 // FR = 0.1 ##\n",
      "## ENDED // LR = 0.1 // TS = 200 // E = 50 // BS = 128 // FR = 0.1 ##\n",
      "## STARTED // LR = 0.1 // TS = 200 // E = 50 // BS = 128 // FR = 1.0 ##\n",
      "## ENDED // LR = 0.1 // TS = 200 // E = 50 // BS = 128 // FR = 1.0 ##\n"
     ]
    }
   ],
   "source": [
    "training_parameters[\"optimization_target\"] = \\\n",
    "    ManualGradientPenaltyOptimizationTarget(0.0,\n",
    "                                            utility,\n",
    "                                            utility_gradient,\n",
    "                                            benefit_difference_eop,\n",
    "                                            benefit_difference_eop_grad)\n",
    "\n",
    "# lambdas = np.linspace(0.0001, 0.001, endpoint=True, num=10).tolist()\n",
    "# lambdas.extend(np.linspace(0.001, 0.01, endpoint=True, num=10).tolist())\n",
    "# lambdas.extend(np.linspace(0.01, 0.1, endpoint=True, num=10).tolist())\n",
    "# lambdas.extend(np.linspace(0.1, 1.0, endpoint=True, num=10).tolist())\n",
    "# lambdas = np.sort(np.unique(np.array(lambdas, dtype=float)))\n",
    "lambdas = np.geomspace(0.0001, 1.0, endpoint=True, num=5)\n",
    "\n",
    "training_parameters[\"save_path\"] = \"../res/local_experiments/COMPAS_BEST/BD_EOP\"\n",
    "statistics, model_parameters, run_path = train(\n",
    "    training_parameters,\n",
    "    iterations=10,\n",
    "    asynchronous=True,\n",
    "    fairness_rates=lambdas)\n",
    "\n",
    "\n",
    "plot_mean(x_values=lambdas,\n",
    "          x_label=\"Penalty Constant\",\n",
    "          x_scale=\"log\",\n",
    "          performance_measures=[statistics.get_additonal_measure(UTILITY, \"Utility\"),\n",
    "                                statistics.demographic_parity(),\n",
    "                                statistics.equality_of_opportunity()],\n",
    "          fairness_measures=[],\n",
    "          file_path=\"{}/results_mean.png\".format(run_path))\n",
    "plot_median(x_values=lambdas,\n",
    "            x_label=\"Penalty Constant\",\n",
    "            x_scale=\"log\",\n",
    "\n",
    "          performance_measures=[statistics.get_additonal_measure(UTILITY, \"Utility\"),\n",
    "                                statistics.demographic_parity(),\n",
    "                                statistics.equality_of_opportunity()],\n",
    "          fairness_measures=[],\n",
    "            file_path=\"{}/results_median.png\".format(run_path))\n"
   ],
   "metadata": {
    "collapsed": false,
    "pycharm": {
     "name": "#%%\n"
    }
   }
  },
  {
   "cell_type": "markdown",
   "source": [
    "# Adult Credit Data"
   ],
   "metadata": {
    "collapsed": false
   }
  },
  {
   "cell_type": "code",
   "execution_count": null,
   "outputs": [],
   "source": [
    "bias = True\n",
    "distribution = AdultCreditDistribution(bias=bias, test_percentage=0.2)\n",
    "dim_theta = distribution.feature_dimension\n",
    "\n",
    "training_parameters = {\n",
    "    'model': LogisticPolicy(np.zeros(dim_theta), IdentityFeatureMap(dim_theta), False),\n",
    "    'distribution': distribution,\n",
    "    'parameter_optimization': {\n",
    "        'time_steps':200,\n",
    "        'epochs': 50,\n",
    "        'batch_size':512,\n",
    "        'learning_rate': 0.05,\n",
    "        'learn_on_entire_history': False,\n",
    "        'clip_weights': True\n",
    "    },\n",
    "    'data': {\n",
    "        'num_train_samples': 16384,\n",
    "        'num_test_samples': 4096\n",
    "    },\n",
    "    'evaluation': {\n",
    "        UTILITY: {\n",
    "            'measure_function': lambda s, y, decisions : cost_utility(cost_factor=0.5,\n",
    "                                                                              y=y,\n",
    "                                                                              decisions=decisions),\n",
    "            'detailed': False\n",
    "        },\n",
    "        COVARIANCE_OF_DECISION_DP: {\n",
    "            'measure_function': lambda s, y, decisions : fairness_function(\n",
    "                type=\"COV_DP\",\n",
    "                x=None,\n",
    "                s=s,\n",
    "                y=y,\n",
    "                decisions=decisions,\n",
    "                ips_weights=None,\n",
    "                policy=None),\n",
    "            'detailed': False\n",
    "        }\n",
    "    }\n",
    "}\n",
    "\n",
    "\n",
    "if os.path.isfile('./cluster_experiments/seeds.npz'):\n",
    "    seeds = np.load('./cluster_experiments/seeds.npz')\n",
    "    training_parameters['data'][\"training_seeds\"] = seeds[\"train\"]\n",
    "    training_parameters['data'][\"test_seed\"] = seeds[\"test\"]\n",
    "else:\n",
    "    seeds = {}\n",
    "    train_seeds = get_list_of_seeds(200)\n",
    "    test_seeds = get_list_of_seeds(1)\n",
    "    training_parameters['data'][\"training_seeds\"] = train_seeds\n",
    "    training_parameters['data'][\"test_seed\"] = test_seeds\n",
    "    np.savez('./cluster_experiments/seeds.npz', train=train_seeds, test=test_seeds)"
   ],
   "metadata": {
    "collapsed": false,
    "pycharm": {
     "name": "#%%\n"
    }
   }
  },
  {
   "cell_type": "markdown",
   "source": [
    "### No Fariness"
   ],
   "metadata": {
    "collapsed": false
   }
  },
  {
   "cell_type": "code",
   "execution_count": null,
   "outputs": [],
   "source": [
    "training_parameters[\"optimization_target\"] = \\\n",
    "    ManualGradientPenaltyOptimizationTarget(0.0,\n",
    "                                            lambda **util_params: cost_utility(cost_factor=0.5, **util_params),\n",
    "                                            lambda **util_params: cost_utility_gradient(cost_factor=0.5, **util_params),\n",
    "                                            lambda **util_params: 0.0,\n",
    "                                            lambda **util_params: 0.0)\n",
    "\n",
    "training_parameters[\"save_path\"] = \"../res/local_experiments/ADULT/NO_FAIRNESS\"\n",
    "statistics, model_parameters, run_path = train(\n",
    "    training_parameters,\n",
    "    iterations=30,\n",
    "    asynchronous=True,\n",
    "    fairness_rates=[0.0])\n",
    "\n",
    "plot_mean(x_values=lambdas,\n",
    "          x_label=\"Penalty Constant\",\n",
    "          x_scale=\"log\",\n",
    "          performance_measures=[statistics.get_additonal_measure(UTILITY, \"Utility\"),\n",
    "                                statistics.demographic_parity(),\n",
    "                                statistics.equality_of_opportunity()],\n",
    "          fairness_measures=[],\n",
    "          file_path=\"{}/results_mean.png\".format(run_path))\n",
    "plot_median(x_values=lambdas,\n",
    "            x_label=\"Penalty Constant\",\n",
    "            x_scale=\"log\",\n",
    "\n",
    "          performance_measures=[statistics.get_additonal_measure(UTILITY, \"Utility\"),\n",
    "                                statistics.demographic_parity(),\n",
    "                                statistics.equality_of_opportunity()],\n",
    "          fairness_measures=[],\n",
    "            file_path=\"{}/results_median.png\".format(run_path))\n"
   ],
   "metadata": {
    "collapsed": false,
    "pycharm": {
     "name": "#%%\n"
    }
   }
  },
  {
   "cell_type": "markdown",
   "source": [
    "### Benefit Difference: DP"
   ],
   "metadata": {
    "collapsed": false,
    "pycharm": {
     "name": "#%% md\n"
    }
   }
  },
  {
   "cell_type": "code",
   "execution_count": null,
   "outputs": [],
   "source": [
    "training_parameters[\"optimization_target\"] = \\\n",
    "    ManualGradientPenaltyOptimizationTarget(0.0,\n",
    "                                            lambda **util_params: cost_utility(cost_factor=0.5, **util_params),\n",
    "                                            lambda **util_params: cost_utility_gradient(cost_factor=0.5, **util_params),\n",
    "                                            lambda **util_params: fairness_function(\"BD_DP\", **util_params),\n",
    "                                            lambda **util_params: fairness_function_gradient(\"BD_DP\", **util_params))\n",
    "\n",
    "\n",
    "training_parameters[\"save_path\"] = \"../res/local_experiments/ADULT_BEST/BD_DP\"\n",
    "# lambdas = np.linspace(0.00001, 0.0001, endpoint=True, num=10).tolist()\n",
    "# lambdas = np.linspace(0.0001, 0.001, endpoint=True, num=10).tolist()\n",
    "# lambdas = np.linspace(0.001, 0.01, endpoint=True, num=10).tolist()\n",
    "# lambdas = np.linspace(0.01, 0.1, endpoint=True, num=10).tolist()\n",
    "# lambdas = np.sort(np.unique(np.array(lambdas, dtype=float)))\n",
    "lambdas = np.geomspace(0.00001, 0.1, endpoint=True, num=10)\n",
    "\n",
    "statistics, model_parameters, run_path = train(\n",
    "    training_parameters,\n",
    "    iterations=10,\n",
    "    asynchronous=True,\n",
    "    fairness_rates=lambdas)\n",
    "\n",
    "plot_mean(x_values=lambdas,\n",
    "          x_label=\"Penalty Constant\",\n",
    "          x_scale=\"log\",\n",
    "          performance_measures=[statistics.get_additonal_measure(UTILITY, \"Utility\"),\n",
    "                                statistics.demographic_parity(),\n",
    "                                statistics.equality_of_opportunity()],\n",
    "          fairness_measures=[],\n",
    "          file_path=\"{}/results_mean.png\".format(run_path))\n",
    "plot_median(x_values=lambdas,\n",
    "            x_label=\"Penalty Constant\",\n",
    "            x_scale=\"log\",\n",
    "\n",
    "          performance_measures=[statistics.get_additonal_measure(UTILITY, \"Utility\"),\n",
    "                                statistics.demographic_parity(),\n",
    "                                statistics.equality_of_opportunity()],\n",
    "          fairness_measures=[],\n",
    "            file_path=\"{}/results_median.png\".format(run_path))\n"
   ],
   "metadata": {
    "collapsed": false,
    "pycharm": {
     "name": "#%%\n"
    }
   }
  },
  {
   "cell_type": "markdown",
   "source": [
    "### Benefit Difference: EOP"
   ],
   "metadata": {
    "collapsed": false
   }
  },
  {
   "cell_type": "code",
   "execution_count": null,
   "outputs": [],
   "source": [
    "training_parameters[\"optimization_target\"] = \\\n",
    "    ManualGradientPenaltyOptimizationTarget(0.0,\n",
    "                                            lambda **util_params: cost_utility(cost_factor=0.5, **util_params),\n",
    "                                            lambda **util_params: cost_utility_gradient(cost_factor=0.5, **util_params),\n",
    "                                            lambda **util_params: fairness_function(\"BD_EOP\", **util_params),\n",
    "                                            lambda **util_params: fairness_function_gradient(\"BD_EOP\", **util_params))\n",
    "\n",
    "\n",
    "training_parameters[\"save_path\"] = \"../res/local_experiments/ADULT_BEST/BD_EOP\"\n",
    "# lambdas = np.linspace(0.00001, 0.0001, endpoint=True, num=10).tolist()\n",
    "# lambdas = np.linspace(0.0001, 0.001, endpoint=True, num=10).tolist()\n",
    "# lambdas = np.linspace(0.001, 0.01, endpoint=True, num=10).tolist()\n",
    "# lambdas = np.linspace(0.01, 0.1, endpoint=True, num=10).tolist()\n",
    "# lambdas = np.sort(np.unique(np.array(lambdas, dtype=float)))\n",
    "lambdas = np.geomspace(0.00001, 0.1, endpoint=True, num=10)\n",
    "\n",
    "statistics, model_parameters, run_path = train(\n",
    "    training_parameters,\n",
    "    iterations=10,\n",
    "    asynchronous=True,\n",
    "    fairness_rates=lambdas)\n",
    "\n",
    "plot_mean(x_values=lambdas,\n",
    "          x_label=\"Penalty Constant\",\n",
    "          x_scale=\"log\",\n",
    "          performance_measures=[statistics.get_additonal_measure(UTILITY, \"Utility\"),\n",
    "                                statistics.demographic_parity(),\n",
    "                                statistics.equality_of_opportunity()],\n",
    "          fairness_measures=[],\n",
    "          file_path=\"{}/results_mean.png\".format(run_path))\n",
    "plot_median(x_values=lambdas,\n",
    "            x_label=\"Penalty Constant\",\n",
    "            x_scale=\"log\",\n",
    "\n",
    "          performance_measures=[statistics.get_additonal_measure(UTILITY, \"Utility\"),\n",
    "                                statistics.demographic_parity(),\n",
    "                                statistics.equality_of_opportunity()],\n",
    "          fairness_measures=[],\n",
    "            file_path=\"{}/results_median.png\".format(run_path))"
   ],
   "metadata": {
    "collapsed": false,
    "pycharm": {
     "name": "#%%\n"
    }
   }
  },
  {
   "cell_type": "markdown",
   "source": [
    "# FICO Credit Score Data"
   ],
   "metadata": {
    "collapsed": false
   }
  },
  {
   "cell_type": "code",
   "execution_count": null,
   "outputs": [],
   "source": [
    "bias = True\n",
    "distribution = FICODistribution(bias=bias, fraction_protected=0.5)\n",
    "dim_theta = distribution.feature_dimension\n",
    "\n",
    "training_parameters = {\n",
    "    'model': LogisticPolicy(np.zeros(dim_theta), IdentityFeatureMap(dim_theta), False),\n",
    "    'distribution': distribution,\n",
    "    'parameter_optimization': {\n",
    "        'time_steps':200,\n",
    "        'epochs': 50,\n",
    "        'batch_size':128,\n",
    "        'learning_rate': 0.01,\n",
    "        'learn_on_entire_history': False,\n",
    "        'clip_weights': True\n",
    "    },\n",
    "    'data': {\n",
    "        'num_train_samples': 4096,\n",
    "        'num_test_samples': 1024\n",
    "    },\n",
    "    'evaluation': {\n",
    "        UTILITY: {\n",
    "            'measure_function': lambda s, y, decisions : cost_utility(cost_factor=0.5,\n",
    "                                                                      s=s,\n",
    "                                                                      y=y,\n",
    "                                                                      decisions=decisions),\n",
    "            'detailed': False\n",
    "        },\n",
    "        COVARIANCE_OF_DECISION_DP: {\n",
    "            'measure_function': lambda s, y, decisions : fairness_function(\n",
    "                type=\"COV_DP\",\n",
    "                x=None,\n",
    "                s=s,\n",
    "                y=y,\n",
    "                decisions=decisions,\n",
    "                ips_weights=None,\n",
    "                policy=None),\n",
    "            'detailed': False\n",
    "        }\n",
    "    }\n",
    "}\n",
    "\n",
    "\n",
    "if os.path.isfile('./cluster_experiments/seeds.npz'):\n",
    "    seeds = np.load('./cluster_experiments/seeds.npz')\n",
    "    training_parameters['data'][\"training_seeds\"] = seeds[\"train\"]\n",
    "    training_parameters['data'][\"test_seed\"] = seeds[\"test\"]\n",
    "else:\n",
    "    seeds = {}\n",
    "    train_seeds = get_list_of_seeds(200)\n",
    "    test_seeds = get_list_of_seeds(1)\n",
    "    training_parameters['data'][\"training_seeds\"] = train_seeds\n",
    "    training_parameters['data'][\"test_seed\"] = test_seeds\n",
    "    np.savez('./cluster_experiments/seeds.npz', train=train_seeds, test=test_seeds)"
   ],
   "metadata": {
    "collapsed": false,
    "pycharm": {
     "name": "#%%\n"
    }
   }
  },
  {
   "cell_type": "markdown",
   "source": [
    "### Benefit Difference: DP"
   ],
   "metadata": {
    "collapsed": false
   }
  },
  {
   "cell_type": "code",
   "execution_count": null,
   "outputs": [],
   "source": [
    "training_parameters[\"optimization_target\"] = \\\n",
    "    ManualGradientPenaltyOptimizationTarget(0.0,\n",
    "                                            lambda **util_params: cost_utility(cost_factor=0.5, **util_params),\n",
    "                                            lambda **util_params: cost_utility_gradient(cost_factor=0.5, **util_params),\n",
    "                                            lambda **util_params: fairness_function(\"BD_DP\", **util_params),\n",
    "                                            lambda **util_params: fairness_function_gradient(\"BD_DP\", **util_params))\n",
    "\n",
    "training_parameters[\"save_path\"] = \"../res/local_experiments/FICO_BEST/BD_DP\"\n",
    "# lambdas = np.linspace(0.0001, 0.001, endpoint=True, num=10).tolist()\n",
    "# lambdas.extend(np.linspace(0.001, 0.01, endpoint=True, num=10).tolist())\n",
    "# lambdas.extend(np.linspace(0.01, 0.1, endpoint=True, num=10).tolist())\n",
    "# lambdas = np.sort(np.unique(np.array(lambdas, dtype=float)))\n",
    "lambdas = np.geomspace(0.00001, 0.1, endpoint=True, num=10)\n",
    "\n",
    "statistics, model_parameters, run_path = train(\n",
    "    training_parameters,\n",
    "    iterations=10,\n",
    "    asynchronous=True,\n",
    "    fairness_rates=lambdas)\n",
    "\n",
    "plot_mean(x_values=lambdas,\n",
    "          x_label=\"Penalty Constant\",\n",
    "          x_scale=\"log\",\n",
    "          performance_measures=[statistics.get_additonal_measure(UTILITY, \"Utility\"),\n",
    "                                statistics.demographic_parity(),\n",
    "                                statistics.equality_of_opportunity()],\n",
    "          fairness_measures=[],\n",
    "          file_path=\"{}/results_mean.png\".format(run_path))\n",
    "plot_median(x_values=lambdas,\n",
    "            x_label=\"Penalty Constant\",\n",
    "            x_scale=\"log\",\n",
    "\n",
    "          performance_measures=[statistics.get_additonal_measure(UTILITY, \"Utility\"),\n",
    "                                statistics.demographic_parity(),\n",
    "                                statistics.equality_of_opportunity()],\n",
    "          fairness_measures=[],\n",
    "            file_path=\"{}/results_median.png\".format(run_path))"
   ],
   "metadata": {
    "collapsed": false,
    "pycharm": {
     "name": "#%%\n"
    }
   }
  },
  {
   "cell_type": "markdown",
   "source": [
    "### Benefit Difference: EOP"
   ],
   "metadata": {
    "collapsed": false
   }
  },
  {
   "cell_type": "code",
   "execution_count": null,
   "outputs": [],
   "source": [
    "training_parameters[\"optimization_target\"] = \\\n",
    "    ManualGradientPenaltyOptimizationTarget(0.0,\n",
    "                                            lambda **util_params: cost_utility(cost_factor=0.5, **util_params),\n",
    "                                            lambda **util_params: cost_utility_gradient(cost_factor=0.5, **util_params),\n",
    "                                            lambda **util_params: fairness_function(\"BD_EOP\", **util_params),\n",
    "                                            lambda **util_params: fairness_function_gradient(\"BD_EOP\", **util_params))\n",
    "\n",
    "\n",
    "training_parameters[\"save_path\"] = \"../res/local_experiments/FICO_BEST/BD_EOP\"\n",
    "# lambdas = np.linspace(0.001, 0.01, endpoint=True, num=10).tolist()\n",
    "# lambdas.extend(np.linspace(0.01, 0.1, endpoint=True, num=10).tolist())\n",
    "# lambdas.extend(np.linspace(0.1, 1.0, endpoint=True, num=10).tolist())\n",
    "# lambdas = np.sort(np.unique(np.array(lambdas, dtype=float)))\n",
    "lambdas = np.geomspace(0.00001, 1.0, endpoint=True, num=10)\n",
    "\n",
    "statistics, model_parameters, run_path = train(\n",
    "    training_parameters,\n",
    "    iterations=10,\n",
    "    asynchronous=True,\n",
    "    fairness_rates=lambdas)\n",
    "\n",
    "plot_mean(x_values=lambdas,\n",
    "          x_label=\"Penalty Constant\",\n",
    "          x_scale=\"log\",\n",
    "          performance_measures=[statistics.get_additonal_measure(UTILITY, \"Utility\"),\n",
    "                                statistics.demographic_parity(),\n",
    "                                statistics.equality_of_opportunity()],\n",
    "          fairness_measures=[],\n",
    "          file_path=\"{}/results_mean.png\".format(run_path))\n",
    "plot_median(x_values=lambdas,\n",
    "            x_label=\"Penalty Constant\",\n",
    "            x_scale=\"log\",\n",
    "\n",
    "          performance_measures=[statistics.get_additonal_measure(UTILITY, \"Utility\"),\n",
    "                                statistics.demographic_parity(),\n",
    "                                statistics.equality_of_opportunity()],\n",
    "          fairness_measures=[],\n",
    "            file_path=\"{}/results_median.png\".format(run_path))"
   ],
   "metadata": {
    "collapsed": false,
    "pycharm": {
     "name": "#%%\n"
    }
   }
  }
 ],
 "metadata": {
  "file_extension": ".py",
  "kernelspec": {
   "name": "python3",
   "language": "python",
   "display_name": "Python 3"
  },
  "language_info": {
   "codemirror_mode": {
    "name": "ipython",
    "version": 3
   },
   "file_extension": ".py",
   "mimetype": "text/x-python",
   "name": "python",
   "nbconvert_exporter": "python",
   "pygments_lexer": "ipython3",
   "version": "3.7.4-final"
  },
  "mimetype": "text/x-python",
  "name": "python",
  "npconvert_exporter": "python",
  "pygments_lexer": "ipython3",
  "version": 3
 },
 "nbformat": 4,
 "nbformat_minor": 2
}