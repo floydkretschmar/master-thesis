{
 "cells": [
  {
   "cell_type": "markdown",
   "execution_count": null,
   "metadata": {},
   "outputs": [],
   "source": [
    "# Implementation of a comparison of Split and uncalibrated scenarion"
   ]
  },
  {
   "cell_type": "code",
   "execution_count": null,
   "metadata": {},
   "outputs": [],
   "source": [
    "import os\n",
    "import sys\n",
    "module_path = os.path.abspath(os.path.join('..'))\n",
    "if module_path not in sys.path:\n",
    "    sys.path.append(module_path)\n",
    "\n",
    "import numpy as np\n",
    "import multiprocessing as mp\n",
    "from src.util import sigmoid\n",
    "from src.feature_map import IdentityFeatureMap\n",
    "from src.functions import cost_utility, demographic_parity\n",
    "from src.plotting import plot_mean_over_time, plot_median_over_time\n",
    "from src.training import train\n",
    "from src.distribution import SplitDistribution, UncalibratedScore"
   ]
  },
  {
   "cell_type": "code",
   "execution_count": null,
   "metadata": {},
   "outputs": [],
   "source": [
    "def fairness_function(**fairness_kwargs):\n",
    "    policy = fairness_kwargs[\"policy\"]\n",
    "    x = fairness_kwargs[\"x\"]\n",
    "    s = fairness_kwargs[\"s\"]\n",
    "    y = fairness_kwargs[\"y\"]\n",
    "    decisions = fairness_kwargs[\"decisions\"]\n",
    "    ips_weights = fairness_kwargs[\"ips_weights\"]\n",
    "    numerator, denominator_log_grad = policy._log_gradient(x, s)\n",
    "\n",
    "    benefit = policy.benefit_function(decisions=decisions, y=y)\n",
    "    benefit_gradient = benefit / denominator_log_grad\n",
    "\n",
    "    if ips_weights is not None:\n",
    "        benefit *= ips_weights\n",
    "        benefit_gradient *= ips_weights\n",
    "\n",
    "    benefit_grad = numerator * benefit_gradient\n",
    "        \n",
    "    # benefit-difference * grad-benefit-difference\n",
    "    return policy._mean_difference(benefit, s) * policy._mean_difference(benefit_grad, s)"
   ]
  },
  {
   "cell_type": "markdown",
   "execution_count": null,
   "metadata": {},
   "outputs": [],
   "source": [
    "## Uncalibrated Score"
   ]
  },
  {
   "cell_type": "code",
   "execution_count": null,
   "metadata": {},
   "outputs": [],
   "source": [
    "bias = True\n",
    "dim_x = 1\n",
    "dim_theta = dim_x + 1 if bias else dim_x\n",
    "\n",
    "def util_func(**util_params):\n",
    "    util = cost_utility(cost_factor=0.1, **util_params)\n",
    "    return util\n",
    "\n",
    "training_parameters = {    \n",
    "    'save_path': \"/home/fkretschmar/Documents/master-thesis/res/exp-006/uncalibrated/\",\n",
    "    'model':{\n",
    "        'theta': [-3.0, 5.0],\n",
    "        'benefit_value_function': demographic_parity,\n",
    "        'utility_value_function': util_func,\n",
    "        'fairness_function': fairness_function,\n",
    "        'feature_map': IdentityFeatureMap(dim_theta),\n",
    "        'keep_collected_data': False,\n",
    "        'use_sensitve_attributes': False,\n",
    "        'bias': bias\n",
    "    },\n",
    "    'optimization': {\n",
    "        'time_steps':200,\n",
    "        'epochs': 1,\n",
    "        'batch_size':256,\n",
    "        'learning_rate': 1,\n",
    "        'decay_rate': 1,\n",
    "        'decay_step': 10000\n",
    "    },\n",
    "    'data': {\n",
    "        'distribution': UncalibratedScore(bias=bias),\n",
    "        'keep_data_across_lambdas': True,\n",
    "        'fraction_protected':0.5,\n",
    "        'num_test_samples': 8192,\n",
    "        'num_decisions': 128 * 256\n",
    "    }\n",
    "}\n"
   ]
  },
  {
   "cell_type": "code",
   "execution_count": null,
   "metadata": {},
   "outputs": [],
   "source": [
    "statistics, run_path = train(training_parameters, fairness_rates=[0.0], iterations=30, store_all=True, verbose=False, asynchronous=True)\n",
    "\n",
    "plot_mean_over_time(statistics, \"{}/results_mean.png\".format(run_path))\n",
    "plot_median_over_time(statistics, \"{}/results_median.png\".format(run_path))"
   ]
  },
  {
   "cell_type": "markdown",
   "execution_count": null,
   "metadata": {},
   "outputs": [],
   "source": [
    "## Split Distribution"
   ]
  },
  {
   "cell_type": "code",
   "execution_count": null,
   "metadata": {},
   "outputs": [],
   "source": [
    "bias = True\n",
    "dim_x = 1\n",
    "dim_theta = dim_x + 1 if bias else dim_x\n",
    "\n",
    "def util_func(**util_params):\n",
    "    util = cost_utility(cost_factor=0.55, **util_params)\n",
    "    return util\n",
    "\n",
    "training_parameters = {    \n",
    "    'save_path': \"/home/fkretschmar/Documents/master-thesis/res/exp-006/split/\",\n",
    "    'model':{\n",
    "        'theta': [-3.5, 0.6],\n",
    "        'benefit_value_function': demographic_parity,\n",
    "        'utility_value_function': util_func,\n",
    "        'fairness_function': fairness_function,\n",
    "        'feature_map': IdentityFeatureMap(dim_theta),\n",
    "        'keep_collected_data': False,\n",
    "        'use_sensitve_attributes': False,\n",
    "        'bias': bias\n",
    "    },\n",
    "    'optimization': {\n",
    "        'time_steps':200,\n",
    "        'epochs': 32,\n",
    "        'batch_size':512,\n",
    "        'learning_rate': 0.5,\n",
    "        'decay_rate': 0.8,\n",
    "        'decay_step': 30,\n",
    "        'test_at_every_timestep': False\n",
    "    },\n",
    "    'data': {\n",
    "        'distribution': SplitDistribution(bias=bias),\n",
    "        'keep_data_across_lambdas': True,\n",
    "        'fraction_protected':0.5,\n",
    "        'num_test_samples': 20480,\n",
    "        'num_decisions': 32 * 512\n",
    "    }\n",
    "}"
   ]
  },
  {
   "cell_type": "code",
   "execution_count": null,
   "metadata": {},
   "outputs": [],
   "source": [
    "statistics, run_path = train(training_parameters, fairness_rates=[0.0], iterations=30, store_all=True, verbose=True, asynchronous=True)\n",
    "\n",
    "plot_mean_over_time(statistics, \"{}/results_mean.png\".format(run_path))\n",
    "plot_median_over_time(statistics, \"{}/results_median.png\".format(run_path))"
   ]
  },
  {
   "cell_type": "code",
   "execution_count": null,
   "metadata": {},
   "outputs": [],
   "source": []
  }
 ],
 "metadata": {
  "file_extension": ".py",
  "kernelspec": {
   "display_name": "Python 3.7.4 64-bit ('miniconda3': virtualenv)",
   "language": "python",
   "name": "python37464bitminiconda3virtualenv5e66bc8af94a4b3dad75094b6163158a"
  },
  "language_info": {
   "codemirror_mode": {
    "name": "ipython",
    "version": 3
   },
   "file_extension": ".py",
   "mimetype": "text/x-python",
   "name": "python",
   "nbconvert_exporter": "python",
   "pygments_lexer": "ipython3",
   "version": "3.7.4-final"
  },
  "mimetype": "text/x-python",
  "name": "python",
  "npconvert_exporter": "python",
  "pygments_lexer": "ipython3",
  "version": 3
 },
 "nbformat": 4,
 "nbformat_minor": 2
}