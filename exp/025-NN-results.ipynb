{
 "cells": [
  {
   "cell_type": "markdown",
   "source": [
    "# Implementation the best parameters settings for COMPAS, Adult Credit and FICO Credit score datasets"
   ],
   "metadata": {
    "collapsed": false
   }
  },
  {
   "cell_type": "code",
   "execution_count": 1,
   "outputs": [
    {
     "name": "stderr",
     "output_type": "stream",
     "text": [
      "unable to import 'smart_open.gcs', disabling that module\n"
     ]
    }
   ],
   "source": [
    "import os\n",
    "import sys\n",
    "import numpy as np\n",
    "import torch\n",
    "module_path = os.path.abspath(os.path.join('..'))\n",
    "\n",
    "if module_path not in sys.path:\n",
    "    sys.path.append(module_path)\n",
    "\n",
    "from src.util import mean_difference, mean, get_list_of_seeds\n",
    "from src.functions import cost_utility, cost_utility_probability\n",
    "from src.plotting import plot_mean, plot_median\n",
    "from src.training import train\n",
    "from src.training_evaluation import UTILITY, COVARIANCE_OF_DECISION_DP\n",
    "from src.policy import NeuralNetworkPolicy\n",
    "from src.distribution import COMPASDistribution\n",
    "from src.optimization import PenaltyOptimizationTarget"
   ],
   "metadata": {
    "collapsed": false,
    "pycharm": {
     "name": "#%%\n"
    }
   }
  },
  {
   "cell_type": "markdown",
   "source": [
    "## Fairness Functions"
   ],
   "metadata": {
    "collapsed": false
   }
  },
  {
   "cell_type": "code",
   "execution_count": 2,
   "outputs": [],
   "source": [
    "def calc_benefit(decisions):\n",
    "    return decisions\n",
    "\n",
    "def calc_covariance(s, decisions):\n",
    "    new_s = 1 - (2 * s)\n",
    "    mu_s = mean(new_s, axis=0)\n",
    "    d = decisions\n",
    "    covariance = (new_s - mu_s) * d\n",
    "    return covariance\n",
    "\n",
    "def fairness_function(type, **fairness_kwargs):\n",
    "    s = fairness_kwargs[\"s\"]\n",
    "    y = fairness_kwargs[\"y\"]\n",
    "    decision_probabilities = fairness_kwargs[\"decision_probabilities\"]\n",
    "\n",
    "    if type == \"BD_DP\":\n",
    "        benefit = calc_benefit(decision_probabilities)\n",
    "        return mean_difference(benefit, s)\n",
    "    elif type == \"COV_DP\":\n",
    "        covariance = calc_covariance(s, decision_probabilities)\n",
    "        return mean(covariance, axis=0)\n",
    "    elif type == \"BD_EOP\":\n",
    "        benefit = calc_benefit(decision_probabilities)\n",
    "        y1_indices = np.where(y == 1)\n",
    "        return mean_difference(benefit[y1_indices], s[y1_indices])\n",
    "\n",
    "def eval_covariance_of_decision(**fairness_params):\n",
    "    s = fairness_params[\"s\"]\n",
    "    decisions = fairness_params[\"decisions\"]\n",
    "\n",
    "    covariance = calc_covariance(s, decisions)\n",
    "    return mean(covariance, axis=0)\n",
    "\n",
    "def eval_utility(**util_params):\n",
    "    return cost_utility(cost_factor=0.5, **util_params)\n",
    "\n",
    "def no_fairness(**fairness_kwargs):\n",
    "    return 0.0\n",
    "\n",
    "def utility(**util_params):\n",
    "    return cost_utility_probability(cost_factor=0.5, **util_params)\n",
    "\n",
    "def covariance_of_decision(**fairness_params):\n",
    "    return fairness_function(\n",
    "        type=\"COV_DP\",\n",
    "        **fairness_params)\n",
    "\n",
    "def benefit_difference_dp(**fairness_params):\n",
    "    return fairness_function(\n",
    "        type=\"BD_DP\",\n",
    "        **fairness_params)\n",
    "\n",
    "def benefit_difference_eop(**fairness_params):\n",
    "    return fairness_function(\n",
    "        type=\"BD_EOP\",\n",
    "        **fairness_params)"
   ],
   "metadata": {
    "collapsed": false,
    "pycharm": {
     "name": "#%%\n"
    }
   }
  },
  {
   "cell_type": "markdown",
   "source": [
    "# COMPAS"
   ],
   "metadata": {
    "collapsed": false
   }
  },
  {
   "cell_type": "code",
   "execution_count": 3,
   "outputs": [],
   "source": [
    "bias = True\n",
    "distribution = COMPASDistribution(bias=bias, test_percentage=0.2)\n",
    "dim_theta = distribution.feature_dimension\n",
    "\n",
    "training_parameters = {\n",
    "    'model': NeuralNetworkPolicy(dim_theta, False),\n",
    "    'distribution': distribution,\n",
    "    'parameter_optimization': {\n",
    "        'time_steps':200,\n",
    "        'epochs': 50,\n",
    "        'batch_size':128,\n",
    "        'learning_rate': 0.01,\n",
    "        'learn_on_entire_history': False,\n",
    "        'clip_weights': True\n",
    "    },\n",
    "    'data': {\n",
    "        'num_train_samples': 4096,\n",
    "        'num_test_samples': 1024\n",
    "    },\n",
    "    'evaluation': {\n",
    "        UTILITY: {\n",
    "            'measure_function': eval_utility,\n",
    "            'detailed': False\n",
    "        },\n",
    "        COVARIANCE_OF_DECISION_DP: {\n",
    "            'measure_function': eval_covariance_of_decision,\n",
    "            'detailed': False\n",
    "        }\n",
    "    }\n",
    "}\n",
    "\n",
    "if os.path.isfile('./cluster_experiments/seeds.npz'):\n",
    "    seeds = np.load('./cluster_experiments/seeds.npz')\n",
    "    training_parameters['data'][\"training_seeds\"] = seeds[\"train\"]\n",
    "    training_parameters['data'][\"test_seed\"] = seeds[\"test\"]\n",
    "else:\n",
    "    seeds = {}\n",
    "    train_seeds = get_list_of_seeds(200)\n",
    "    test_seeds = get_list_of_seeds(1)\n",
    "    training_parameters['data'][\"training_seeds\"] = train_seeds\n",
    "    training_parameters['data'][\"test_seed\"] = test_seeds\n",
    "    np.savez('./cluster_experiments/seeds.npz', train=train_seeds, test=test_seeds)"
   ],
   "metadata": {
    "collapsed": false,
    "pycharm": {
     "name": "#%%\n"
    }
   }
  },
  {
   "cell_type": "markdown",
   "source": [
    "### No Fariness"
   ],
   "metadata": {
    "collapsed": false
   }
  },
  {
   "cell_type": "code",
   "execution_count": null,
   "outputs": [],
   "source": [
    "training_parameters[\"optimization_target\"] = \\\n",
    "    PenaltyOptimizationTarget(0.0, utility, no_fairness)\n",
    "\n",
    "training_parameters[\"save_path\"] = \"../res/local_experiments/COMPAS_NN/NO_FAIRNESS\"\n",
    "statistics, model_parameters, run_path = train(\n",
    "    training_parameters,\n",
    "    iterations=10,\n",
    "    asynchronous=False,\n",
    "    fairness_rates=[0.0])\n",
    "\n",
    "plot_mean(x_values=range(training_parameters[\"parameter_optimization\"][\"time_steps\"] + 1),\n",
    "          x_label=\"Time steps\",\n",
    "          x_scale=\"linear\",\n",
    "          performance_measures=[statistics.get_additonal_measure(UTILITY, \"Utility\"),\n",
    "                                statistics.demographic_parity(),\n",
    "                                statistics.equality_of_opportunity()],\n",
    "          fairness_measures=[],\n",
    "          file_path=\"{}/results_mean_time.png\".format(run_path))\n",
    "plot_median(x_values=range(training_parameters[\"parameter_optimization\"][\"time_steps\"] + 1),\n",
    "            x_label=\"Time steps\",\n",
    "            x_scale=\"linear\",\n",
    "            performance_measures=[statistics.get_additonal_measure(UTILITY, \"Utility\"),\n",
    "                                  statistics.demographic_parity(),\n",
    "                                  statistics.equality_of_opportunity()],\n",
    "            fairness_measures=[],\n",
    "            file_path=\"{}/results_median_time.png\".format(run_path))\n"
   ],
   "metadata": {
    "collapsed": false,
    "pycharm": {
     "name": "#%%\n",
     "is_executing": true
    }
   }
  },
  {
   "cell_type": "markdown",
   "source": [
    "### Benefit Difference: DP"
   ],
   "metadata": {
    "collapsed": false
   }
  },
  {
   "cell_type": "code",
   "execution_count": null,
   "outputs": [],
   "source": [
    "training_parameters[\"optimization_target\"] = \\\n",
    "    PenaltyOptimizationTarget(0.0, utility, benefit_difference_dp)\n",
    "\n",
    "lambdas = np.geomspace(0.001, 100.0, endpoint=True, num=10)\n",
    "\n",
    "training_parameters[\"save_path\"] = \"../res/local_experiments/COMPAS_NN/BD_DP\"\n",
    "statistics, model_parameters, run_path = train(\n",
    "    training_parameters,\n",
    "    iterations=10,\n",
    "    asynchronous=True,\n",
    "    fairness_rates=lambdas)\n",
    "\n",
    "plot_mean(x_values=lambdas,\n",
    "          x_label=\"Penalty Constant\",\n",
    "          x_scale=\"log\",\n",
    "          performance_measures=[statistics.get_additonal_measure(UTILITY, \"Utility\"),\n",
    "                                statistics.demographic_parity(),\n",
    "                                statistics.equality_of_opportunity()],\n",
    "          fairness_measures=[],\n",
    "          file_path=\"{}/results_mean.png\".format(run_path))\n",
    "plot_median(x_values=lambdas,\n",
    "            x_label=\"Penalty Constant\",\n",
    "            x_scale=\"log\",\n",
    "            performance_measures=[statistics.get_additonal_measure(UTILITY, \"Utility\"),\n",
    "                                statistics.demographic_parity(),\n",
    "                                statistics.equality_of_opportunity()],\n",
    "            fairness_measures=[],\n",
    "            file_path=\"{}/results_median.png\".format(run_path))"
   ],
   "metadata": {
    "collapsed": false,
    "pycharm": {
     "name": "#%%\n",
     "is_executing": true
    }
   }
  },
  {
   "cell_type": "markdown",
   "source": [
    "### Benefit Difference: EOP"
   ],
   "metadata": {
    "collapsed": false
   }
  },
  {
   "cell_type": "code",
   "execution_count": 4,
   "outputs": [
    {
     "name": "stdout",
     "output_type": "stream",
     "text": [
      "## STARTED // LR = 0.01 // TS = 200 // E = 50 // BS = 128 // FR = 0.001 ##\n",
      "## ENDED // LR = 0.01 // TS = 200 // E = 50 // BS = 128 // FR = 0.001 ##\n",
      "## STARTED // LR = 0.01 // TS = 200 // E = 50 // BS = 128 // FR = 0.003593813663804626 ##\n",
      "## ENDED // LR = 0.01 // TS = 200 // E = 50 // BS = 128 // FR = 0.003593813663804626 ##\n",
      "## STARTED // LR = 0.01 // TS = 200 // E = 50 // BS = 128 // FR = 0.01291549665014884 ##\n",
      "## ENDED // LR = 0.01 // TS = 200 // E = 50 // BS = 128 // FR = 0.01291549665014884 ##\n",
      "## STARTED // LR = 0.01 // TS = 200 // E = 50 // BS = 128 // FR = 0.046415888336127795 ##\n",
      "## ENDED // LR = 0.01 // TS = 200 // E = 50 // BS = 128 // FR = 0.046415888336127795 ##\n",
      "## STARTED // LR = 0.01 // TS = 200 // E = 50 // BS = 128 // FR = 0.1668100537200059 ##\n",
      "## ENDED // LR = 0.01 // TS = 200 // E = 50 // BS = 128 // FR = 0.1668100537200059 ##\n",
      "## STARTED // LR = 0.01 // TS = 200 // E = 50 // BS = 128 // FR = 0.5994842503189409 ##\n",
      "## ENDED // LR = 0.01 // TS = 200 // E = 50 // BS = 128 // FR = 0.5994842503189409 ##\n",
      "## STARTED // LR = 0.01 // TS = 200 // E = 50 // BS = 128 // FR = 2.1544346900318843 ##\n",
      "## ENDED // LR = 0.01 // TS = 200 // E = 50 // BS = 128 // FR = 2.1544346900318843 ##\n",
      "## STARTED // LR = 0.01 // TS = 200 // E = 50 // BS = 128 // FR = 7.742636826811277 ##\n",
      "## ENDED // LR = 0.01 // TS = 200 // E = 50 // BS = 128 // FR = 7.742636826811277 ##\n",
      "## STARTED // LR = 0.01 // TS = 200 // E = 50 // BS = 128 // FR = 27.825594022071257 ##\n",
      "## ENDED // LR = 0.01 // TS = 200 // E = 50 // BS = 128 // FR = 27.825594022071257 ##\n",
      "## STARTED // LR = 0.01 // TS = 200 // E = 50 // BS = 128 // FR = 100.0 ##\n",
      "## ENDED // LR = 0.01 // TS = 200 // E = 50 // BS = 128 // FR = 100.0 ##\n"
     ]
    }
   ],
   "source": [
    "training_parameters[\"optimization_target\"] = \\\n",
    "    PenaltyOptimizationTarget(0.0, utility, benefit_difference_eop)\n",
    "\n",
    "lambdas = np.geomspace(0.001, 100.0, endpoint=True, num=10)\n",
    "\n",
    "training_parameters[\"save_path\"] = \"../res/local_experiments/COMPAS_NN/BD_EOP\"\n",
    "statistics, model_parameters, run_path = train(\n",
    "    training_parameters,\n",
    "    iterations=10,\n",
    "    asynchronous=True,\n",
    "    fairness_rates=lambdas)\n",
    "\n",
    "\n",
    "plot_mean(x_values=lambdas,\n",
    "          x_label=\"Penalty Constant\",\n",
    "          x_scale=\"log\",\n",
    "          performance_measures=[statistics.get_additonal_measure(UTILITY, \"Utility\"),\n",
    "                                statistics.demographic_parity(),\n",
    "                                statistics.equality_of_opportunity()],\n",
    "          fairness_measures=[],\n",
    "          file_path=\"{}/results_mean.png\".format(run_path))\n",
    "plot_median(x_values=lambdas,\n",
    "            x_label=\"Penalty Constant\",\n",
    "            x_scale=\"log\",\n",
    "            performance_measures=[statistics.get_additonal_measure(UTILITY, \"Utility\"),\n",
    "                                statistics.demographic_parity(),\n",
    "                                statistics.equality_of_opportunity()],\n",
    "            fairness_measures=[],\n",
    "            file_path=\"{}/results_median.png\".format(run_path))"
   ],
   "metadata": {
    "collapsed": false,
    "pycharm": {
     "name": "#%%\n"
    }
   }
  }
 ],
 "metadata": {
  "file_extension": ".py",
  "kernelspec": {
   "name": "python3",
   "language": "python",
   "display_name": "Python 3"
  },
  "language_info": {
   "codemirror_mode": {
    "name": "ipython",
    "version": 3
   },
   "file_extension": ".py",
   "mimetype": "text/x-python",
   "name": "python",
   "nbconvert_exporter": "python",
   "pygments_lexer": "ipython3",
   "version": "3.7.4-final"
  },
  "mimetype": "text/x-python",
  "name": "python",
  "npconvert_exporter": "python",
  "pygments_lexer": "ipython3",
  "version": 3
 },
 "nbformat": 4,
 "nbformat_minor": 2
}