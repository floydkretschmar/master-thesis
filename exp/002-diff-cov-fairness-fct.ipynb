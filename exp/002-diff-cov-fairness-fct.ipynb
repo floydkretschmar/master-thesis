{
 "nbformat": 4,
 "nbformat_minor": 2,
 "metadata": {
  "language_info": {
   "name": "python",
   "codemirror_mode": {
    "name": "ipython",
    "version": 3
   },
   "version": "3.7.4"
  },
  "orig_nbformat": 2,
  "file_extension": ".py",
  "mimetype": "text/x-python",
  "name": "python",
  "npconvert_exporter": "python",
  "pygments_lexer": "ipython3",
  "version": 3
 },
 "cells": [
  {
   "cell_type": "markdown",
   "metadata": {},
   "outputs": [],
   "source": [
    "# Implementation of \"Fair Decisions Despite Imperfect Predictions\" using the covariance fairness constraint"
   ]
  },
  {
   "cell_type": "code",
   "execution_count": 1,
   "metadata": {},
   "outputs": [],
   "source": [
    "import numpy as np\n",
    "from src.consequential_learning import collect_data, train\n",
    "from src.feature_map import IdentityFeatureMap"
   ]
  },
  {
   "cell_type": "markdown",
   "metadata": {},
   "outputs": [],
   "source": [
    "## The parameters used by the the original authors  "
   ]
  },
  {
   "cell_type": "code",
   "execution_count": 2,
   "metadata": {},
   "outputs": [],
   "source": [
    "training_parameters = {\n",
    "    'dim_x': 1,\n",
    "    'dim_s': 1,\n",
    "    'time_steps':200,\n",
    "    'batch_size':512,\n",
    "    'num_iterations': 32,\n",
    "    'learning_parameters': {\n",
    "        'learning_rate': 0.5,\n",
    "        'decay_rate': 0.8,\n",
    "        'decay_step': 30\n",
    "    },\n",
    "    'fairness_rate':0.5,\n",
    "    'cost_factor':0.55,\n",
    "    'fraction_protected':0.3\n",
    "}\n",
    "training_parameters['dim_theta'] = training_parameters['dim_x'] + training_parameters['dim_s']\n",
    "training_parameters['feature_map'] = IdentityFeatureMap(training_parameters['dim_theta'])\n",
    "training_parameters['num_decisions'] = training_parameters['num_iterations'] * training_parameters['batch_size']"
   ]
  },
  {
   "cell_type": "markdown",
   "metadata": {},
   "outputs": [],
   "source": [
    "## Definition of the fairness function  \n",
    "The covariance fairness constraint is defined as the covariance between the sensitive attribute and the signed distance from the users feature vectors to the decision boundary: $$Cov_{DI}(s, d_{\\theta}) = E[(s - \\mu_s)e]$$"
   ]
  },
  {
   "cell_type": "code",
   "execution_count": 3,
   "metadata": {},
   "outputs": [],
   "source": [
    "def fairness_function(**fairness_kwargs):\n",
    "    x = fairness_kwargs['x']\n",
    "    s = fairness_kwargs['s']\n",
    "    sample_theta = fairness_kwargs['sample_theta']\n",
    "    policy = fairness_kwargs['policy']\n",
    "    gradient = fairness_kwargs['gradient']\n",
    "\n",
    "    ips_weight, phi, log_gradient_denominator = policy.calculate_ips_weights_and_log_gradient(x, s, sample_theta)\n",
    "    decision = policy(x, s).reshape(-1, 1)\n",
    "\n",
    "    mu_s = (ips_weight * s).mean(axis=0)\n",
    "    covariance = (s - mu_s) * decision\n",
    "\n",
    "    if gradient:\n",
    "        grad_benefit = ((ips_weight/log_gradient_denominator) * covariance * phi).sum(axis=0) / x.shape[0]\n",
    "        return grad_benefit\n",
    "    else:\n",
    "        benefit = (ips_weight * covariance).sum(axis=0) / x.shape[0]\n",
    "        return benefit\n"
   ]
  },
  {
   "cell_type": "markdown",
   "metadata": {},
   "outputs": [],
   "source": [
    "## Train the model"
   ]
  },
  {
   "cell_type": "code",
   "execution_count": 4,
   "metadata": {},
   "outputs": [
    {
     "name": "stdout",
     "output_type": "stream",
     "text": "Fairness penalty: [0.00502812]\nTime step 1: Utility -0.021704983142152225\nFairness penalty: [0.01187556]\nTime step 2: Utility 0.03989369292069194\nFairness penalty: [0.01383579]\nTime step 3: Utility 0.04196568076247986\nFairness penalty: [0.01075765]\nTime step 4: Utility 0.04392143452010361\nFairness penalty: [0.01020751]\nTime step 5: Utility 0.05591485255878856\nFairness penalty: [0.00801472]\nTime step 6: Utility 0.047818266040886265\nFairness penalty: [0.00677428]\nTime step 7: Utility 0.05146036878248665\nFairness penalty: [0.00767242]\nTime step 8: Utility 0.05332216915084003\nFairness penalty: [0.0129455]\nTime step 9: Utility 0.05032895392171851\nFairness penalty: [0.00882702]\nTime step 10: Utility 0.050545437785321494\nFairness penalty: [0.01307406]\nTime step 11: Utility 0.044051211067691\nFairness penalty: [0.0075396]\nTime step 12: Utility 0.053571509783135934\nFairness penalty: [0.00563055]\nTime step 13: Utility 0.05936945123589245\nFairness penalty: [0.00451824]\nTime step 14: Utility 0.07017634631986366\nFairness penalty: [0.00358006]\nTime step 15: Utility 0.06484951143626833\nFairness penalty: [0.00555659]\nTime step 16: Utility 0.060670879712274285\nFairness penalty: [0.06077046]\nTime step 17: Utility 0.010458443430096368\nFairness penalty: [0.00613159]\nTime step 18: Utility 0.06799385747270757\nFairness penalty: [0.03836804]\nTime step 19: Utility 0.01759898492681102\nFairness penalty: [0.00451684]\nTime step 20: Utility 0.06507757400066753\nFairness penalty: [0.01239609]\nTime step 21: Utility 0.059544698594370074\nFairness penalty: [0.05207958]\nTime step 22: Utility 0.024964357913097132\nFairness penalty: [0.00639797]\nTime step 23: Utility 0.0629817729216153\nFairness penalty: [0.00574776]\nTime step 24: Utility 0.06801408106394859\nFairness penalty: [0.00625974]\nTime step 25: Utility 0.056312770403565464\nFairness penalty: [0.00676581]\nTime step 26: Utility 0.06291603730496703\nFairness penalty: [0.00563488]\nTime step 27: Utility 0.062248285925427325\nFairness penalty: [0.00448249]\nTime step 28: Utility 0.06417187731485868\nFairness penalty: [0.00515332]\nTime step 29: Utility 0.06554071723198551\nFairness penalty: [0.00916932]\nTime step 30: Utility 0.06463571507162481\nFairness penalty: [0.00686873]\nTime step 31: Utility 0.0662922325401699\nFairness penalty: [0.00600863]\nTime step 32: Utility 0.07506992859492746\nFairness penalty: [0.00491507]\nTime step 33: Utility 0.06347635038846317\nFairness penalty: [0.00214336]\nTime step 34: Utility 0.07012232206202436\nFairness penalty: [0.00652017]\nTime step 35: Utility 0.06223152169322321\nFairness penalty: [0.00217466]\nTime step 36: Utility 0.07710407205272156\nFairness penalty: [0.00359024]\nTime step 37: Utility 0.06764181317342279\nFairness penalty: [0.00310535]\nTime step 38: Utility 0.0780512623137587\nFairness penalty: [0.00216454]\nTime step 39: Utility 0.07768264085647253\nFairness penalty: [0.0771637]\nTime step 40: Utility -0.003960954372997766\nFairness penalty: [0.0090603]\nTime step 41: Utility 0.060048841659552335\nFairness penalty: [0.01249551]\nTime step 42: Utility 0.06174489234425179\nFairness penalty: [0.00324117]\nTime step 43: Utility 0.06226812486367244\nFairness penalty: [0.00193859]\nTime step 44: Utility 0.06312205054097275\nFairness penalty: [0.00418918]\nTime step 45: Utility 0.06753329015779544\nFairness penalty: [0.00343765]\nTime step 46: Utility 0.06923950233046941\nFairness penalty: [0.00777859]\nTime step 47: Utility 0.06356433718233817\nFairness penalty: [0.00324132]\nTime step 48: Utility 0.0669440863840225\nFairness penalty: [0.00699882]\nTime step 49: Utility 0.06427260297660793\nFairness penalty: [0.01181116]\nTime step 50: Utility 0.059530878722145214\nFairness penalty: [0.00298475]\nTime step 51: Utility 0.07626485958400585\nFairness penalty: [0.0199077]\nTime step 52: Utility 0.04613167751611046\nFairness penalty: [0.00216629]\nTime step 53: Utility 0.0749256335916099\nFairness penalty: [0.00680007]\nTime step 54: Utility 0.06614345611336821\nFairness penalty: [0.0097625]\nTime step 55: Utility 0.06683946559968894\nFairness penalty: [0.00259376]\nTime step 56: Utility 0.07374071601698917\nFairness penalty: [0.00618834]\nTime step 57: Utility 0.07160737761040474\nFairness penalty: [0.00226577]\nTime step 58: Utility 0.0611557445974505\nFairness penalty: [0.00255748]\nTime step 59: Utility 0.06427904834440874\nFairness penalty: [0.00278979]\nTime step 60: Utility 0.06774856857882702\nFairness penalty: [0.02966831]\nTime step 61: Utility 0.04250794239190332\nFairness penalty: [0.00766775]\nTime step 62: Utility 0.06580765772125353\nFairness penalty: [0.00441531]\nTime step 63: Utility 0.07316790369961669\nFairness penalty: [0.01238282]\nTime step 64: Utility 0.06881439139835437\nFairness penalty: [0.01965791]\nTime step 65: Utility 0.0429707480160666\nFairness penalty: [0.00297684]\nTime step 66: Utility 0.06676988123486323\nFairness penalty: [0.00392551]\nTime step 67: Utility 0.0780796096590704\nFairness penalty: [0.06709182]\nTime step 68: Utility 0.005490329243011274\nFairness penalty: [0.00772287]\nTime step 69: Utility 0.06682746062449188\nFairness penalty: [0.00459009]\nTime step 70: Utility 0.07001886724802035\nFairness penalty: [0.00813909]\nTime step 71: Utility 0.06717323929418356\nFairness penalty: [0.00294539]\nTime step 72: Utility 0.07465552827298995\nFairness penalty: [0.0031152]\nTime step 73: Utility 0.0786913616506971\nFairness penalty: [0.00263405]\nTime step 74: Utility 0.06455553922789806\nFairness penalty: [0.01683333]\nTime step 75: Utility 0.06436302433053585\nFairness penalty: [0.00597665]\nTime step 76: Utility 0.07273097341006468\nFairness penalty: [0.00300865]\nTime step 77: Utility 0.06636222836722087\nFairness penalty: [0.00691012]\nTime step 78: Utility 0.0618804071750783\nFairness penalty: [0.00241129]\nTime step 79: Utility 0.07903688138718439\nFairness penalty: [0.00702993]\nTime step 80: Utility 0.07007469874141643\nFairness penalty: [0.00947467]\nTime step 81: Utility 0.0657220775973337\nFairness penalty: [0.00313666]\nTime step 82: Utility 0.07134139342125935\nFairness penalty: [0.00205776]\nTime step 83: Utility 0.07150707275290626\nFairness penalty: [0.00227635]\nTime step 84: Utility 0.06664631976424912\nFairness penalty: [0.00202459]\nTime step 85: Utility 0.07350944541105428\nFairness penalty: [0.00233535]\nTime step 86: Utility 0.0729719729877985\nFairness penalty: [0.00360384]\nTime step 87: Utility 0.06815733781886829\nFairness penalty: [0.01641413]\nTime step 88: Utility 0.06262766966978199\nFairness penalty: [0.01498381]\nTime step 89: Utility 0.05267033018571963\nFairness penalty: [0.00255458]\nTime step 90: Utility 0.06832895773684539\nFairness penalty: [0.00631618]\nTime step 91: Utility 0.07350778738177385\nFairness penalty: [0.00143567]\nTime step 92: Utility 0.06880322419765242\nFairness penalty: [0.07527426]\nTime step 93: Utility -0.004405099814460009\nFairness penalty: [0.00172417]\nTime step 94: Utility 0.07786725888299405\nFairness penalty: [0.0058943]\nTime step 95: Utility 0.070128975249684\nFairness penalty: [0.00151095]\nTime step 96: Utility 0.0703677788176699\nFairness penalty: [0.00881764]\nTime step 97: Utility 0.05813388595090178\nFairness penalty: [0.00200846]\nTime step 98: Utility 0.07280585480360666\nFairness penalty: [0.04723036]\nTime step 99: Utility 0.03302140723250633\nFairness penalty: [0.00354193]\nTime step 100: Utility 0.0744890912088468\nFairness penalty: [0.00406758]\nTime step 101: Utility 0.07033917580044582\nFairness penalty: [0.00687295]\nTime step 102: Utility 0.06624075394746894\nFairness penalty: [0.00293817]\nTime step 103: Utility 0.07561895928993792\nFairness penalty: [0.0014112]\nTime step 104: Utility 0.07064186040407942\nFairness penalty: [0.00855901]\nTime step 105: Utility 0.06535059580129018\nFairness penalty: [0.00376712]\nTime step 106: Utility 0.075458701852221\nFairness penalty: [0.00492762]\nTime step 107: Utility 0.07191510905980539\nFairness penalty: [0.00286258]\nTime step 108: Utility 0.07069264357622922\nFairness penalty: [0.0028859]\nTime step 109: Utility 0.0626225136565336\nFairness penalty: [0.00222833]\nTime step 110: Utility 0.07201450104500202\nFairness penalty: [0.00636152]\nTime step 111: Utility 0.07051217381135674\nFairness penalty: [0.01271606]\nTime step 112: Utility 0.05981119397664597\nFairness penalty: [0.00313437]\nTime step 113: Utility 0.0765543900818685\nFairness penalty: [0.00191531]\nTime step 114: Utility 0.07108256855179677\nFairness penalty: [0.02449785]\nTime step 115: Utility 0.04788438876792996\nFairness penalty: [0.00248466]\nTime step 116: Utility 0.07162140837905623\nFairness penalty: [0.00202848]\nTime step 117: Utility 0.06860984717432739\nFairness penalty: [0.00362268]\nTime step 118: Utility 0.07209064631785025\nFairness penalty: [0.0023416]\nTime step 119: Utility 0.07877456972010453\nFairness penalty: [0.00341289]\nTime step 120: Utility 0.08074213392250096\nFairness penalty: [0.00279535]\nTime step 121: Utility 0.07088051488803962\nFairness penalty: [0.00788846]\nTime step 122: Utility 0.06994318885613998\nFairness penalty: [0.02041046]\nTime step 123: Utility 0.051934081651901144\nFairness penalty: [4.83752771]\nTime step 124: Utility -4.76205675431079\nFairness penalty: [0.00176381]\nTime step 125: Utility 0.07098729477867614\nFairness penalty: [0.00294195]\nTime step 126: Utility 0.06962532666533643\nFairness penalty: [0.00577424]\nTime step 127: Utility 0.07060555011246043\nFairness penalty: [0.01706155]\nTime step 128: Utility 0.05406865123603814\nFairness penalty: [0.00355297]\nTime step 129: Utility 0.07401843480949317\nFairness penalty: [0.00238178]\nTime step 130: Utility 0.07217543655568126\nFairness penalty: [0.00276602]\nTime step 131: Utility 0.07398049638057198\nFairness penalty: [0.00293778]\nTime step 132: Utility 0.07181437173944726\nFairness penalty: [0.00300258]\nTime step 133: Utility 0.07106420712882733\nFairness penalty: [0.00547985]\nTime step 134: Utility 0.07236038116710083\nFairness penalty: [0.00477983]\nTime step 135: Utility 0.05978983299118783\nFairness penalty: [0.00207133]\nTime step 136: Utility 0.07879270454387244\nFairness penalty: [0.00152608]\nTime step 137: Utility 0.07429475588781768\nFairness penalty: [0.00115315]\nTime step 138: Utility 0.07259369482854659\nFairness penalty: [0.00515387]\nTime step 139: Utility 0.0742407901726343\nFairness penalty: [0.00215748]\nTime step 140: Utility 0.07153373689801154\nFairness penalty: [0.0024663]\nTime step 141: Utility 0.06877467546226695\nFairness penalty: [0.00508674]\nTime step 142: Utility 0.0671968111948492\nFairness penalty: [0.00300886]\nTime step 143: Utility 0.07509580177130723\nFairness penalty: [0.00264874]\nTime step 144: Utility 0.07616249544655838\nFairness penalty: [0.00163745]\nTime step 145: Utility 0.0693439835657109\nFairness penalty: [0.00414699]\nTime step 146: Utility 0.06734729620537426\nFairness penalty: [0.00197157]\nTime step 147: Utility 0.06915613825466892\nFairness penalty: [0.00213064]\nTime step 148: Utility 0.06689015441843717\nFairness penalty: [0.00210708]\nTime step 149: Utility 0.06788501220703842\nFairness penalty: [0.002437]\nTime step 150: Utility 0.07798044124540233\nFairness penalty: [0.00293147]\nTime step 151: Utility 0.07371539030712183\nFairness penalty: [0.00099202]\nTime step 152: Utility 0.07932257763742988\nFairness penalty: [0.00354276]\nTime step 153: Utility 0.07290450039136287\nFairness penalty: [0.00197669]\nTime step 154: Utility 0.07002997829808552\nFairness penalty: [0.01043194]\nTime step 155: Utility 0.06275549614001633\nFairness penalty: [0.00139145]\nTime step 156: Utility 0.07004462536657997\nFairness penalty: [0.00260002]\nTime step 157: Utility 0.07624741112591785\nFairness penalty: [0.00171394]\nTime step 158: Utility 0.07391777573010065\nFairness penalty: [0.13832001]\nTime step 159: Utility -0.06005885064743917\nFairness penalty: [0.00113462]\nTime step 160: Utility 0.07760710022356276\nFairness penalty: [0.00471712]\nTime step 161: Utility 0.0692508641317033\nFairness penalty: [0.00283853]\nTime step 162: Utility 0.06773154329560356\nFairness penalty: [0.00239099]\nTime step 163: Utility 0.08219255991352248\nFairness penalty: [0.00277776]\nTime step 164: Utility 0.07299509452393192\nFairness penalty: [0.00285115]\nTime step 165: Utility 0.06378894982394685\nFairness penalty: [0.00347944]\nTime step 166: Utility 0.08192399588674301\nFairness penalty: [0.0013312]\nTime step 167: Utility 0.07194201726000839\nFairness penalty: [0.00237852]\nTime step 168: Utility 0.07506976354561551\nFairness penalty: [0.00235124]\nTime step 169: Utility 0.06866171952200578\nFairness penalty: [0.01687709]\nTime step 170: Utility 0.05863867948492824\nFairness penalty: [0.00128056]\nTime step 171: Utility 0.07426987191664353\nFairness penalty: [0.00471234]\nTime step 172: Utility 0.07081790592698896\nFairness penalty: [0.00143039]\nTime step 173: Utility 0.07107829753728255\nFairness penalty: [0.01822711]\nTime step 174: Utility 0.0634481453083148\nFairness penalty: [0.00137905]\nTime step 175: Utility 0.07199774401293879\nFairness penalty: [0.00336372]\nTime step 176: Utility 0.0706233919684256\nFairness penalty: [0.00149899]\nTime step 177: Utility 0.07371874928770294\nFairness penalty: [0.02577485]\nTime step 178: Utility 0.05102120453153523\nFairness penalty: [0.00492482]\nTime step 179: Utility 0.07386123608924361\nFairness penalty: [0.00189356]\nTime step 180: Utility 0.07499730644617807\nFairness penalty: [0.00139678]\nTime step 181: Utility 0.07384245335598677\nFairness penalty: [0.00794359]\nTime step 182: Utility 0.06480570097068664\nFairness penalty: [0.00142079]\nTime step 183: Utility 0.07486219135058214\nFairness penalty: [0.00474892]\nTime step 184: Utility 0.06570441965886765\nFairness penalty: [0.00129905]\nTime step 185: Utility 0.06111719422006747\nFairness penalty: [0.00134208]\nTime step 186: Utility 0.07673155665291775\nFairness penalty: [0.00299648]\nTime step 187: Utility 0.07374770538033962\nFairness penalty: [0.00098795]\nTime step 188: Utility 0.0697158984170029\nFairness penalty: [0.02279146]\nTime step 189: Utility 0.05240439462683371\nFairness penalty: [0.00101732]\nTime step 190: Utility 0.07368715798192586\nFairness penalty: [0.00429795]\nTime step 191: Utility 0.07197893784268442\nFairness penalty: [0.00377735]\nTime step 192: Utility 0.06869262901750108\nFairness penalty: [0.00265044]\nTime step 193: Utility 0.07118916571542007\nFairness penalty: [0.00273649]\nTime step 194: Utility 0.06652190004126071\nFairness penalty: [0.01140215]\nTime step 195: Utility 0.05470475494815122\nFairness penalty: [0.0031307]\nTime step 196: Utility 0.06606174757997446\nFairness penalty: [0.00382625]\nTime step 197: Utility 0.06969453562822063\nFairness penalty: [0.00270665]\nTime step 198: Utility 0.06975664438006643\nFairness penalty: [0.00296395]\nTime step 199: Utility 0.0723048671171548\nFairness penalty: [0.00392663]\nTime step 200: Utility 0.06736723888798588\n"
    }
   ],
   "source": [
    "i = 1\n",
    "for utility, benefit_delta in train(**training_parameters, fairness_function=fairness_function):\n",
    "    print(\"Time step {}: Utility {} \\n\\t Benefit Delta {}\".format(i, utility, benefit_delta))\n",
    "    i += 1"
   ]
  },
  {
   "cell_type": "code",
   "metadata": {},
   "outputs": [],
   "source": []
  }
 ]
}