{
 "cells": [
  {
   "cell_type": "markdown",
   "execution_count": null,
   "metadata": {},
   "outputs": [],
   "source": [
    "# Implementation of a comparison of German Credit data across all fairness functions"
   ]
  },
  {
   "cell_type": "code",
   "execution_count": 2,
   "metadata": {},
   "outputs": [
    {
     "name": "stderr",
     "output_type": "stream",
     "text": [
      "/home/fkretschmar/Documents/master-thesis/src/plotting.py:10: UserWarning: \n",
      "This call to matplotlib.use() has no effect because the backend has already\n",
      "been chosen; matplotlib.use() must be called *before* pylab, matplotlib.pyplot,\n",
      "or matplotlib.backends is imported for the first time.\n",
      "\n",
      "The backend was *originally* set to 'module://ipykernel.pylab.backend_inline' by the following code:\n",
      "  File \"/home/fkretschmar/miniconda3/envs/masters-thesis/lib/python3.7/runpy.py\", line 193, in _run_module_as_main\n",
      "    \"__main__\", mod_spec)\n",
      "  File \"/home/fkretschmar/miniconda3/envs/masters-thesis/lib/python3.7/runpy.py\", line 85, in _run_code\n",
      "    exec(code, run_globals)\n",
      "  File \"/home/fkretschmar/miniconda3/envs/masters-thesis/lib/python3.7/site-packages/ipykernel_launcher.py\", line 16, in <module>\n",
      "    app.launch_new_instance()\n",
      "  File \"/home/fkretschmar/miniconda3/envs/masters-thesis/lib/python3.7/site-packages/traitlets/config/application.py\", line 664, in launch_instance\n",
      "    app.start()\n",
      "  File \"/home/fkretschmar/miniconda3/envs/masters-thesis/lib/python3.7/site-packages/ipykernel/kernelapp.py\", line 583, in start\n",
      "    self.io_loop.start()\n",
      "  File \"/home/fkretschmar/miniconda3/envs/masters-thesis/lib/python3.7/site-packages/tornado/platform/asyncio.py\", line 153, in start\n",
      "    self.asyncio_loop.run_forever()\n",
      "  File \"/home/fkretschmar/miniconda3/envs/masters-thesis/lib/python3.7/asyncio/base_events.py\", line 538, in run_forever\n",
      "    self._run_once()\n",
      "  File \"/home/fkretschmar/miniconda3/envs/masters-thesis/lib/python3.7/asyncio/base_events.py\", line 1782, in _run_once\n",
      "    handle._run()\n",
      "  File \"/home/fkretschmar/miniconda3/envs/masters-thesis/lib/python3.7/asyncio/events.py\", line 88, in _run\n",
      "    self._context.run(self._callback, *self._args)\n",
      "  File \"/home/fkretschmar/miniconda3/envs/masters-thesis/lib/python3.7/site-packages/tornado/ioloop.py\", line 690, in <lambda>\n",
      "    lambda f: self._run_callback(functools.partial(callback, future))\n",
      "  File \"/home/fkretschmar/miniconda3/envs/masters-thesis/lib/python3.7/site-packages/tornado/ioloop.py\", line 743, in _run_callback\n",
      "    ret = callback()\n",
      "  File \"/home/fkretschmar/miniconda3/envs/masters-thesis/lib/python3.7/site-packages/tornado/gen.py\", line 787, in inner\n",
      "    self.run()\n",
      "  File \"/home/fkretschmar/miniconda3/envs/masters-thesis/lib/python3.7/site-packages/tornado/gen.py\", line 748, in run\n",
      "    yielded = self.gen.send(value)\n",
      "  File \"/home/fkretschmar/miniconda3/envs/masters-thesis/lib/python3.7/site-packages/ipykernel/kernelbase.py\", line 361, in process_one\n",
      "    yield gen.maybe_future(dispatch(*args))\n",
      "  File \"/home/fkretschmar/miniconda3/envs/masters-thesis/lib/python3.7/site-packages/tornado/gen.py\", line 209, in wrapper\n",
      "    yielded = next(result)\n",
      "  File \"/home/fkretschmar/miniconda3/envs/masters-thesis/lib/python3.7/site-packages/ipykernel/kernelbase.py\", line 268, in dispatch_shell\n",
      "    yield gen.maybe_future(handler(stream, idents, msg))\n",
      "  File \"/home/fkretschmar/miniconda3/envs/masters-thesis/lib/python3.7/site-packages/tornado/gen.py\", line 209, in wrapper\n",
      "    yielded = next(result)\n",
      "  File \"/home/fkretschmar/miniconda3/envs/masters-thesis/lib/python3.7/site-packages/ipykernel/kernelbase.py\", line 541, in execute_request\n",
      "    user_expressions, allow_stdin,\n",
      "  File \"/home/fkretschmar/miniconda3/envs/masters-thesis/lib/python3.7/site-packages/tornado/gen.py\", line 209, in wrapper\n",
      "    yielded = next(result)\n",
      "  File \"/home/fkretschmar/miniconda3/envs/masters-thesis/lib/python3.7/site-packages/ipykernel/ipkernel.py\", line 300, in do_execute\n",
      "    res = shell.run_cell(code, store_history=store_history, silent=silent)\n",
      "  File \"/home/fkretschmar/miniconda3/envs/masters-thesis/lib/python3.7/site-packages/ipykernel/zmqshell.py\", line 536, in run_cell\n",
      "    return super(ZMQInteractiveShell, self).run_cell(*args, **kwargs)\n",
      "  File \"/home/fkretschmar/miniconda3/envs/masters-thesis/lib/python3.7/site-packages/IPython/core/interactiveshell.py\", line 2862, in run_cell\n",
      "    self.events.trigger('post_run_cell', result)\n",
      "  File \"/home/fkretschmar/miniconda3/envs/masters-thesis/lib/python3.7/site-packages/IPython/core/events.py\", line 88, in trigger\n",
      "    func(*args, **kwargs)\n",
      "  File \"/home/fkretschmar/miniconda3/envs/masters-thesis/lib/python3.7/site-packages/ipykernel/pylab/backend_inline.py\", line 168, in configure_once\n",
      "    activate_matplotlib(backend)\n",
      "  File \"/home/fkretschmar/miniconda3/envs/masters-thesis/lib/python3.7/site-packages/IPython/core/pylabtools.py\", line 322, in activate_matplotlib\n",
      "    plt.switch_backend(backend)\n",
      "  File \"/home/fkretschmar/miniconda3/envs/masters-thesis/lib/python3.7/site-packages/matplotlib/pyplot.py\", line 231, in switch_backend\n",
      "    matplotlib.use(newbackend, warn=False, force=True)\n",
      "  File \"/home/fkretschmar/miniconda3/envs/masters-thesis/lib/python3.7/site-packages/matplotlib/__init__.py\", line 1425, in use\n",
      "    reload(sys.modules['matplotlib.backends'])\n",
      "  File \"/home/fkretschmar/miniconda3/envs/masters-thesis/lib/python3.7/importlib/__init__.py\", line 169, in reload\n",
      "    _bootstrap._exec(spec, module)\n",
      "  File \"/home/fkretschmar/miniconda3/envs/masters-thesis/lib/python3.7/site-packages/matplotlib/backends/__init__.py\", line 17, in <module>\n",
      "    line for line in traceback.format_stack()\n",
      "\n",
      "\n",
      "  matplotlib.use('Agg')\n",
      "unable to import 'smart_open.gcs', disabling that module\n"
     ]
    }
   ],
   "source": [
    "import os\n",
    "import sys\n",
    "module_path = os.path.abspath(os.path.join('..'))\n",
    "\n",
    "if module_path not in sys.path:\n",
    "    sys.path.append(module_path)\n",
    "\n",
    "import numpy as np\n",
    "from src.util import mean_difference\n",
    "from src.feature_map import IdentityFeatureMap\n",
    "from src.functions import cost_utility\n",
    "from src.plotting import plot_mean, plot_median\n",
    "from src.training import train\n",
    "from src.distribution import GermanCreditDistribution"
   ]
  },
  {
   "cell_type": "markdown",
   "execution_count": null,
   "metadata": {},
   "outputs": [],
   "source": [
    "## Benefit Difference"
   ]
  },
  {
   "cell_type": "code",
   "execution_count": 3,
   "metadata": {},
   "outputs": [
    {
     "name": "stdout",
     "output_type": "stream",
     "text": [
      "3\n"
     ]
    },
    {
     "name": "stderr",
     "output_type": "stream",
     "text": [
      "/home/fkretschmar/miniconda3/envs/masters-thesis/lib/python3.7/site-packages/responsibly/dataset/german/__init__.py:85: FutureWarning: Columnar iteration over characters will be deprecated in future releases.\n"
     ]
    }
   ],
   "source": [
    "def calc_benefit(decisions, y, ips_weights):\n",
    "    if ips_weights is not None:\n",
    "        decisions *= ips_weights\n",
    "\n",
    "    return decisions\n",
    "\n",
    "def fairness_gradient_function(**fairness_kwargs):\n",
    "    policy = fairness_kwargs[\"policy\"]\n",
    "    x = fairness_kwargs[\"x\"]\n",
    "    s = fairness_kwargs[\"s\"]\n",
    "    y = fairness_kwargs[\"y\"]\n",
    "    decisions = fairness_kwargs[\"decisions\"]\n",
    "    ips_weights = fairness_kwargs[\"ips_weights\"]\n",
    "    benefit = calc_benefit(decisions, y, ips_weights)\n",
    "\n",
    "    log_gradient = policy.log_policy_gradient(x, s)\n",
    "    benefit_grad = log_gradient * benefit\n",
    "        \n",
    "    return mean_difference(benefit_grad, s)\n",
    "\n",
    "def fairness_function(**fairness_kwargs):\n",
    "    s = fairness_kwargs[\"s\"]\n",
    "    y = fairness_kwargs[\"y\"]\n",
    "    decisions = fairness_kwargs[\"decisions\"]\n",
    "    ips_weights = fairness_kwargs[\"ips_weights\"]\n",
    "    benefit = calc_benefit(decisions, y, ips_weights)\n",
    "        \n",
    "    return mean_difference(benefit, s)\n",
    "\n",
    "bias = True\n",
    "distribution = GermanCreditDistribution(bias=bias, test_percentage=0.2)\n",
    "dim_theta = distribution.feature_dim\n",
    "\n",
    "print(dim_theta)\n",
    "\n",
    "def util_func(**util_params):\n",
    "    util = cost_utility(cost_factor=0.8, **util_params)\n",
    "    return util\n",
    "\n",
    "training_parameters = {\n",
    "    'model':{\n",
    "        'utility_function': util_func,\n",
    "        'fairness_function': fairness_function,\n",
    "        'fairness_gradient_function': fairness_gradient_function,\n",
    "        'feature_map': IdentityFeatureMap(dim_theta),\n",
    "        'learn_on_entire_history': False,\n",
    "        'use_sensitve_attributes': False,\n",
    "        'bias': bias,\n",
    "        'initial_theta': np.zeros((dim_theta))\n",
    "    },\n",
    "    'distribution': distribution,\n",
    "    'parameter_optimization': {\n",
    "        'time_steps':50,\n",
    "        'epochs': 1,\n",
    "        'batch_size':64,\n",
    "        'learning_rate': 0.0001,\n",
    "        'decay_rate': 1,\n",
    "        'decay_step': 10000,\n",
    "        'num_batches': 32,\n",
    "        'fix_seeds': True\n",
    "    },\n",
    "    'test': {\n",
    "        'num_samples': 500\n",
    "    }\n",
    "}"
   ]
  },
  {
   "cell_type": "code",
   "execution_count": 4,
   "metadata": {},
   "outputs": [
    {
     "name": "stdout",
     "output_type": "stream",
     "text": [
      "## STARTED Single training run // LR = 0.0001 // TS = 50 // E = 1 // BS = 64 // NB = 32 ##\n"
     ]
    },
    {
     "ename": "KeyboardInterrupt",
     "evalue": "",
     "output_type": "error",
     "traceback": [
      "\u001B[0;31m---------------------------------------------------------------------------\u001B[0m",
      "\u001B[0;31mKeyboardInterrupt\u001B[0m                         Traceback (most recent call last)",
      "\u001B[0;32m<ipython-input-4-d19fd32e1f6c>\u001B[0m in \u001B[0;36m<module>\u001B[0;34m\u001B[0m\n\u001B[1;32m      6\u001B[0m \u001B[0mtraining_parameters\u001B[0m\u001B[0;34m[\u001B[0m\u001B[0;34m\"model\"\u001B[0m\u001B[0;34m]\u001B[0m\u001B[0;34m[\u001B[0m\u001B[0;34m\"initial_lambda\"\u001B[0m\u001B[0;34m]\u001B[0m \u001B[0;34m=\u001B[0m \u001B[0;36m0.0\u001B[0m\u001B[0;34m\u001B[0m\u001B[0;34m\u001B[0m\u001B[0m\n\u001B[1;32m      7\u001B[0m \u001B[0;34m\u001B[0m\u001B[0m\n\u001B[0;32m----> 8\u001B[0;31m \u001B[0mstatistics\u001B[0m\u001B[0;34m,\u001B[0m \u001B[0m_\u001B[0m\u001B[0;34m,\u001B[0m \u001B[0mrun_path\u001B[0m \u001B[0;34m=\u001B[0m \u001B[0mtrain\u001B[0m\u001B[0;34m(\u001B[0m\u001B[0mtraining_parameters\u001B[0m\u001B[0;34m,\u001B[0m \u001B[0miterations\u001B[0m\u001B[0;34m=\u001B[0m\u001B[0;36m1\u001B[0m\u001B[0;34m,\u001B[0m \u001B[0masynchronous\u001B[0m\u001B[0;34m=\u001B[0m\u001B[0;32mFalse\u001B[0m\u001B[0;34m)\u001B[0m\u001B[0;34m\u001B[0m\u001B[0;34m\u001B[0m\u001B[0m\n\u001B[0m\u001B[1;32m      9\u001B[0m \u001B[0;34m\u001B[0m\u001B[0m\n\u001B[1;32m     10\u001B[0m \u001B[0mplot_mean\u001B[0m\u001B[0;34m(\u001B[0m\u001B[0mstatistics\u001B[0m\u001B[0;34m,\u001B[0m \u001B[0;34m\"{}/results_mean_time.png\"\u001B[0m\u001B[0;34m.\u001B[0m\u001B[0mformat\u001B[0m\u001B[0;34m(\u001B[0m\u001B[0mrun_path\u001B[0m\u001B[0;34m)\u001B[0m\u001B[0;34m)\u001B[0m\u001B[0;34m\u001B[0m\u001B[0;34m\u001B[0m\u001B[0m\n",
      "\u001B[0;32m~/Documents/master-thesis/src/training.py\u001B[0m in \u001B[0;36mtrain\u001B[0;34m(training_parameters, iterations, asynchronous)\u001B[0m\n\u001B[1;32m    236\u001B[0m         overall_statistics, model_parameters = trainer.train_over_iterations(current_training_parameters,\n\u001B[1;32m    237\u001B[0m                                                                              \u001B[0mtraining_algorithm\u001B[0m\u001B[0;34m.\u001B[0m\u001B[0mtrain\u001B[0m\u001B[0;34m,\u001B[0m \u001B[0miterations\u001B[0m\u001B[0;34m,\u001B[0m\u001B[0;34m\u001B[0m\u001B[0;34m\u001B[0m\u001B[0m\n\u001B[0;32m--> 238\u001B[0;31m                                                                              asynchronous)\n\u001B[0m\u001B[1;32m    239\u001B[0m         \u001B[0mprint\u001B[0m\u001B[0;34m(\u001B[0m\u001B[0;34m\"## ENDED Single training run {} ##\"\u001B[0m\u001B[0;34m.\u001B[0m\u001B[0mformat\u001B[0m\u001B[0;34m(\u001B[0m\u001B[0minfo_string\u001B[0m\u001B[0;34m)\u001B[0m\u001B[0;34m)\u001B[0m\u001B[0;34m\u001B[0m\u001B[0;34m\u001B[0m\u001B[0m\n\u001B[1;32m    240\u001B[0m     \u001B[0;32melif\u001B[0m \u001B[0;32mnot\u001B[0m \u001B[0misinstance\u001B[0m\u001B[0;34m(\u001B[0m\u001B[0mcurrent_training_parameters\u001B[0m\u001B[0;34m[\u001B[0m\u001B[0;34m\"model\"\u001B[0m\u001B[0;34m]\u001B[0m\u001B[0;34m[\u001B[0m\u001B[0;34m\"initial_lambda\"\u001B[0m\u001B[0;34m]\u001B[0m\u001B[0;34m,\u001B[0m \u001B[0mnumbers\u001B[0m\u001B[0;34m.\u001B[0m\u001B[0mNumber\u001B[0m\u001B[0;34m)\u001B[0m\u001B[0;34m:\u001B[0m\u001B[0;34m\u001B[0m\u001B[0;34m\u001B[0m\u001B[0m\n",
      "\u001B[0;32m~/Documents/master-thesis/src/training.py\u001B[0m in \u001B[0;36mtrain_over_iterations\u001B[0;34m(self, training_parameters, training_method, iterations, asynchronous)\u001B[0m\n\u001B[1;32m    194\u001B[0m             \u001B[0mresults_per_iterations\u001B[0m \u001B[0;34m=\u001B[0m \u001B[0;34m[\u001B[0m\u001B[0;34m]\u001B[0m\u001B[0;34m\u001B[0m\u001B[0;34m\u001B[0m\u001B[0m\n\u001B[1;32m    195\u001B[0m             \u001B[0;32mfor\u001B[0m \u001B[0m_\u001B[0m \u001B[0;32min\u001B[0m \u001B[0mrange\u001B[0m\u001B[0;34m(\u001B[0m\u001B[0;36m0\u001B[0m\u001B[0;34m,\u001B[0m \u001B[0miterations\u001B[0m\u001B[0;34m)\u001B[0m\u001B[0;34m:\u001B[0m\u001B[0;34m\u001B[0m\u001B[0;34m\u001B[0m\u001B[0m\n\u001B[0;32m--> 196\u001B[0;31m                 \u001B[0mresults_per_iterations\u001B[0m\u001B[0;34m.\u001B[0m\u001B[0mappend\u001B[0m\u001B[0;34m(\u001B[0m\u001B[0mself\u001B[0m\u001B[0;34m.\u001B[0m\u001B[0m_training_iteration\u001B[0m\u001B[0;34m(\u001B[0m\u001B[0mtraining_parameters\u001B[0m\u001B[0;34m,\u001B[0m \u001B[0mtraining_method\u001B[0m\u001B[0;34m)\u001B[0m\u001B[0;34m)\u001B[0m\u001B[0;34m\u001B[0m\u001B[0;34m\u001B[0m\u001B[0m\n\u001B[0m\u001B[1;32m    197\u001B[0m \u001B[0;34m\u001B[0m\u001B[0m\n\u001B[1;32m    198\u001B[0m         \u001B[0mtotal_statistics\u001B[0m\u001B[0;34m,\u001B[0m \u001B[0mtotal_parameters\u001B[0m \u001B[0;34m=\u001B[0m \u001B[0m_process_results\u001B[0m\u001B[0;34m(\u001B[0m\u001B[0mresults_per_iterations\u001B[0m\u001B[0;34m)\u001B[0m\u001B[0;34m\u001B[0m\u001B[0;34m\u001B[0m\u001B[0m\n",
      "\u001B[0;32m~/Documents/master-thesis/src/training.py\u001B[0m in \u001B[0;36m_training_iteration\u001B[0;34m(self, training_parameters, training_method)\u001B[0m\n\u001B[1;32m    164\u001B[0m         \u001B[0mx_test\u001B[0m\u001B[0;34m,\u001B[0m \u001B[0ms_test\u001B[0m\u001B[0;34m,\u001B[0m \u001B[0my_test\u001B[0m \u001B[0;34m=\u001B[0m \u001B[0mtraining_parameters\u001B[0m\u001B[0;34m[\u001B[0m\u001B[0;34m\"test\"\u001B[0m\u001B[0;34m]\u001B[0m\u001B[0;34m\u001B[0m\u001B[0;34m\u001B[0m\u001B[0m\n\u001B[1;32m    165\u001B[0m \u001B[0;34m\u001B[0m\u001B[0m\n\u001B[0;32m--> 166\u001B[0;31m         \u001B[0;32mfor\u001B[0m \u001B[0mresults\u001B[0m\u001B[0;34m,\u001B[0m \u001B[0mmodel_parameters\u001B[0m \u001B[0;32min\u001B[0m \u001B[0mtraining_method\u001B[0m\u001B[0;34m(\u001B[0m\u001B[0mtraining_parameters\u001B[0m\u001B[0;34m)\u001B[0m\u001B[0;34m:\u001B[0m\u001B[0;34m\u001B[0m\u001B[0;34m\u001B[0m\u001B[0m\n\u001B[0m\u001B[1;32m    167\u001B[0m             \u001B[0mdecisions_over_time\u001B[0m\u001B[0;34m,\u001B[0m \u001B[0mfairness_over_time\u001B[0m\u001B[0;34m,\u001B[0m \u001B[0mutility_over_time\u001B[0m \u001B[0;34m=\u001B[0m \u001B[0mresults\u001B[0m\u001B[0;34m\u001B[0m\u001B[0;34m\u001B[0m\u001B[0m\n\u001B[1;32m    168\u001B[0m             statistics = Statistics.build(\n",
      "\u001B[0;32m~/Documents/master-thesis/src/consequential_learning.py\u001B[0m in \u001B[0;36mtrain\u001B[0;34m(self, training_parameters)\u001B[0m\n\u001B[1;32m    216\u001B[0m         \u001B[0moptimizer\u001B[0m \u001B[0;34m=\u001B[0m \u001B[0mpolicy\u001B[0m\u001B[0;34m.\u001B[0m\u001B[0moptimizer\u001B[0m\u001B[0;34m(\u001B[0m\u001B[0moptimization_target\u001B[0m\u001B[0;34m)\u001B[0m\u001B[0;34m\u001B[0m\u001B[0;34m\u001B[0m\u001B[0m\n\u001B[1;32m    217\u001B[0m \u001B[0;34m\u001B[0m\u001B[0m\n\u001B[0;32m--> 218\u001B[0;31m         \u001B[0;32myield\u001B[0m \u001B[0mself\u001B[0m\u001B[0;34m.\u001B[0m\u001B[0m_train_model_parameters\u001B[0m\u001B[0;34m(\u001B[0m\u001B[0mpolicy\u001B[0m\u001B[0;34m,\u001B[0m \u001B[0moptimizer\u001B[0m\u001B[0;34m,\u001B[0m \u001B[0mtraining_parameters\u001B[0m\u001B[0;34m)\u001B[0m\u001B[0;34m\u001B[0m\u001B[0;34m\u001B[0m\u001B[0m\n\u001B[0m\u001B[1;32m    219\u001B[0m \u001B[0;34m\u001B[0m\u001B[0m\n\u001B[1;32m    220\u001B[0m \u001B[0;34m\u001B[0m\u001B[0m\n",
      "\u001B[0;32m~/Documents/master-thesis/src/consequential_learning.py\u001B[0m in \u001B[0;36m_train_model_parameters\u001B[0;34m(self, policy, optimizer, training_parameters)\u001B[0m\n\u001B[1;32m    163\u001B[0m                         \u001B[0mepochs\u001B[0m\u001B[0;34m=\u001B[0m\u001B[0mtraining_parameters\u001B[0m\u001B[0;34m[\u001B[0m\u001B[0;34m\"parameter_optimization\"\u001B[0m\u001B[0;34m]\u001B[0m\u001B[0;34m[\u001B[0m\u001B[0;34m\"epochs\"\u001B[0m\u001B[0;34m]\u001B[0m\u001B[0;34m,\u001B[0m\u001B[0;34m\u001B[0m\u001B[0;34m\u001B[0m\u001B[0m\n\u001B[1;32m    164\u001B[0m                         batch_size=training_parameters[\"parameter_optimization\"][\"batch_size\"]):\n\u001B[0;32m--> 165\u001B[0;31m                     \u001B[0moptimizer\u001B[0m\u001B[0;34m.\u001B[0m\u001B[0mupdate_model_parameters\u001B[0m\u001B[0;34m(\u001B[0m\u001B[0mx\u001B[0m\u001B[0;34m,\u001B[0m \u001B[0ms\u001B[0m\u001B[0;34m,\u001B[0m \u001B[0my\u001B[0m\u001B[0;34m,\u001B[0m \u001B[0mtheta_learning_rate\u001B[0m\u001B[0;34m,\u001B[0m \u001B[0mips_weights_batch\u001B[0m\u001B[0;34m)\u001B[0m\u001B[0;34m\u001B[0m\u001B[0;34m\u001B[0m\u001B[0m\n\u001B[0m\u001B[1;32m    166\u001B[0m \u001B[0;34m\u001B[0m\u001B[0m\n\u001B[1;32m    167\u001B[0m             \u001B[0mdecisions\u001B[0m\u001B[0;34m,\u001B[0m \u001B[0mdecision_probabilities\u001B[0m \u001B[0;34m=\u001B[0m \u001B[0mpolicy\u001B[0m\u001B[0;34m(\u001B[0m\u001B[0mx_train\u001B[0m\u001B[0;34m,\u001B[0m \u001B[0ms_train\u001B[0m\u001B[0;34m)\u001B[0m\u001B[0;34m\u001B[0m\u001B[0;34m\u001B[0m\u001B[0m\n",
      "\u001B[0;32m~/Documents/master-thesis/src/optimization.py\u001B[0m in \u001B[0;36mupdate_model_parameters\u001B[0;34m(self, x, s, y, learning_rate, ips_weights)\u001B[0m\n\u001B[1;32m    298\u001B[0m         \u001B[0;31m# call the optimization target for gradient calculation\u001B[0m\u001B[0;34m\u001B[0m\u001B[0;34m\u001B[0m\u001B[0;34m\u001B[0m\u001B[0m\n\u001B[1;32m    299\u001B[0m         gradient = self.optimization_target.model_parameter_gradient(self.policy, x, s, y, decisions,\n\u001B[0;32m--> 300\u001B[0;31m                                                                      decision_probability, ips_weights)\n\u001B[0m\u001B[1;32m    301\u001B[0m         \u001B[0mself\u001B[0m\u001B[0;34m.\u001B[0m\u001B[0mpolicy\u001B[0m\u001B[0;34m.\u001B[0m\u001B[0mtheta\u001B[0m \u001B[0;34m-=\u001B[0m \u001B[0mlearning_rate\u001B[0m \u001B[0;34m*\u001B[0m \u001B[0mgradient\u001B[0m\u001B[0;34m\u001B[0m\u001B[0;34m\u001B[0m\u001B[0m\n\u001B[1;32m    302\u001B[0m \u001B[0;34m\u001B[0m\u001B[0m\n",
      "\u001B[0;32m~/Documents/master-thesis/src/optimization.py\u001B[0m in \u001B[0;36mmodel_parameter_gradient\u001B[0;34m(self, policy, x, s, y, decisions, decision_probabilities, ips_weights)\u001B[0m\n\u001B[1;32m    223\u001B[0m         parameters = OptimizationTarget._parameter_dictionary(x, s, y, decisions, decision_probabilities, ips_weights,\n\u001B[1;32m    224\u001B[0m                                                               policy)\n\u001B[0;32m--> 225\u001B[0;31m         \u001B[0mgradient\u001B[0m \u001B[0;34m=\u001B[0m \u001B[0;34m-\u001B[0m\u001B[0mself\u001B[0m\u001B[0;34m.\u001B[0m\u001B[0mutility_function\u001B[0m\u001B[0;34m.\u001B[0m\u001B[0mgradient\u001B[0m\u001B[0;34m(\u001B[0m\u001B[0;34m**\u001B[0m\u001B[0mparameters\u001B[0m\u001B[0;34m)\u001B[0m\u001B[0;34m\u001B[0m\u001B[0;34m\u001B[0m\u001B[0m\n\u001B[0m\u001B[1;32m    226\u001B[0m \u001B[0;34m\u001B[0m\u001B[0m\n\u001B[1;32m    227\u001B[0m         \u001B[0;32mif\u001B[0m \u001B[0mself\u001B[0m\u001B[0;34m.\u001B[0m\u001B[0mfairness_rate\u001B[0m \u001B[0;34m>\u001B[0m \u001B[0;36m0\u001B[0m\u001B[0;34m:\u001B[0m\u001B[0;34m\u001B[0m\u001B[0;34m\u001B[0m\u001B[0m\n",
      "\u001B[0;32m~/Documents/master-thesis/src/optimization.py\u001B[0m in \u001B[0;36mgradient\u001B[0;34m(self, **gradient_args)\u001B[0m\n\u001B[1;32m    159\u001B[0m         check_for_missing_kwargs(\"UtilityFunction()\", [\"x\", \"s\", \"y\", \"decisions\", \"decision_probabilities\", \"policy\"],\n\u001B[1;32m    160\u001B[0m                                  gradient_args)\n\u001B[0;32m--> 161\u001B[0;31m         \u001B[0mutility\u001B[0m \u001B[0;34m=\u001B[0m \u001B[0mself\u001B[0m\u001B[0;34m.\u001B[0m\u001B[0m_utility\u001B[0m\u001B[0;34m(\u001B[0m\u001B[0;34m**\u001B[0m\u001B[0mgradient_args\u001B[0m\u001B[0;34m)\u001B[0m\u001B[0;34m\u001B[0m\u001B[0;34m\u001B[0m\u001B[0m\n\u001B[0m\u001B[1;32m    162\u001B[0m \u001B[0;34m\u001B[0m\u001B[0m\n\u001B[1;32m    163\u001B[0m         \u001B[0mlog_policy_gradient\u001B[0m \u001B[0;34m=\u001B[0m \u001B[0mgradient_args\u001B[0m\u001B[0;34m[\u001B[0m\u001B[0;34m\"policy\"\u001B[0m\u001B[0;34m]\u001B[0m\u001B[0;34m.\u001B[0m\u001B[0mlog_policy_gradient\u001B[0m\u001B[0;34m(\u001B[0m\u001B[0mgradient_args\u001B[0m\u001B[0;34m[\u001B[0m\u001B[0;34m\"x\"\u001B[0m\u001B[0;34m]\u001B[0m\u001B[0;34m,\u001B[0m \u001B[0mgradient_args\u001B[0m\u001B[0;34m[\u001B[0m\u001B[0;34m\"s\"\u001B[0m\u001B[0;34m]\u001B[0m\u001B[0;34m)\u001B[0m\u001B[0;34m\u001B[0m\u001B[0;34m\u001B[0m\u001B[0m\n",
      "\u001B[0;32m~/Documents/master-thesis/src/optimization.py\u001B[0m in \u001B[0;36m_utility\u001B[0;34m(self, policy, x, s, y, decisions, decision_probabilities, ips_weights)\u001B[0m\n\u001B[1;32m    146\u001B[0m     \u001B[0;32mdef\u001B[0m \u001B[0m_utility\u001B[0m\u001B[0;34m(\u001B[0m\u001B[0mself\u001B[0m\u001B[0;34m,\u001B[0m \u001B[0mpolicy\u001B[0m\u001B[0;34m,\u001B[0m \u001B[0mx\u001B[0m\u001B[0;34m,\u001B[0m \u001B[0ms\u001B[0m\u001B[0;34m,\u001B[0m \u001B[0my\u001B[0m\u001B[0;34m,\u001B[0m \u001B[0mdecisions\u001B[0m\u001B[0;34m,\u001B[0m \u001B[0mdecision_probabilities\u001B[0m\u001B[0;34m,\u001B[0m \u001B[0mips_weights\u001B[0m\u001B[0;34m=\u001B[0m\u001B[0;32mNone\u001B[0m\u001B[0;34m)\u001B[0m\u001B[0;34m:\u001B[0m\u001B[0;34m\u001B[0m\u001B[0;34m\u001B[0m\u001B[0m\n\u001B[1;32m    147\u001B[0m         utility = self.function(x=x, s=s, y=y, decisions=decisions, decision_probabilities=decision_probabilities,\n\u001B[0;32m--> 148\u001B[0;31m                                 policy=policy)\n\u001B[0m\u001B[1;32m    149\u001B[0m         \u001B[0;32mif\u001B[0m \u001B[0mips_weights\u001B[0m \u001B[0;32mis\u001B[0m \u001B[0;32mnot\u001B[0m \u001B[0;32mNone\u001B[0m\u001B[0;34m:\u001B[0m\u001B[0;34m\u001B[0m\u001B[0;34m\u001B[0m\u001B[0m\n\u001B[1;32m    150\u001B[0m             \u001B[0mutility\u001B[0m \u001B[0;34m*=\u001B[0m \u001B[0mips_weights\u001B[0m\u001B[0;34m\u001B[0m\u001B[0;34m\u001B[0m\u001B[0m\n",
      "\u001B[0;32m<ipython-input-3-073b6050d0cb>\u001B[0m in \u001B[0;36mutil_func\u001B[0;34m(**util_params)\u001B[0m\n\u001B[1;32m     35\u001B[0m \u001B[0;34m\u001B[0m\u001B[0m\n\u001B[1;32m     36\u001B[0m \u001B[0;32mdef\u001B[0m \u001B[0mutil_func\u001B[0m\u001B[0;34m(\u001B[0m\u001B[0;34m**\u001B[0m\u001B[0mutil_params\u001B[0m\u001B[0;34m)\u001B[0m\u001B[0;34m:\u001B[0m\u001B[0;34m\u001B[0m\u001B[0;34m\u001B[0m\u001B[0m\n\u001B[0;32m---> 37\u001B[0;31m     \u001B[0mutil\u001B[0m \u001B[0;34m=\u001B[0m \u001B[0mcost_utility\u001B[0m\u001B[0;34m(\u001B[0m\u001B[0mcost_factor\u001B[0m\u001B[0;34m=\u001B[0m\u001B[0;36m0.8\u001B[0m\u001B[0;34m,\u001B[0m \u001B[0;34m**\u001B[0m\u001B[0mutil_params\u001B[0m\u001B[0;34m)\u001B[0m\u001B[0;34m\u001B[0m\u001B[0;34m\u001B[0m\u001B[0m\n\u001B[0m\u001B[1;32m     38\u001B[0m     \u001B[0;32mreturn\u001B[0m \u001B[0mutil\u001B[0m\u001B[0;34m\u001B[0m\u001B[0;34m\u001B[0m\u001B[0m\n\u001B[1;32m     39\u001B[0m \u001B[0;34m\u001B[0m\u001B[0m\n",
      "\u001B[0;32m~/Documents/master-thesis/src/functions.py\u001B[0m in \u001B[0;36mcost_utility\u001B[0;34m(cost_factor, **utility_parameters)\u001B[0m\n\u001B[1;32m     28\u001B[0m     \u001B[0my\u001B[0m \u001B[0;34m=\u001B[0m \u001B[0mutility_parameters\u001B[0m\u001B[0;34m[\u001B[0m\u001B[0;34m\"y\"\u001B[0m\u001B[0;34m]\u001B[0m\u001B[0;34m\u001B[0m\u001B[0;34m\u001B[0m\u001B[0m\n\u001B[1;32m     29\u001B[0m \u001B[0;34m\u001B[0m\u001B[0m\n\u001B[0;32m---> 30\u001B[0;31m     \u001B[0;32mreturn\u001B[0m \u001B[0mdecisions\u001B[0m \u001B[0;34m*\u001B[0m \u001B[0;34m(\u001B[0m\u001B[0my\u001B[0m \u001B[0;34m-\u001B[0m \u001B[0mcost_factor\u001B[0m\u001B[0;34m)\u001B[0m\u001B[0;34m\u001B[0m\u001B[0;34m\u001B[0m\u001B[0m\n\u001B[0m\u001B[1;32m     31\u001B[0m \u001B[0;34m\u001B[0m\u001B[0m\n\u001B[1;32m     32\u001B[0m \u001B[0;34m\u001B[0m\u001B[0m\n",
      "\u001B[0;32m~/Documents/master-thesis/src/functions.py\u001B[0m in \u001B[0;36mcost_utility\u001B[0;34m(cost_factor, **utility_parameters)\u001B[0m\n\u001B[1;32m     28\u001B[0m     \u001B[0my\u001B[0m \u001B[0;34m=\u001B[0m \u001B[0mutility_parameters\u001B[0m\u001B[0;34m[\u001B[0m\u001B[0;34m\"y\"\u001B[0m\u001B[0;34m]\u001B[0m\u001B[0;34m\u001B[0m\u001B[0;34m\u001B[0m\u001B[0m\n\u001B[1;32m     29\u001B[0m \u001B[0;34m\u001B[0m\u001B[0m\n\u001B[0;32m---> 30\u001B[0;31m     \u001B[0;32mreturn\u001B[0m \u001B[0mdecisions\u001B[0m \u001B[0;34m*\u001B[0m \u001B[0;34m(\u001B[0m\u001B[0my\u001B[0m \u001B[0;34m-\u001B[0m \u001B[0mcost_factor\u001B[0m\u001B[0;34m)\u001B[0m\u001B[0;34m\u001B[0m\u001B[0;34m\u001B[0m\u001B[0m\n\u001B[0m\u001B[1;32m     31\u001B[0m \u001B[0;34m\u001B[0m\u001B[0m\n\u001B[1;32m     32\u001B[0m \u001B[0;34m\u001B[0m\u001B[0m\n",
      "\u001B[0;32m~/pycharm/plugins/python/helpers/pydev/_pydevd_bundle/pydevd_frame.py\u001B[0m in \u001B[0;36mtrace_dispatch\u001B[0;34m(self, frame, event, arg)\u001B[0m\n\u001B[1;32m    719\u001B[0m                 \u001B[0;31m# if thread has a suspend flag, we suspend with a busy wait\u001B[0m\u001B[0;34m\u001B[0m\u001B[0;34m\u001B[0m\u001B[0;34m\u001B[0m\u001B[0m\n\u001B[1;32m    720\u001B[0m                 \u001B[0;32mif\u001B[0m \u001B[0minfo\u001B[0m\u001B[0;34m.\u001B[0m\u001B[0mpydev_state\u001B[0m \u001B[0;34m==\u001B[0m \u001B[0mSTATE_SUSPEND\u001B[0m\u001B[0;34m:\u001B[0m\u001B[0;34m\u001B[0m\u001B[0;34m\u001B[0m\u001B[0m\n\u001B[0;32m--> 721\u001B[0;31m                     \u001B[0mself\u001B[0m\u001B[0;34m.\u001B[0m\u001B[0mdo_wait_suspend\u001B[0m\u001B[0;34m(\u001B[0m\u001B[0mthread\u001B[0m\u001B[0;34m,\u001B[0m \u001B[0mframe\u001B[0m\u001B[0;34m,\u001B[0m \u001B[0mevent\u001B[0m\u001B[0;34m,\u001B[0m \u001B[0marg\u001B[0m\u001B[0;34m)\u001B[0m\u001B[0;34m\u001B[0m\u001B[0;34m\u001B[0m\u001B[0m\n\u001B[0m\u001B[1;32m    722\u001B[0m                     \u001B[0;31m# No need to reset frame.f_trace to keep the same trace function.\u001B[0m\u001B[0;34m\u001B[0m\u001B[0;34m\u001B[0m\u001B[0;34m\u001B[0m\u001B[0m\n\u001B[1;32m    723\u001B[0m                     \u001B[0;32mreturn\u001B[0m \u001B[0mself\u001B[0m\u001B[0;34m.\u001B[0m\u001B[0mtrace_dispatch\u001B[0m\u001B[0;34m\u001B[0m\u001B[0;34m\u001B[0m\u001B[0m\n",
      "\u001B[0;32m~/pycharm/plugins/python/helpers/pydev/_pydevd_bundle/pydevd_frame.py\u001B[0m in \u001B[0;36mdo_wait_suspend\u001B[0;34m(self, *args, **kwargs)\u001B[0m\n\u001B[1;32m    142\u001B[0m \u001B[0;34m\u001B[0m\u001B[0m\n\u001B[1;32m    143\u001B[0m     \u001B[0;32mdef\u001B[0m \u001B[0mdo_wait_suspend\u001B[0m\u001B[0;34m(\u001B[0m\u001B[0mself\u001B[0m\u001B[0;34m,\u001B[0m \u001B[0;34m*\u001B[0m\u001B[0margs\u001B[0m\u001B[0;34m,\u001B[0m \u001B[0;34m**\u001B[0m\u001B[0mkwargs\u001B[0m\u001B[0;34m)\u001B[0m\u001B[0;34m:\u001B[0m\u001B[0;34m\u001B[0m\u001B[0;34m\u001B[0m\u001B[0m\n\u001B[0;32m--> 144\u001B[0;31m         \u001B[0mself\u001B[0m\u001B[0;34m.\u001B[0m\u001B[0m_args\u001B[0m\u001B[0;34m[\u001B[0m\u001B[0;36m0\u001B[0m\u001B[0;34m]\u001B[0m\u001B[0;34m.\u001B[0m\u001B[0mdo_wait_suspend\u001B[0m\u001B[0;34m(\u001B[0m\u001B[0;34m*\u001B[0m\u001B[0margs\u001B[0m\u001B[0;34m,\u001B[0m \u001B[0;34m**\u001B[0m\u001B[0mkwargs\u001B[0m\u001B[0;34m)\u001B[0m\u001B[0;34m\u001B[0m\u001B[0;34m\u001B[0m\u001B[0m\n\u001B[0m\u001B[1;32m    145\u001B[0m \u001B[0;34m\u001B[0m\u001B[0m\n\u001B[1;32m    146\u001B[0m     \u001B[0;31m# IFDEF CYTHON\u001B[0m\u001B[0;34m\u001B[0m\u001B[0;34m\u001B[0m\u001B[0;34m\u001B[0m\u001B[0m\n",
      "\u001B[0;32m~/pycharm/plugins/python/helpers/pydev/pydevd.py\u001B[0m in \u001B[0;36mdo_wait_suspend\u001B[0;34m(self, thread, frame, event, arg, send_suspend_message, is_unhandled_exception)\u001B[0m\n\u001B[1;32m   1101\u001B[0m \u001B[0;34m\u001B[0m\u001B[0m\n\u001B[1;32m   1102\u001B[0m         \u001B[0;32mwith\u001B[0m \u001B[0mself\u001B[0m\u001B[0;34m.\u001B[0m\u001B[0m_threads_suspended_single_notification\u001B[0m\u001B[0;34m.\u001B[0m\u001B[0mnotify_thread_suspended\u001B[0m\u001B[0;34m(\u001B[0m\u001B[0mthread_id\u001B[0m\u001B[0;34m,\u001B[0m \u001B[0mstop_reason\u001B[0m\u001B[0;34m)\u001B[0m\u001B[0;34m:\u001B[0m\u001B[0;34m\u001B[0m\u001B[0;34m\u001B[0m\u001B[0m\n\u001B[0;32m-> 1103\u001B[0;31m             \u001B[0mself\u001B[0m\u001B[0;34m.\u001B[0m\u001B[0m_do_wait_suspend\u001B[0m\u001B[0;34m(\u001B[0m\u001B[0mthread\u001B[0m\u001B[0;34m,\u001B[0m \u001B[0mframe\u001B[0m\u001B[0;34m,\u001B[0m \u001B[0mevent\u001B[0m\u001B[0;34m,\u001B[0m \u001B[0marg\u001B[0m\u001B[0;34m,\u001B[0m \u001B[0msuspend_type\u001B[0m\u001B[0;34m,\u001B[0m \u001B[0mfrom_this_thread\u001B[0m\u001B[0;34m)\u001B[0m\u001B[0;34m\u001B[0m\u001B[0;34m\u001B[0m\u001B[0m\n\u001B[0m\u001B[1;32m   1104\u001B[0m \u001B[0;34m\u001B[0m\u001B[0m\n\u001B[1;32m   1105\u001B[0m     \u001B[0;32mdef\u001B[0m \u001B[0m_do_wait_suspend\u001B[0m\u001B[0;34m(\u001B[0m\u001B[0mself\u001B[0m\u001B[0;34m,\u001B[0m \u001B[0mthread\u001B[0m\u001B[0;34m,\u001B[0m \u001B[0mframe\u001B[0m\u001B[0;34m,\u001B[0m \u001B[0mevent\u001B[0m\u001B[0;34m,\u001B[0m \u001B[0marg\u001B[0m\u001B[0;34m,\u001B[0m \u001B[0msuspend_type\u001B[0m\u001B[0;34m,\u001B[0m \u001B[0mfrom_this_thread\u001B[0m\u001B[0;34m)\u001B[0m\u001B[0;34m:\u001B[0m\u001B[0;34m\u001B[0m\u001B[0;34m\u001B[0m\u001B[0m\n",
      "\u001B[0;32m~/pycharm/plugins/python/helpers/pydev/pydevd.py\u001B[0m in \u001B[0;36m_do_wait_suspend\u001B[0;34m(self, thread, frame, event, arg, suspend_type, from_this_thread)\u001B[0m\n\u001B[1;32m   1116\u001B[0m \u001B[0;34m\u001B[0m\u001B[0m\n\u001B[1;32m   1117\u001B[0m                 \u001B[0mself\u001B[0m\u001B[0;34m.\u001B[0m\u001B[0mprocess_internal_commands\u001B[0m\u001B[0;34m(\u001B[0m\u001B[0;34m)\u001B[0m\u001B[0;34m\u001B[0m\u001B[0;34m\u001B[0m\u001B[0m\n\u001B[0;32m-> 1118\u001B[0;31m                 \u001B[0mtime\u001B[0m\u001B[0;34m.\u001B[0m\u001B[0msleep\u001B[0m\u001B[0;34m(\u001B[0m\u001B[0;36m0.01\u001B[0m\u001B[0;34m)\u001B[0m\u001B[0;34m\u001B[0m\u001B[0;34m\u001B[0m\u001B[0m\n\u001B[0m\u001B[1;32m   1119\u001B[0m \u001B[0;34m\u001B[0m\u001B[0m\n\u001B[1;32m   1120\u001B[0m         \u001B[0mself\u001B[0m\u001B[0;34m.\u001B[0m\u001B[0mcancel_async_evaluation\u001B[0m\u001B[0;34m(\u001B[0m\u001B[0mget_current_thread_id\u001B[0m\u001B[0;34m(\u001B[0m\u001B[0mthread\u001B[0m\u001B[0;34m)\u001B[0m\u001B[0;34m,\u001B[0m \u001B[0mstr\u001B[0m\u001B[0;34m(\u001B[0m\u001B[0mid\u001B[0m\u001B[0;34m(\u001B[0m\u001B[0mframe\u001B[0m\u001B[0;34m)\u001B[0m\u001B[0;34m)\u001B[0m\u001B[0;34m)\u001B[0m\u001B[0;34m\u001B[0m\u001B[0;34m\u001B[0m\u001B[0m\n",
      "\u001B[0;31mKeyboardInterrupt\u001B[0m: "
     ]
    }
   ],
   "source": [
    "import matplotlib.pyplot as plt\n",
    "from src.training_evaluation import Statistics\n",
    "\n",
    "training_parameters[\"save_path\"] = \"./exp-019-german-no-fairness\"\n",
    "training_parameters[\"model\"][\"initial_lambda\"] = 0.0\n",
    "\n",
    "statistics, _, run_path = train(training_parameters, iterations=1, asynchronous=False)\n",
    "\n",
    "plot_mean(statistics, \"{}/results_mean_time.png\".format(run_path))\n",
    "plot_median(statistics, \"{}/results_median_time.png\".format(run_path))\n",
    "\n",
    "plt.plot(statistics.results[Statistics.X_VALUES], statistics.performance(Statistics.ACCURACY, Statistics.MEDIAN))\n",
    "plt.savefig(\"{}/acc.png\".format(run_path))"
   ]
  },
  {
   "cell_type": "code",
   "execution_count": null,
   "metadata": {},
   "outputs": [],
   "source": [
    "import matplotlib.pyplot as plt\n",
    "from src.training_evaluation import Statistics\n",
    "\n",
    "training_parameters[\"save_path\"] = \"./exp-019-german-benefit-lambda-sweep\"\n",
    "lambdas = np.logspace(-1, 1, base=10, endpoint=True, num=10)\n",
    "lambdas = np.insert(arr=lambdas, obj=0, values=[0.0])\n",
    "training_parameters[\"model\"][\"initial_lambda\"] = lambdas\n",
    "\n",
    "statistics, model_parameters, run_path = train(training_parameters, iterations=5, asynchronous=True)\n",
    "\n",
    "plot_mean(statistics, \"{}/results_mean_lambdas.png\".format(run_path))\n",
    "plot_median(statistics, \"{}/results_median_lambdas.png\".format(run_path))\n",
    "\n",
    "plt.plot(statistics.results[Statistics.X_VALUES], statistics.performance(Statistics.ACCURACY, Statistics.MEDIAN))\n",
    "plt.savefig(\"{}/acc.png\".format(run_path))"
   ]
  },
  {
   "cell_type": "code",
   "execution_count": null,
   "metadata": {
    "pycharm": {
     "is_executing": false,
     "name": "#%%\n"
    }
   },
   "outputs": [],
   "source": [
    "training_parameters[\"save_path\"] = \"./exp-019-german-benefit-dual-gradient\"\n",
    "training_parameters[\"model\"][\"initial_lambda\"] = 0.0\n",
    "training_parameters[\"lagrangian_optimization\"] = {\n",
    "    'iterations': 20,\n",
    "    'epochs': 1,\n",
    "    'batch_size':256,\n",
    "    'learning_rate': 3,\n",
    "    'decay_rate': 1,\n",
    "    'decay_step': 1000000,\n",
    "    'num_decisions': 128 * 512\n",
    "}\n",
    "\n",
    "statistics, model_parameters, run_path = train(training_parameters, iterations=30, asynchronous=True)\n",
    "\n",
    "plot_mean(statistics, \"{}/results_mean_lambdas.png\".format(run_path), model_parameters=model_parameters)\n",
    "plot_median(statistics, \"{}/results_median_lambdas.png\".format(run_path), model_parameters=model_parameters)"
   ]
  },
  {
   "cell_type": "markdown",
   "source": [
    "# Covariance of decision"
   ],
   "metadata": {
    "collapsed": false
   }
  },
  {
   "cell_type": "code",
   "execution_count": null,
   "outputs": [],
   "source": [
    "def calc_covariance(x, s, policy, ips_weights, decisions):    \n",
    "    new_s = 1 - (2*s)\n",
    "    \n",
    "    if ips_weights is not None:\n",
    "        mu_s = np.mean(new_s * ips_weights, axis=0)\n",
    "        decisions *= ips_weights\n",
    "    else:\n",
    "        mu_s = np.mean(new_s, axis=0)\n",
    "\n",
    "    covariance = (new_s - mu_s) * decisions\n",
    "    return covariance\n",
    "\n",
    "def fairness_gradient_function(**fairness_kwargs):\n",
    "    policy = fairness_kwargs[\"policy\"]\n",
    "    x = fairness_kwargs[\"x\"]\n",
    "    s = fairness_kwargs[\"s\"]\n",
    "    ips_weights = fairness_kwargs[\"ips_weights\"]\n",
    "    decisions = fairness_kwargs[\"decisions\"]\n",
    "    \n",
    "    covariance = calc_covariance(x, s, policy, ips_weights,decisions)\n",
    "\n",
    "    log_policy_gradient = policy.log_policy_gradient(x, s)\n",
    "    covariance_grad = log_policy_gradient * covariance\n",
    "\n",
    "    return np.mean(covariance_grad, axis=0)\n",
    "\n",
    "def fairness_function(**fairness_kwargs):\n",
    "    policy = fairness_kwargs[\"policy\"]\n",
    "    x = fairness_kwargs[\"x\"]\n",
    "    s = fairness_kwargs[\"s\"]\n",
    "    ips_weights = fairness_kwargs[\"ips_weights\"]\n",
    "    decisions = fairness_kwargs[\"decisions\"]\n",
    "    \n",
    "    covariance = calc_covariance(x, s, policy, ips_weights,decisions)\n",
    "    return np.mean(covariance, axis=0)\n",
    "\n",
    "bias = True\n",
    "distribution = GermanCreditDistribution(bias=bias, test_percentage=0.2)\n",
    "dim_theta = distribution.feature_dim\n",
    "\n",
    "print(dim_theta)\n",
    "\n",
    "def util_func(**util_params):\n",
    "    util = cost_utility(cost_factor=0.8, **util_params)\n",
    "    return util\n",
    "\n",
    "training_parameters = {\n",
    "    'model':{\n",
    "        'utility_function': util_func,\n",
    "        'fairness_function': fairness_function,\n",
    "        'fairness_gradient_function': fairness_gradient_function,\n",
    "        'feature_map': IdentityFeatureMap(dim_theta),\n",
    "        'learn_on_entire_history': False,\n",
    "        'use_sensitve_attributes': False,\n",
    "        'bias': bias,\n",
    "        'initial_theta': np.zeros((dim_theta))\n",
    "    },\n",
    "    'distribution': distribution,\n",
    "    'parameter_optimization': {\n",
    "        'time_steps':50,\n",
    "        'epochs': 1,\n",
    "        'batch_size':256,\n",
    "        'learning_rate': 0.01,\n",
    "        'decay_rate': 1,\n",
    "        'decay_step': 10000,\n",
    "        'num_batches': 128,\n",
    "        'fix_seeds': True\n",
    "    },\n",
    "    'test': {\n",
    "        'num_samples': 8192\n",
    "    }\n",
    "}"
   ],
   "metadata": {
    "collapsed": false,
    "pycharm": {
     "name": "#%%\n"
    }
   }
  },
  {
   "cell_type": "code",
   "execution_count": null,
   "outputs": [],
   "source": [
    "training_parameters[\"save_path\"] = \"./exp-019-german-covdecision-lambda-sweep\"\n",
    "lambdas = np.logspace(-2, 2, base=10, endpoint=True, num=10)\n",
    "lambdas = np.insert(arr=lambdas, obj=0, values=[0.0])\n",
    "training_parameters[\"model\"][\"initial_lambda\"] = lambdas\n",
    "\n",
    "statistics, model_parameters, run_path = train(training_parameters, iterations=10, asynchronous=True)\n",
    "\n",
    "plot_mean(statistics, \"{}/results_mean_lambdas.png\".format(run_path))\n",
    "plot_median(statistics, \"{}/results_median_lambdas.png\".format(run_path))\n",
    "\n",
    "plt.plot(statistics.results[Statistics.X_VALUES], statistics.performance(Statistics.ACCURACY, Statistics.MEDIAN))\n",
    "plt.savefig(\"{}/acc.png\".format(run_path))\n"
   ],
   "metadata": {
    "collapsed": false,
    "pycharm": {
     "name": "#%%\n"
    }
   }
  },
  {
   "cell_type": "markdown",
   "source": [
    "## Benefit difference (equality of opportunity)"
   ],
   "metadata": {
    "collapsed": false
   }
  },
  {
   "cell_type": "code",
   "execution_count": null,
   "outputs": [],
   "source": [
    "def calc_benefit(decisions, y, ips_weights):\n",
    "    if ips_weights is not None:\n",
    "        decisions *= ips_weights\n",
    "\n",
    "    return decisions\n",
    "\n",
    "def fairness_gradient_function(**fairness_kwargs):\n",
    "    policy = fairness_kwargs[\"policy\"]\n",
    "    x = fairness_kwargs[\"x\"]\n",
    "    s = fairness_kwargs[\"s\"]\n",
    "    y = fairness_kwargs[\"y\"]\n",
    "    decisions = fairness_kwargs[\"decisions\"]\n",
    "    ips_weights = fairness_kwargs[\"ips_weights\"]\n",
    "    benefit = calc_benefit(decisions, y, ips_weights)\n",
    "    \n",
    "    y1_indices = np.where(y == 1)\n",
    "\n",
    "    log_gradient = policy.log_policy_gradient(x, s)\n",
    "    benefit_grad = log_gradient * benefit\n",
    "        \n",
    "    return mean_difference(benefit_grad[y1_indices], s[y1_indices])\n",
    "\n",
    "def fairness_function(**fairness_kwargs):\n",
    "    s = fairness_kwargs[\"s\"]\n",
    "    y = fairness_kwargs[\"y\"]\n",
    "    decisions = fairness_kwargs[\"decisions\"]\n",
    "    ips_weights = fairness_kwargs[\"ips_weights\"]\n",
    "    benefit = calc_benefit(decisions, y, ips_weights)\n",
    "    \n",
    "    y1_indices = np.where(y == 1)\n",
    "        \n",
    "    return mean_difference(benefit[y1_indices], s[y1_indices])\n",
    "\n",
    "\n",
    "bias = True\n",
    "distribution = GermanCreditDistribution(bias=bias, test_percentage=0.2)\n",
    "dim_theta = distribution.feature_dim\n",
    "\n",
    "print(dim_theta)\n",
    "\n",
    "def util_func(**util_params):\n",
    "    util = cost_utility(cost_factor=0.8, **util_params)\n",
    "    return util\n",
    "\n",
    "training_parameters = {\n",
    "    'model':{\n",
    "        'utility_function': util_func,\n",
    "        'fairness_function': fairness_function,\n",
    "        'fairness_gradient_function': fairness_gradient_function,\n",
    "        'feature_map': IdentityFeatureMap(dim_theta),\n",
    "        'learn_on_entire_history': False,\n",
    "        'use_sensitve_attributes': False,\n",
    "        'bias': bias,\n",
    "        'initial_theta': np.zeros((dim_theta))\n",
    "    },\n",
    "    'distribution': distribution,\n",
    "    'parameter_optimization': {\n",
    "        'time_steps':50,\n",
    "        'epochs': 1,\n",
    "        'batch_size':256,\n",
    "        'learning_rate': 0.01,\n",
    "        'decay_rate': 1,\n",
    "        'decay_step': 10000,\n",
    "        'num_batches': 128,\n",
    "        'fix_seeds': True\n",
    "    },\n",
    "    'test': {\n",
    "        'num_samples': 8192\n",
    "    }\n",
    "}\n"
   ],
   "metadata": {
    "collapsed": false,
    "pycharm": {
     "name": "#%%\n"
    }
   }
  },
  {
   "cell_type": "code",
   "execution_count": null,
   "outputs": [],
   "source": [
    "training_parameters[\"save_path\"] = \"./exp-019-german-covdecision-lambda-sweep\"\n",
    "lambdas = np.logspace(-2, 2, base=10, endpoint=True, num=10)\n",
    "lambdas = np.insert(arr=lambdas, obj=0, values=[0.0])\n",
    "training_parameters[\"model\"][\"initial_lambda\"] = lambdas\n",
    "\n",
    "statistics, model_parameters, run_path = train(training_parameters, iterations=10, asynchronous=True)\n",
    "\n",
    "plot_mean(statistics, \"{}/results_mean_lambdas.png\".format(run_path))\n",
    "plot_median(statistics, \"{}/results_median_lambdas.png\".format(run_path))\n",
    "\n",
    "plt.plot(statistics.results[Statistics.X_VALUES], statistics.performance(Statistics.ACCURACY, Statistics.MEDIAN))\n",
    "plt.savefig(\"{}/acc.png\".format(run_path))"
   ],
   "metadata": {
    "collapsed": false,
    "pycharm": {
     "name": "#%%\n"
    }
   }
  }
 ],
 "metadata": {
  "file_extension": ".py",
  "kernelspec": {
   "name": "python3",
   "language": "python",
   "display_name": "Python 3"
  },
  "language_info": {
   "codemirror_mode": {
    "name": "ipython",
    "version": 3
   },
   "file_extension": ".py",
   "mimetype": "text/x-python",
   "name": "python",
   "nbconvert_exporter": "python",
   "pygments_lexer": "ipython3",
   "version": "3.7.4-final"
  },
  "mimetype": "text/x-python",
  "name": "python",
  "npconvert_exporter": "python",
  "pygments_lexer": "ipython3",
  "version": 3
 },
 "nbformat": 4,
 "nbformat_minor": 2
}